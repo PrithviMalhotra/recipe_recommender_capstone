{
 "cells": [
  {
   "cell_type": "markdown",
   "id": "dc05285c",
   "metadata": {},
   "source": [
    "# Recipe Recommendation System: Data Preparation"
   ]
  },
  {
   "cell_type": "markdown",
   "id": "f6abc337",
   "metadata": {},
   "source": [
    "Author: Kelly Li\n"
   ]
  },
  {
   "cell_type": "markdown",
   "id": "8753194c",
   "metadata": {},
   "source": [
    "## Table of contents:\n",
    "* [1 Introduction](#one)\n",
    "* [2 Dataset](#two)\n",
    "    * [2.1 Data Sources](#twoone)\n",
    "    * [2.2 Data Loading](#twotwo)\n",
    "* [3 Data Cleaning](#three)\n",
    "    * [3.1 Data Types](#threeone) \n",
    "    * [3.2 Missing Data](#threetwo)\n",
    "    * [3.3 Duplicate Data](#threethree)\n",
    "* [4 Data Preprocessing](#four)\n",
    "    * [4.1 Column Splitting](#fourone) \n",
    "* [5 Conclusion](#five)\n",
    "\n",
    "-------------------------------------------------------------------------------------------------------------------------------"
   ]
  },
  {
   "cell_type": "markdown",
   "id": "7b43e23a",
   "metadata": {},
   "source": [
    "## 1 Introduction <a class=\"anchor\" id=\"one\"></a>"
   ]
  },
  {
   "cell_type": "markdown",
   "id": "1f2c33d4",
   "metadata": {},
   "source": [
    "Cooking enthusiasts often face challenges in finding personalized and diverse recipes that align with their tastes, dietar restrictions, and ingredient preferences. The existing search process is time-consuming, lacks inspiration, and fails to cater to specific dietary needs. To address these challenges, we have developed a recipe recommendation system that aids in recipe discovery, focusing on providing inspiration and catering to specific dietary needs. By leveraging advanced algorithms, it curates personalized recipe suggestions that ignite culinary creativity while considering unique tasts and dietary requirements. Wecome a world a culinary inspiration with"
   ]
  },
  {
   "cell_type": "markdown",
   "id": "2871e342",
   "metadata": {},
   "source": [
    "## 2 Data Preparation <a class=\"anchor\" id=\"two\"></a>"
   ]
  },
  {
   "cell_type": "markdown",
   "id": "9ee7db14",
   "metadata": {},
   "source": [
    "### 2.1 Data Sources <a class=\"anchor\" id=\"twoone\"></a>"
   ]
  },
  {
   "cell_type": "markdown",
   "id": "cee93547",
   "metadata": {},
   "source": [
    "Here's a data dictionary for the columns in the raw recipe dataset:\n",
    "\n",
    "| Column Name   | Description                                               |\n",
    "| ------------- | --------------------------------------------------------- |\n",
    "| name          | The name of the recipe.                                   |\n",
    "| id            | The unique identifier of the recipe.                       |\n",
    "| minutes       | The total cooking and preparation time in minutes.         |\n",
    "| contributor_id| The unique identifier of the user who submitted the recipe|\n",
    "| submitted     | The date when the recipe was submitted.                    |\n",
    "| tags          | Tags or labels associated with the recipe (e.g., vegetarian, vegan, dessert). |\n",
    "| nutrition     | Nutritional information (i.e. calories (#), total fat (PDV), sugar (PDV) , sodium (PDV) , protein (PDV) , saturated fat). |\n",
    "| n_steps       | The total number of steps or instructions in the recipe.   |\n",
    "| steps         | The step-by-step instructions for preparing the recipe.    |\n",
    "| description   | A brief description or summary of the recipe.              |\n",
    "| ingredients   | The list of ingredients required for the recipe.           |\n",
    "| n_ingredients | The total number of ingredients used in the recipe.        |"
   ]
  },
  {
   "cell_type": "markdown",
   "id": "07dd9dc6",
   "metadata": {},
   "source": [
    "Here's a data dictionary for the columns in the raw user interactions dataset:\n",
    "\n",
    "| Column Name | Description                                          |\n",
    "| ----------- | ---------------------------------------------------- |\n",
    "| user_id     | The unique identifier of the user.                    |\n",
    "| recipe_id   | The unique identifier of the recipe associated with the user's interaction. |\n",
    "| date        | The date when the user's interaction took place.      |\n",
    "| rating      | The rating given by the user for the recipe.          |\n",
    "| review      | The review or feedback provided by the user for the recipe. |"
   ]
  },
  {
   "cell_type": "markdown",
   "id": "f685213c",
   "metadata": {},
   "source": [
    "### 2.2 Data Loading <a class=\"anchor\" id=\"twotwo\"></a>"
   ]
  },
  {
   "cell_type": "code",
   "execution_count": 1,
   "id": "ea442b77",
   "metadata": {},
   "outputs": [],
   "source": [
    "# Import libraries\n",
    "import numpy as np\n",
    "import pandas as pd\n",
    "import matplotlib.pyplot as plt\n",
    "import seaborn as sns"
   ]
  },
  {
   "cell_type": "code",
   "execution_count": 2,
   "id": "5a92abe3",
   "metadata": {},
   "outputs": [],
   "source": [
    "# Read the raw datasets\n",
    "raw_recipes_df = pd.read_csv('RAW_recipes.csv')\n",
    "raw_users_df = pd.read_csv('RAW_interactions.csv')"
   ]
  },
  {
   "cell_type": "code",
   "execution_count": 3,
   "id": "62f39081",
   "metadata": {},
   "outputs": [
    {
     "name": "stdout",
     "output_type": "stream",
     "text": [
      "The shape of the recipe dataset is: (231637, 12)\n",
      "The shape of the user interactions dataset is: (1132367, 5)\n"
     ]
    }
   ],
   "source": [
    "# Shape of the data\n",
    "print('The shape of the recipe dataset is:', raw_recipes_df.shape)\n",
    "print('The shape of the user interactions dataset is:', raw_users_df.shape)"
   ]
  },
  {
   "cell_type": "code",
   "execution_count": 4,
   "id": "cdf3805c",
   "metadata": {
    "scrolled": false
   },
   "outputs": [
    {
     "data": {
      "text/html": [
       "<div>\n",
       "<style scoped>\n",
       "    .dataframe tbody tr th:only-of-type {\n",
       "        vertical-align: middle;\n",
       "    }\n",
       "\n",
       "    .dataframe tbody tr th {\n",
       "        vertical-align: top;\n",
       "    }\n",
       "\n",
       "    .dataframe thead th {\n",
       "        text-align: right;\n",
       "    }\n",
       "</style>\n",
       "<table border=\"1\" class=\"dataframe\">\n",
       "  <thead>\n",
       "    <tr style=\"text-align: right;\">\n",
       "      <th></th>\n",
       "      <th>name</th>\n",
       "      <th>id</th>\n",
       "      <th>minutes</th>\n",
       "      <th>contributor_id</th>\n",
       "      <th>submitted</th>\n",
       "      <th>tags</th>\n",
       "      <th>nutrition</th>\n",
       "      <th>n_steps</th>\n",
       "      <th>steps</th>\n",
       "      <th>description</th>\n",
       "      <th>ingredients</th>\n",
       "      <th>n_ingredients</th>\n",
       "    </tr>\n",
       "  </thead>\n",
       "  <tbody>\n",
       "    <tr>\n",
       "      <th>0</th>\n",
       "      <td>arriba   baked winter squash mexican style</td>\n",
       "      <td>137739</td>\n",
       "      <td>55</td>\n",
       "      <td>47892</td>\n",
       "      <td>2005-09-16</td>\n",
       "      <td>['60-minutes-or-less', 'time-to-make', 'course...</td>\n",
       "      <td>[51.5, 0.0, 13.0, 0.0, 2.0, 0.0, 4.0]</td>\n",
       "      <td>11</td>\n",
       "      <td>['make a choice and proceed with recipe', 'dep...</td>\n",
       "      <td>autumn is my favorite time of year to cook! th...</td>\n",
       "      <td>['winter squash', 'mexican seasoning', 'mixed ...</td>\n",
       "      <td>7</td>\n",
       "    </tr>\n",
       "    <tr>\n",
       "      <th>1</th>\n",
       "      <td>a bit different  breakfast pizza</td>\n",
       "      <td>31490</td>\n",
       "      <td>30</td>\n",
       "      <td>26278</td>\n",
       "      <td>2002-06-17</td>\n",
       "      <td>['30-minutes-or-less', 'time-to-make', 'course...</td>\n",
       "      <td>[173.4, 18.0, 0.0, 17.0, 22.0, 35.0, 1.0]</td>\n",
       "      <td>9</td>\n",
       "      <td>['preheat oven to 425 degrees f', 'press dough...</td>\n",
       "      <td>this recipe calls for the crust to be prebaked...</td>\n",
       "      <td>['prepared pizza crust', 'sausage patty', 'egg...</td>\n",
       "      <td>6</td>\n",
       "    </tr>\n",
       "    <tr>\n",
       "      <th>2</th>\n",
       "      <td>all in the kitchen  chili</td>\n",
       "      <td>112140</td>\n",
       "      <td>130</td>\n",
       "      <td>196586</td>\n",
       "      <td>2005-02-25</td>\n",
       "      <td>['time-to-make', 'course', 'preparation', 'mai...</td>\n",
       "      <td>[269.8, 22.0, 32.0, 48.0, 39.0, 27.0, 5.0]</td>\n",
       "      <td>6</td>\n",
       "      <td>['brown ground beef in large pot', 'add choppe...</td>\n",
       "      <td>this modified version of 'mom's' chili was a h...</td>\n",
       "      <td>['ground beef', 'yellow onions', 'diced tomato...</td>\n",
       "      <td>13</td>\n",
       "    </tr>\n",
       "    <tr>\n",
       "      <th>3</th>\n",
       "      <td>alouette  potatoes</td>\n",
       "      <td>59389</td>\n",
       "      <td>45</td>\n",
       "      <td>68585</td>\n",
       "      <td>2003-04-14</td>\n",
       "      <td>['60-minutes-or-less', 'time-to-make', 'course...</td>\n",
       "      <td>[368.1, 17.0, 10.0, 2.0, 14.0, 8.0, 20.0]</td>\n",
       "      <td>11</td>\n",
       "      <td>['place potatoes in a large pot of lightly sal...</td>\n",
       "      <td>this is a super easy, great tasting, make ahea...</td>\n",
       "      <td>['spreadable cheese with garlic and herbs', 'n...</td>\n",
       "      <td>11</td>\n",
       "    </tr>\n",
       "    <tr>\n",
       "      <th>4</th>\n",
       "      <td>amish  tomato ketchup  for canning</td>\n",
       "      <td>44061</td>\n",
       "      <td>190</td>\n",
       "      <td>41706</td>\n",
       "      <td>2002-10-25</td>\n",
       "      <td>['weeknight', 'time-to-make', 'course', 'main-...</td>\n",
       "      <td>[352.9, 1.0, 337.0, 23.0, 3.0, 0.0, 28.0]</td>\n",
       "      <td>5</td>\n",
       "      <td>['mix all ingredients&amp; boil for 2 1 / 2 hours ...</td>\n",
       "      <td>my dh's amish mother raised him on this recipe...</td>\n",
       "      <td>['tomato juice', 'apple cider vinegar', 'sugar...</td>\n",
       "      <td>8</td>\n",
       "    </tr>\n",
       "  </tbody>\n",
       "</table>\n",
       "</div>"
      ],
      "text/plain": [
       "                                         name      id  minutes  \\\n",
       "0  arriba   baked winter squash mexican style  137739       55   \n",
       "1            a bit different  breakfast pizza   31490       30   \n",
       "2                   all in the kitchen  chili  112140      130   \n",
       "3                          alouette  potatoes   59389       45   \n",
       "4          amish  tomato ketchup  for canning   44061      190   \n",
       "\n",
       "   contributor_id   submitted  \\\n",
       "0           47892  2005-09-16   \n",
       "1           26278  2002-06-17   \n",
       "2          196586  2005-02-25   \n",
       "3           68585  2003-04-14   \n",
       "4           41706  2002-10-25   \n",
       "\n",
       "                                                tags  \\\n",
       "0  ['60-minutes-or-less', 'time-to-make', 'course...   \n",
       "1  ['30-minutes-or-less', 'time-to-make', 'course...   \n",
       "2  ['time-to-make', 'course', 'preparation', 'mai...   \n",
       "3  ['60-minutes-or-less', 'time-to-make', 'course...   \n",
       "4  ['weeknight', 'time-to-make', 'course', 'main-...   \n",
       "\n",
       "                                    nutrition  n_steps  \\\n",
       "0       [51.5, 0.0, 13.0, 0.0, 2.0, 0.0, 4.0]       11   \n",
       "1   [173.4, 18.0, 0.0, 17.0, 22.0, 35.0, 1.0]        9   \n",
       "2  [269.8, 22.0, 32.0, 48.0, 39.0, 27.0, 5.0]        6   \n",
       "3   [368.1, 17.0, 10.0, 2.0, 14.0, 8.0, 20.0]       11   \n",
       "4   [352.9, 1.0, 337.0, 23.0, 3.0, 0.0, 28.0]        5   \n",
       "\n",
       "                                               steps  \\\n",
       "0  ['make a choice and proceed with recipe', 'dep...   \n",
       "1  ['preheat oven to 425 degrees f', 'press dough...   \n",
       "2  ['brown ground beef in large pot', 'add choppe...   \n",
       "3  ['place potatoes in a large pot of lightly sal...   \n",
       "4  ['mix all ingredients& boil for 2 1 / 2 hours ...   \n",
       "\n",
       "                                         description  \\\n",
       "0  autumn is my favorite time of year to cook! th...   \n",
       "1  this recipe calls for the crust to be prebaked...   \n",
       "2  this modified version of 'mom's' chili was a h...   \n",
       "3  this is a super easy, great tasting, make ahea...   \n",
       "4  my dh's amish mother raised him on this recipe...   \n",
       "\n",
       "                                         ingredients  n_ingredients  \n",
       "0  ['winter squash', 'mexican seasoning', 'mixed ...              7  \n",
       "1  ['prepared pizza crust', 'sausage patty', 'egg...              6  \n",
       "2  ['ground beef', 'yellow onions', 'diced tomato...             13  \n",
       "3  ['spreadable cheese with garlic and herbs', 'n...             11  \n",
       "4  ['tomato juice', 'apple cider vinegar', 'sugar...              8  "
      ]
     },
     "execution_count": 4,
     "metadata": {},
     "output_type": "execute_result"
    }
   ],
   "source": [
    "# View recipes dataset\n",
    "raw_recipes_df.head()"
   ]
  },
  {
   "cell_type": "code",
   "execution_count": 5,
   "id": "9ccc0a7b",
   "metadata": {},
   "outputs": [
    {
     "data": {
      "text/html": [
       "<div>\n",
       "<style scoped>\n",
       "    .dataframe tbody tr th:only-of-type {\n",
       "        vertical-align: middle;\n",
       "    }\n",
       "\n",
       "    .dataframe tbody tr th {\n",
       "        vertical-align: top;\n",
       "    }\n",
       "\n",
       "    .dataframe thead th {\n",
       "        text-align: right;\n",
       "    }\n",
       "</style>\n",
       "<table border=\"1\" class=\"dataframe\">\n",
       "  <thead>\n",
       "    <tr style=\"text-align: right;\">\n",
       "      <th></th>\n",
       "      <th>user_id</th>\n",
       "      <th>recipe_id</th>\n",
       "      <th>date</th>\n",
       "      <th>rating</th>\n",
       "      <th>review</th>\n",
       "    </tr>\n",
       "  </thead>\n",
       "  <tbody>\n",
       "    <tr>\n",
       "      <th>0</th>\n",
       "      <td>38094</td>\n",
       "      <td>40893</td>\n",
       "      <td>2003-02-17</td>\n",
       "      <td>4</td>\n",
       "      <td>Great with a salad. Cooked on top of stove for...</td>\n",
       "    </tr>\n",
       "    <tr>\n",
       "      <th>1</th>\n",
       "      <td>1293707</td>\n",
       "      <td>40893</td>\n",
       "      <td>2011-12-21</td>\n",
       "      <td>5</td>\n",
       "      <td>So simple, so delicious! Great for chilly fall...</td>\n",
       "    </tr>\n",
       "    <tr>\n",
       "      <th>2</th>\n",
       "      <td>8937</td>\n",
       "      <td>44394</td>\n",
       "      <td>2002-12-01</td>\n",
       "      <td>4</td>\n",
       "      <td>This worked very well and is EASY.  I used not...</td>\n",
       "    </tr>\n",
       "    <tr>\n",
       "      <th>3</th>\n",
       "      <td>126440</td>\n",
       "      <td>85009</td>\n",
       "      <td>2010-02-27</td>\n",
       "      <td>5</td>\n",
       "      <td>I made the Mexican topping and took it to bunk...</td>\n",
       "    </tr>\n",
       "    <tr>\n",
       "      <th>4</th>\n",
       "      <td>57222</td>\n",
       "      <td>85009</td>\n",
       "      <td>2011-10-01</td>\n",
       "      <td>5</td>\n",
       "      <td>Made the cheddar bacon topping, adding a sprin...</td>\n",
       "    </tr>\n",
       "  </tbody>\n",
       "</table>\n",
       "</div>"
      ],
      "text/plain": [
       "   user_id  recipe_id        date  rating  \\\n",
       "0    38094      40893  2003-02-17       4   \n",
       "1  1293707      40893  2011-12-21       5   \n",
       "2     8937      44394  2002-12-01       4   \n",
       "3   126440      85009  2010-02-27       5   \n",
       "4    57222      85009  2011-10-01       5   \n",
       "\n",
       "                                              review  \n",
       "0  Great with a salad. Cooked on top of stove for...  \n",
       "1  So simple, so delicious! Great for chilly fall...  \n",
       "2  This worked very well and is EASY.  I used not...  \n",
       "3  I made the Mexican topping and took it to bunk...  \n",
       "4  Made the cheddar bacon topping, adding a sprin...  "
      ]
     },
     "execution_count": 5,
     "metadata": {},
     "output_type": "execute_result"
    }
   ],
   "source": [
    "# View user interactions dataset\n",
    "raw_users_df.head()"
   ]
  },
  {
   "cell_type": "markdown",
   "id": "ad62a850",
   "metadata": {},
   "source": [
    "## 3 Data Cleaining <a class=\"anchor\" id=\"three\"></a>"
   ]
  },
  {
   "cell_type": "markdown",
   "id": "4a7a5c75",
   "metadata": {},
   "source": [
    "### 3.1 Data Types <a class=\"anchor\" id=\"threeone\"></a>"
   ]
  },
  {
   "cell_type": "markdown",
   "id": "f155061c",
   "metadata": {},
   "source": [
    "To gain a comprehensive understanding of the data types and identify any non-null values within the dataset, we will employ the `.info()` method."
   ]
  },
  {
   "cell_type": "code",
   "execution_count": 6,
   "id": "98f7cfb9",
   "metadata": {},
   "outputs": [
    {
     "name": "stdout",
     "output_type": "stream",
     "text": [
      "<class 'pandas.core.frame.DataFrame'>\n",
      "RangeIndex: 231637 entries, 0 to 231636\n",
      "Data columns (total 12 columns):\n",
      " #   Column          Non-Null Count   Dtype \n",
      "---  ------          --------------   ----- \n",
      " 0   name            231636 non-null  object\n",
      " 1   id              231637 non-null  int64 \n",
      " 2   minutes         231637 non-null  int64 \n",
      " 3   contributor_id  231637 non-null  int64 \n",
      " 4   submitted       231637 non-null  object\n",
      " 5   tags            231637 non-null  object\n",
      " 6   nutrition       231637 non-null  object\n",
      " 7   n_steps         231637 non-null  int64 \n",
      " 8   steps           231637 non-null  object\n",
      " 9   description     226658 non-null  object\n",
      " 10  ingredients     231637 non-null  object\n",
      " 11  n_ingredients   231637 non-null  int64 \n",
      "dtypes: int64(5), object(7)\n",
      "memory usage: 21.2+ MB\n"
     ]
    }
   ],
   "source": [
    "# Info about the recipe dataset\n",
    "raw_recipes_df.info()"
   ]
  },
  {
   "cell_type": "markdown",
   "id": "e642785a",
   "metadata": {},
   "source": [
    "The 'id' and 'contributor_id' columns are currently of `integer` data type, while the 'submitted' column is of `object` data type. To ensure consistency and facilitate data manipulation, we will convert the 'id' and 'contributor_id' columns to `object` data type. Additionally, we will convert the 'submitted' column to `datetime` data type for more convenient date-based operations."
   ]
  },
  {
   "cell_type": "code",
   "execution_count": 7,
   "id": "30e00d51",
   "metadata": {},
   "outputs": [
    {
     "name": "stdout",
     "output_type": "stream",
     "text": [
      "<class 'pandas.core.frame.DataFrame'>\n",
      "RangeIndex: 231637 entries, 0 to 231636\n",
      "Data columns (total 12 columns):\n",
      " #   Column          Non-Null Count   Dtype         \n",
      "---  ------          --------------   -----         \n",
      " 0   name            231636 non-null  object        \n",
      " 1   id              231637 non-null  object        \n",
      " 2   minutes         231637 non-null  int64         \n",
      " 3   contributor_id  231637 non-null  object        \n",
      " 4   submitted       231637 non-null  datetime64[ns]\n",
      " 5   tags            231637 non-null  object        \n",
      " 6   nutrition       231637 non-null  object        \n",
      " 7   n_steps         231637 non-null  int64         \n",
      " 8   steps           231637 non-null  object        \n",
      " 9   description     226658 non-null  object        \n",
      " 10  ingredients     231637 non-null  object        \n",
      " 11  n_ingredients   231637 non-null  int64         \n",
      "dtypes: datetime64[ns](1), int64(3), object(8)\n",
      "memory usage: 21.2+ MB\n"
     ]
    }
   ],
   "source": [
    "# Convert 'id' and 'contributor_id' columns to object data type\n",
    "raw_recipes_df['id'] = raw_recipes_df['id'].astype(str)\n",
    "raw_recipes_df['contributor_id'] = raw_recipes_df['contributor_id'].astype(str)\n",
    "\n",
    "# Convert 'submitted' column to date data type\n",
    "raw_recipes_df['submitted'] = pd.to_datetime(raw_recipes_df['submitted'], format='%Y-%m-%d')\n",
    "\n",
    "# Print updated data types of the columns\n",
    "raw_recipes_df.info()"
   ]
  },
  {
   "cell_type": "markdown",
   "id": "70751dc4",
   "metadata": {},
   "source": [
    "Let us now examine the data types within the user interactions dataset."
   ]
  },
  {
   "cell_type": "code",
   "execution_count": 8,
   "id": "f7b58434",
   "metadata": {},
   "outputs": [
    {
     "name": "stdout",
     "output_type": "stream",
     "text": [
      "<class 'pandas.core.frame.DataFrame'>\n",
      "RangeIndex: 1132367 entries, 0 to 1132366\n",
      "Data columns (total 5 columns):\n",
      " #   Column     Non-Null Count    Dtype \n",
      "---  ------     --------------    ----- \n",
      " 0   user_id    1132367 non-null  int64 \n",
      " 1   recipe_id  1132367 non-null  int64 \n",
      " 2   date       1132367 non-null  object\n",
      " 3   rating     1132367 non-null  int64 \n",
      " 4   review     1132198 non-null  object\n",
      "dtypes: int64(3), object(2)\n",
      "memory usage: 43.2+ MB\n"
     ]
    }
   ],
   "source": [
    "# Info about the recipe dataset\n",
    "raw_users_df.info()"
   ]
  },
  {
   "cell_type": "markdown",
   "id": "5d40546a",
   "metadata": {},
   "source": [
    "Similar to the recipes dataset, the 'user_id' and 'recipe_id' columns are currently of `integer` data type, while the 'date' column is of `object` data type. To ensure consistency and facilitate data manipulation, we will convert the 'user_id' and 'recipe_id' columns to `object` data type. Additionally, we will convert the 'date' column to `datetime` data type for more convenient date-based operations."
   ]
  },
  {
   "cell_type": "code",
   "execution_count": 9,
   "id": "3e281103",
   "metadata": {},
   "outputs": [
    {
     "name": "stdout",
     "output_type": "stream",
     "text": [
      "<class 'pandas.core.frame.DataFrame'>\n",
      "RangeIndex: 1132367 entries, 0 to 1132366\n",
      "Data columns (total 5 columns):\n",
      " #   Column     Non-Null Count    Dtype         \n",
      "---  ------     --------------    -----         \n",
      " 0   user_id    1132367 non-null  object        \n",
      " 1   recipe_id  1132367 non-null  object        \n",
      " 2   date       1132367 non-null  datetime64[ns]\n",
      " 3   rating     1132367 non-null  int64         \n",
      " 4   review     1132198 non-null  object        \n",
      "dtypes: datetime64[ns](1), int64(1), object(3)\n",
      "memory usage: 43.2+ MB\n"
     ]
    }
   ],
   "source": [
    "# Convert 'user_id' and 'recipe_id' columns to object data type\n",
    "raw_users_df['user_id'] = raw_users_df['user_id'].astype(str)\n",
    "raw_users_df['recipe_id'] = raw_users_df['recipe_id'].astype(str)\n",
    "\n",
    "# Convert 'submitted' column to date data type\n",
    "raw_users_df['date'] = pd.to_datetime(raw_users_df['date'], format='%Y-%m-%d')\n",
    "\n",
    "# Print updated data types of the columns\n",
    "raw_users_df.info()"
   ]
  },
  {
   "cell_type": "markdown",
   "id": "bfc14724",
   "metadata": {},
   "source": [
    "### 3.2 Missing Data <a class=\"anchor\" id=\"threetwo\"></a>"
   ]
  },
  {
   "cell_type": "markdown",
   "id": "fecf9fca",
   "metadata": {},
   "source": [
    "Now that we have gained a deeper understanding of the dataset, let us proceed to explore any potential missing values within it."
   ]
  },
  {
   "cell_type": "code",
   "execution_count": 10,
   "id": "5d421eba",
   "metadata": {},
   "outputs": [
    {
     "data": {
      "text/plain": [
       "name                 1\n",
       "id                   0\n",
       "minutes              0\n",
       "contributor_id       0\n",
       "submitted            0\n",
       "tags                 0\n",
       "nutrition            0\n",
       "n_steps              0\n",
       "steps                0\n",
       "description       4979\n",
       "ingredients          0\n",
       "n_ingredients        0\n",
       "dtype: int64"
      ]
     },
     "execution_count": 10,
     "metadata": {},
     "output_type": "execute_result"
    }
   ],
   "source": [
    "# Checking for missing values\n",
    "raw_recipes_df.isna().sum()"
   ]
  },
  {
   "cell_type": "markdown",
   "id": "6e2c965e",
   "metadata": {},
   "source": [
    "There is 1 missing value in the 'name' column and 4,979 missing values in the 'description' column. values represent. Let us examine the specific rows that contain missing values to identify any discernible patterns and explore potential strategies for data imputation."
   ]
  },
  {
   "cell_type": "code",
   "execution_count": 11,
   "id": "923005a3",
   "metadata": {},
   "outputs": [
    {
     "data": {
      "text/html": [
       "<div>\n",
       "<style scoped>\n",
       "    .dataframe tbody tr th:only-of-type {\n",
       "        vertical-align: middle;\n",
       "    }\n",
       "\n",
       "    .dataframe tbody tr th {\n",
       "        vertical-align: top;\n",
       "    }\n",
       "\n",
       "    .dataframe thead th {\n",
       "        text-align: right;\n",
       "    }\n",
       "</style>\n",
       "<table border=\"1\" class=\"dataframe\">\n",
       "  <thead>\n",
       "    <tr style=\"text-align: right;\">\n",
       "      <th></th>\n",
       "      <th>name</th>\n",
       "      <th>id</th>\n",
       "      <th>minutes</th>\n",
       "      <th>contributor_id</th>\n",
       "      <th>submitted</th>\n",
       "      <th>tags</th>\n",
       "      <th>nutrition</th>\n",
       "      <th>n_steps</th>\n",
       "      <th>steps</th>\n",
       "      <th>description</th>\n",
       "      <th>ingredients</th>\n",
       "      <th>n_ingredients</th>\n",
       "    </tr>\n",
       "  </thead>\n",
       "  <tbody>\n",
       "    <tr>\n",
       "      <th>721</th>\n",
       "      <td>NaN</td>\n",
       "      <td>368257</td>\n",
       "      <td>10</td>\n",
       "      <td>779451</td>\n",
       "      <td>2009-04-27</td>\n",
       "      <td>['15-minutes-or-less', 'time-to-make', 'course...</td>\n",
       "      <td>[1596.2, 249.0, 155.0, 0.0, 2.0, 112.0, 14.0]</td>\n",
       "      <td>6</td>\n",
       "      <td>['in a bowl , combine ingredients except for o...</td>\n",
       "      <td>-------------</td>\n",
       "      <td>['lemon', 'honey', 'horseradish mustard', 'gar...</td>\n",
       "      <td>10</td>\n",
       "    </tr>\n",
       "  </tbody>\n",
       "</table>\n",
       "</div>"
      ],
      "text/plain": [
       "    name      id  minutes contributor_id  submitted  \\\n",
       "721  NaN  368257       10         779451 2009-04-27   \n",
       "\n",
       "                                                  tags  \\\n",
       "721  ['15-minutes-or-less', 'time-to-make', 'course...   \n",
       "\n",
       "                                         nutrition  n_steps  \\\n",
       "721  [1596.2, 249.0, 155.0, 0.0, 2.0, 112.0, 14.0]        6   \n",
       "\n",
       "                                                 steps    description  \\\n",
       "721  ['in a bowl , combine ingredients except for o...  -------------   \n",
       "\n",
       "                                           ingredients  n_ingredients  \n",
       "721  ['lemon', 'honey', 'horseradish mustard', 'gar...             10  "
      ]
     },
     "execution_count": 11,
     "metadata": {},
     "output_type": "execute_result"
    }
   ],
   "source": [
    "# Row with missing name\n",
    "raw_recipes_df[raw_recipes_df['name'].isna()]"
   ]
  },
  {
   "cell_type": "markdown",
   "id": "0e481bd1",
   "metadata": {},
   "source": [
    "It appears that the row with the missing 'name' value also lacks a corresponding description. Consquently, we are unable to infer a name from the description itself, as there is not textual information available to guide the imputation process. Considering that there is only one instance with a missing 'name' value, we can safely drop this row from the dataset."
   ]
  },
  {
   "cell_type": "code",
   "execution_count": 12,
   "id": "e8539121",
   "metadata": {},
   "outputs": [],
   "source": [
    "# Drop row with missing name\n",
    "raw_recipes_df.dropna(subset=['name'], inplace=True)"
   ]
  },
  {
   "cell_type": "code",
   "execution_count": 13,
   "id": "2b03f55f",
   "metadata": {},
   "outputs": [
    {
     "data": {
      "text/plain": [
       "name                 0\n",
       "id                   0\n",
       "minutes              0\n",
       "contributor_id       0\n",
       "submitted            0\n",
       "tags                 0\n",
       "nutrition            0\n",
       "n_steps              0\n",
       "steps                0\n",
       "description       4979\n",
       "ingredients          0\n",
       "n_ingredients        0\n",
       "dtype: int64"
      ]
     },
     "execution_count": 13,
     "metadata": {},
     "output_type": "execute_result"
    }
   ],
   "source": [
    "# Sanity check\n",
    "raw_recipes_df.isna().sum()"
   ]
  },
  {
   "cell_type": "markdown",
   "id": "43343794",
   "metadata": {},
   "source": [
    "Let us take a look at the rows with a missing description."
   ]
  },
  {
   "cell_type": "code",
   "execution_count": 14,
   "id": "d4e5bef4",
   "metadata": {},
   "outputs": [
    {
     "data": {
      "text/html": [
       "<div>\n",
       "<style scoped>\n",
       "    .dataframe tbody tr th:only-of-type {\n",
       "        vertical-align: middle;\n",
       "    }\n",
       "\n",
       "    .dataframe tbody tr th {\n",
       "        vertical-align: top;\n",
       "    }\n",
       "\n",
       "    .dataframe thead th {\n",
       "        text-align: right;\n",
       "    }\n",
       "</style>\n",
       "<table border=\"1\" class=\"dataframe\">\n",
       "  <thead>\n",
       "    <tr style=\"text-align: right;\">\n",
       "      <th></th>\n",
       "      <th>name</th>\n",
       "      <th>id</th>\n",
       "      <th>minutes</th>\n",
       "      <th>contributor_id</th>\n",
       "      <th>submitted</th>\n",
       "      <th>tags</th>\n",
       "      <th>nutrition</th>\n",
       "      <th>n_steps</th>\n",
       "      <th>steps</th>\n",
       "      <th>description</th>\n",
       "      <th>ingredients</th>\n",
       "      <th>n_ingredients</th>\n",
       "    </tr>\n",
       "  </thead>\n",
       "  <tbody>\n",
       "    <tr>\n",
       "      <th>198329</th>\n",
       "      <td>spirited fruit salad</td>\n",
       "      <td>9273</td>\n",
       "      <td>120</td>\n",
       "      <td>4608</td>\n",
       "      <td>2001-06-02</td>\n",
       "      <td>['weeknight', 'time-to-make', 'main-ingredient...</td>\n",
       "      <td>[52.3, 0.0, 43.0, 0.0, 1.0, 0.0, 4.0]</td>\n",
       "      <td>5</td>\n",
       "      <td>['in bowl , combine juices , liqueur , honey ,...</td>\n",
       "      <td>NaN</td>\n",
       "      <td>['pineapple juice', 'orange juice', 'orange-fl...</td>\n",
       "      <td>10</td>\n",
       "    </tr>\n",
       "    <tr>\n",
       "      <th>148669</th>\n",
       "      <td>orange biscotti</td>\n",
       "      <td>44504</td>\n",
       "      <td>40</td>\n",
       "      <td>26399</td>\n",
       "      <td>2002-10-29</td>\n",
       "      <td>['60-minutes-or-less', 'time-to-make', 'course...</td>\n",
       "      <td>[110.5, 6.0, 32.0, 3.0, 3.0, 12.0, 5.0]</td>\n",
       "      <td>14</td>\n",
       "      <td>['mix together the flour , sugar , salt and ba...</td>\n",
       "      <td>NaN</td>\n",
       "      <td>['flour', 'sugar', 'salt', 'baking powder', 'b...</td>\n",
       "      <td>9</td>\n",
       "    </tr>\n",
       "    <tr>\n",
       "      <th>116423</th>\n",
       "      <td>kangaroo  aka vodkatini</td>\n",
       "      <td>8875</td>\n",
       "      <td>5</td>\n",
       "      <td>2312</td>\n",
       "      <td>2001-04-30</td>\n",
       "      <td>['15-minutes-or-less', 'time-to-make', 'course...</td>\n",
       "      <td>[104.0, 0.0, 0.0, 0.0, 0.0, 0.0, 0.0]</td>\n",
       "      <td>1</td>\n",
       "      <td>['stir with ice and strain into a martini glas...</td>\n",
       "      <td>NaN</td>\n",
       "      <td>['vodka', 'dry vermouth', 'lemon twist']</td>\n",
       "      <td>3</td>\n",
       "    </tr>\n",
       "    <tr>\n",
       "      <th>221219</th>\n",
       "      <td>vegan heart attack chocolate doughnuts</td>\n",
       "      <td>8678</td>\n",
       "      <td>90</td>\n",
       "      <td>2312</td>\n",
       "      <td>2001-03-27</td>\n",
       "      <td>['weeknight', 'time-to-make', 'course', 'main-...</td>\n",
       "      <td>[77.6, 3.0, 0.0, 5.0, 4.0, 6.0, 4.0]</td>\n",
       "      <td>15</td>\n",
       "      <td>['beat the egg replacer and sugar together unt...</td>\n",
       "      <td>NaN</td>\n",
       "      <td>['beet sugar', 'ener-g egg substitute', 'non-h...</td>\n",
       "      <td>11</td>\n",
       "    </tr>\n",
       "    <tr>\n",
       "      <th>93591</th>\n",
       "      <td>goat cheese sandwiches with roasted peppers   ...</td>\n",
       "      <td>26961</td>\n",
       "      <td>30</td>\n",
       "      <td>1533</td>\n",
       "      <td>2002-04-30</td>\n",
       "      <td>['30-minutes-or-less', 'time-to-make', 'course...</td>\n",
       "      <td>[414.9, 19.0, 52.0, 25.0, 33.0, 33.0, 20.0]</td>\n",
       "      <td>10</td>\n",
       "      <td>['in heavy non-stick skillet , heat oil over l...</td>\n",
       "      <td>NaN</td>\n",
       "      <td>['olive oil', 'onions', 'balsamic vinegar', 'c...</td>\n",
       "      <td>11</td>\n",
       "    </tr>\n",
       "    <tr>\n",
       "      <th>52195</th>\n",
       "      <td>chocolate raspberry loaf</td>\n",
       "      <td>16903</td>\n",
       "      <td>70</td>\n",
       "      <td>20754</td>\n",
       "      <td>2002-01-07</td>\n",
       "      <td>['weeknight', 'time-to-make', 'course', 'main-...</td>\n",
       "      <td>[333.0, 24.0, 91.0, 9.0, 11.0, 30.0, 14.0]</td>\n",
       "      <td>17</td>\n",
       "      <td>['preheat oven to 350f', 'spray 9x5-inch loaf ...</td>\n",
       "      <td>NaN</td>\n",
       "      <td>['semi-sweet chocolate chips', 'butter', 'all-...</td>\n",
       "      <td>12</td>\n",
       "    </tr>\n",
       "    <tr>\n",
       "      <th>91276</th>\n",
       "      <td>german chocolate pie filling</td>\n",
       "      <td>22019</td>\n",
       "      <td>65</td>\n",
       "      <td>29300</td>\n",
       "      <td>2002-03-10</td>\n",
       "      <td>['weeknight', 'time-to-make', 'course', 'main-...</td>\n",
       "      <td>[846.7, 104.0, 144.0, 6.0, 17.0, 190.0, 18.0]</td>\n",
       "      <td>13</td>\n",
       "      <td>['heat milk to scald', 'mix sugar , salt and c...</td>\n",
       "      <td>NaN</td>\n",
       "      <td>['milk', 'sugar', 'salt', 'cornstarch', 'egg y...</td>\n",
       "      <td>12</td>\n",
       "    </tr>\n",
       "    <tr>\n",
       "      <th>165062</th>\n",
       "      <td>potato stuffing</td>\n",
       "      <td>5043</td>\n",
       "      <td>0</td>\n",
       "      <td>1534</td>\n",
       "      <td>1999-12-01</td>\n",
       "      <td>['15-minutes-or-less', 'time-to-make', 'course...</td>\n",
       "      <td>[2265.4, 78.0, 139.0, 245.0, 143.0, 58.0, 125.0]</td>\n",
       "      <td>7</td>\n",
       "      <td>['put egg into mashed potatoes and mix well', ...</td>\n",
       "      <td>NaN</td>\n",
       "      <td>['potatoes', 'egg', 'breadcrumbs', 'margarine'...</td>\n",
       "      <td>9</td>\n",
       "    </tr>\n",
       "    <tr>\n",
       "      <th>21730</th>\n",
       "      <td>benihana ginger dipping sauce</td>\n",
       "      <td>34034</td>\n",
       "      <td>5</td>\n",
       "      <td>48643</td>\n",
       "      <td>2002-07-15</td>\n",
       "      <td>['15-minutes-or-less', 'time-to-make', 'course...</td>\n",
       "      <td>[10.3, 0.0, 1.0, 33.0, 3.0, 0.0, 0.0]</td>\n",
       "      <td>1</td>\n",
       "      <td>['combine all ingredients in blender and proce...</td>\n",
       "      <td>NaN</td>\n",
       "      <td>['onion', 'gingerroot', 'soy sauce', 'rice win...</td>\n",
       "      <td>4</td>\n",
       "    </tr>\n",
       "    <tr>\n",
       "      <th>204910</th>\n",
       "      <td>swedish apple nut strip</td>\n",
       "      <td>15717</td>\n",
       "      <td>40</td>\n",
       "      <td>20754</td>\n",
       "      <td>2001-12-13</td>\n",
       "      <td>['60-minutes-or-less', 'time-to-make', 'course...</td>\n",
       "      <td>[191.3, 18.0, 15.0, 7.0, 6.0, 30.0, 6.0]</td>\n",
       "      <td>18</td>\n",
       "      <td>['heat oven to 375f', 'in bowl , mix flour , 2...</td>\n",
       "      <td>NaN</td>\n",
       "      <td>['all-purpose flour', 'sugar', 'salt', 'butter...</td>\n",
       "      <td>8</td>\n",
       "    </tr>\n",
       "  </tbody>\n",
       "</table>\n",
       "</div>"
      ],
      "text/plain": [
       "                                                     name     id  minutes  \\\n",
       "198329                               spirited fruit salad   9273      120   \n",
       "148669                                    orange biscotti  44504       40   \n",
       "116423                            kangaroo  aka vodkatini   8875        5   \n",
       "221219             vegan heart attack chocolate doughnuts   8678       90   \n",
       "93591   goat cheese sandwiches with roasted peppers   ...  26961       30   \n",
       "52195                            chocolate raspberry loaf  16903       70   \n",
       "91276                        german chocolate pie filling  22019       65   \n",
       "165062                                    potato stuffing   5043        0   \n",
       "21730                       benihana ginger dipping sauce  34034        5   \n",
       "204910                            swedish apple nut strip  15717       40   \n",
       "\n",
       "       contributor_id  submitted  \\\n",
       "198329           4608 2001-06-02   \n",
       "148669          26399 2002-10-29   \n",
       "116423           2312 2001-04-30   \n",
       "221219           2312 2001-03-27   \n",
       "93591            1533 2002-04-30   \n",
       "52195           20754 2002-01-07   \n",
       "91276           29300 2002-03-10   \n",
       "165062           1534 1999-12-01   \n",
       "21730           48643 2002-07-15   \n",
       "204910          20754 2001-12-13   \n",
       "\n",
       "                                                     tags  \\\n",
       "198329  ['weeknight', 'time-to-make', 'main-ingredient...   \n",
       "148669  ['60-minutes-or-less', 'time-to-make', 'course...   \n",
       "116423  ['15-minutes-or-less', 'time-to-make', 'course...   \n",
       "221219  ['weeknight', 'time-to-make', 'course', 'main-...   \n",
       "93591   ['30-minutes-or-less', 'time-to-make', 'course...   \n",
       "52195   ['weeknight', 'time-to-make', 'course', 'main-...   \n",
       "91276   ['weeknight', 'time-to-make', 'course', 'main-...   \n",
       "165062  ['15-minutes-or-less', 'time-to-make', 'course...   \n",
       "21730   ['15-minutes-or-less', 'time-to-make', 'course...   \n",
       "204910  ['60-minutes-or-less', 'time-to-make', 'course...   \n",
       "\n",
       "                                               nutrition  n_steps  \\\n",
       "198329             [52.3, 0.0, 43.0, 0.0, 1.0, 0.0, 4.0]        5   \n",
       "148669           [110.5, 6.0, 32.0, 3.0, 3.0, 12.0, 5.0]       14   \n",
       "116423             [104.0, 0.0, 0.0, 0.0, 0.0, 0.0, 0.0]        1   \n",
       "221219              [77.6, 3.0, 0.0, 5.0, 4.0, 6.0, 4.0]       15   \n",
       "93591        [414.9, 19.0, 52.0, 25.0, 33.0, 33.0, 20.0]       10   \n",
       "52195         [333.0, 24.0, 91.0, 9.0, 11.0, 30.0, 14.0]       17   \n",
       "91276      [846.7, 104.0, 144.0, 6.0, 17.0, 190.0, 18.0]       13   \n",
       "165062  [2265.4, 78.0, 139.0, 245.0, 143.0, 58.0, 125.0]        7   \n",
       "21730              [10.3, 0.0, 1.0, 33.0, 3.0, 0.0, 0.0]        1   \n",
       "204910          [191.3, 18.0, 15.0, 7.0, 6.0, 30.0, 6.0]       18   \n",
       "\n",
       "                                                    steps description  \\\n",
       "198329  ['in bowl , combine juices , liqueur , honey ,...         NaN   \n",
       "148669  ['mix together the flour , sugar , salt and ba...         NaN   \n",
       "116423  ['stir with ice and strain into a martini glas...         NaN   \n",
       "221219  ['beat the egg replacer and sugar together unt...         NaN   \n",
       "93591   ['in heavy non-stick skillet , heat oil over l...         NaN   \n",
       "52195   ['preheat oven to 350f', 'spray 9x5-inch loaf ...         NaN   \n",
       "91276   ['heat milk to scald', 'mix sugar , salt and c...         NaN   \n",
       "165062  ['put egg into mashed potatoes and mix well', ...         NaN   \n",
       "21730   ['combine all ingredients in blender and proce...         NaN   \n",
       "204910  ['heat oven to 375f', 'in bowl , mix flour , 2...         NaN   \n",
       "\n",
       "                                              ingredients  n_ingredients  \n",
       "198329  ['pineapple juice', 'orange juice', 'orange-fl...             10  \n",
       "148669  ['flour', 'sugar', 'salt', 'baking powder', 'b...              9  \n",
       "116423           ['vodka', 'dry vermouth', 'lemon twist']              3  \n",
       "221219  ['beet sugar', 'ener-g egg substitute', 'non-h...             11  \n",
       "93591   ['olive oil', 'onions', 'balsamic vinegar', 'c...             11  \n",
       "52195   ['semi-sweet chocolate chips', 'butter', 'all-...             12  \n",
       "91276   ['milk', 'sugar', 'salt', 'cornstarch', 'egg y...             12  \n",
       "165062  ['potatoes', 'egg', 'breadcrumbs', 'margarine'...              9  \n",
       "21730   ['onion', 'gingerroot', 'soy sauce', 'rice win...              4  \n",
       "204910  ['all-purpose flour', 'sugar', 'salt', 'butter...              8  "
      ]
     },
     "execution_count": 14,
     "metadata": {},
     "output_type": "execute_result"
    }
   ],
   "source": [
    "# Row with missing description\n",
    "raw_recipes_df[raw_recipes_df['description'].isna()].sample(10)"
   ]
  },
  {
   "cell_type": "markdown",
   "id": "360bd19e",
   "metadata": {},
   "source": [
    "Since the descriptions are written by the recipe contributors themselves and not available in the source, it is not feasible to impute missing values for the 'description' column. Let us look at the extent to which these missing values constitute the overall dataset."
   ]
  },
  {
   "cell_type": "code",
   "execution_count": 15,
   "id": "a0fddc46",
   "metadata": {},
   "outputs": [
    {
     "name": "stdout",
     "output_type": "stream",
     "text": [
      "Missing values make up 2.15 % of the overall data.\n"
     ]
    }
   ],
   "source": [
    "print('Missing values make up', round(raw_recipes_df.isna().sum().sum()/raw_recipes_df.shape[0]*100, 2), \"%\", \"of the overall data.\")"
   ]
  },
  {
   "cell_type": "markdown",
   "id": "5bfe71dc",
   "metadata": {},
   "source": [
    "Given that the missing values in the 'description' column constitute a small subset of the overall dataset, we can safely drop these rows."
   ]
  },
  {
   "cell_type": "code",
   "execution_count": 16,
   "id": "b7ee1a59",
   "metadata": {},
   "outputs": [],
   "source": [
    "# Drop rows with missing description\n",
    "raw_recipes_df.dropna(subset=['description'], inplace=True)"
   ]
  },
  {
   "cell_type": "code",
   "execution_count": 17,
   "id": "bf879405",
   "metadata": {},
   "outputs": [
    {
     "data": {
      "text/plain": [
       "name              0\n",
       "id                0\n",
       "minutes           0\n",
       "contributor_id    0\n",
       "submitted         0\n",
       "tags              0\n",
       "nutrition         0\n",
       "n_steps           0\n",
       "steps             0\n",
       "description       0\n",
       "ingredients       0\n",
       "n_ingredients     0\n",
       "dtype: int64"
      ]
     },
     "execution_count": 17,
     "metadata": {},
     "output_type": "execute_result"
    }
   ],
   "source": [
    "# Sanity check\n",
    "raw_recipes_df.isna().sum()"
   ]
  },
  {
   "cell_type": "markdown",
   "id": "29b09f5a",
   "metadata": {},
   "source": [
    "We will now take a look at the user interactions dataset to identify any missing values."
   ]
  },
  {
   "cell_type": "code",
   "execution_count": 18,
   "id": "b6aeebe1",
   "metadata": {},
   "outputs": [
    {
     "data": {
      "text/plain": [
       "user_id        0\n",
       "recipe_id      0\n",
       "date           0\n",
       "rating         0\n",
       "review       169\n",
       "dtype: int64"
      ]
     },
     "execution_count": 18,
     "metadata": {},
     "output_type": "execute_result"
    }
   ],
   "source": [
    "raw_users_df.isna().sum()"
   ]
  },
  {
   "cell_type": "markdown",
   "id": "1d16f62c",
   "metadata": {},
   "source": [
    "There are 169 missing values in the 'review' column. values represent. Similar to the 'description' column in the recipes dataset, as the reviews are written by users themselves and are not available in the source, it is not feasible to impute missing values for the 'review' column. Let us now assess the proportion of these missing values in relation to the overall dataset."
   ]
  },
  {
   "cell_type": "code",
   "execution_count": 19,
   "id": "ad43a773",
   "metadata": {},
   "outputs": [
    {
     "name": "stdout",
     "output_type": "stream",
     "text": [
      "Missing values make up 0.01 % of the overall data.\n"
     ]
    }
   ],
   "source": [
    "print('Missing values make up', round(raw_users_df.isna().sum().sum()/raw_users_df.shape[0]*100, 2), \"%\", \"of the overall data.\")"
   ]
  },
  {
   "cell_type": "markdown",
   "id": "656144a3",
   "metadata": {},
   "source": [
    "Given that the missing values in the 'review' column constitute a very small subset of the overall dataset, we can safely drop these rows."
   ]
  },
  {
   "cell_type": "code",
   "execution_count": 20,
   "id": "75adee50",
   "metadata": {},
   "outputs": [],
   "source": [
    "# Drop rows with missing description\n",
    "raw_users_df.dropna(subset=['review'], inplace=True)"
   ]
  },
  {
   "cell_type": "code",
   "execution_count": 21,
   "id": "6d51797f",
   "metadata": {},
   "outputs": [
    {
     "data": {
      "text/plain": [
       "user_id      0\n",
       "recipe_id    0\n",
       "date         0\n",
       "rating       0\n",
       "review       0\n",
       "dtype: int64"
      ]
     },
     "execution_count": 21,
     "metadata": {},
     "output_type": "execute_result"
    }
   ],
   "source": [
    "# Sanity check\n",
    "raw_users_df.isna().sum()"
   ]
  },
  {
   "cell_type": "markdown",
   "id": "0c55be02",
   "metadata": {},
   "source": [
    "### 3.3 Duplicate Data <a class=\"anchor\" id=\"threethree\"></a>"
   ]
  },
  {
   "cell_type": "markdown",
   "id": "a74366ad",
   "metadata": {},
   "source": [
    "Now that we have addressed the missing values, let us proceed to identify any potential duplicates within the datasets."
   ]
  },
  {
   "cell_type": "code",
   "execution_count": 22,
   "id": "d4f3d420",
   "metadata": {},
   "outputs": [
    {
     "name": "stdout",
     "output_type": "stream",
     "text": [
      "duplicated rows in recipes dataset: 0\n",
      "duplicated rows in user interactions dataset: 0\n"
     ]
    }
   ],
   "source": [
    "# Duplicated rows\n",
    "print(\"duplicated rows in recipes dataset:\", raw_recipes_df.duplicated().sum())\n",
    "print(\"duplicated rows in user interactions dataset:\", raw_users_df.duplicated().sum())"
   ]
  },
  {
   "cell_type": "markdown",
   "id": "0c935593",
   "metadata": {},
   "source": [
    "Great! It appears that there are no duplicated rows within the datasets."
   ]
  },
  {
   "cell_type": "markdown",
   "id": "0e7d1cf2",
   "metadata": {},
   "source": [
    "## 4 Data Preprocessing <a class=\"anchor\" id=\"four\"></a>"
   ]
  },
  {
   "cell_type": "markdown",
   "id": "ab767f64",
   "metadata": {},
   "source": [
    "After completing the data cleaning phase, we will proceed to the data preprocessing stage. Let's revisit the recipes dataframe to review its current state."
   ]
  },
  {
   "cell_type": "code",
   "execution_count": null,
   "id": "d2be6f1c",
   "metadata": {},
   "outputs": [],
   "source": [
    "# View recipes dataset\n",
    "raw_recipes_df.head()"
   ]
  },
  {
   "cell_type": "markdown",
   "id": "9e3d9a1d",
   "metadata": {},
   "source": [
    "It appears that splitting the values in the 'nutrition' column and creating new columns for each nutritional metric would be beneficial. In the next section, we will proceed with this data transformation step. "
   ]
  },
  {
   "cell_type": "code",
   "execution_count": null,
   "id": "0d3c921b",
   "metadata": {},
   "outputs": [],
   "source": [
    "# View user interactions dataset\n",
    "raw_users_df.head()"
   ]
  },
  {
   "cell_type": "markdown",
   "id": "c7c7913b",
   "metadata": {},
   "source": [
    "The user interactions dataset looks good (for now).\n",
    "\n",
    "Regarding both datasets, we have made a deliberate decision to postpone the preprocessing of the text data in the columns until the modeling stage. This choice stems from recognizing the intricate nature of text data preprocessing and the diverse range of available approaches. By deferring the preprocessing step, we gain the opportunity to thoroughly explore various techniques and strategies specific to text data. This approach empowers us to make well-informed decisions tailored to the requirements of our modeling tasks and leverage the most effective methods for handling and analyzing textual information."
   ]
  },
  {
   "cell_type": "markdown",
   "id": "f11b68dd",
   "metadata": {},
   "source": [
    "### 4.4 Column Splitting <a class=\"anchor\" id=\"fourone\"></a>"
   ]
  },
  {
   "cell_type": "markdown",
   "id": "3869508f",
   "metadata": {},
   "source": [
    "The 'nutrition' column in the dataframe consists of a list of values representing various nutritional metrics, including calories, total fat, sugar, sodium, protein, and saturated fat. To facilitate further analysis, we have split these values and created new columns to capture each nutritional metric individually. Subsequently, we drop the original 'nutrition' column from the dataframe, as we have already extracted the nutritional metrics into separate columns."
   ]
  },
  {
   "cell_type": "code",
   "execution_count": 31,
   "id": "e39bb85a",
   "metadata": {},
   "outputs": [],
   "source": [
    "# Split the values in the 'nutrition' column into separate columns\n",
    "nutrition_columns = ['calories', 'total_fat', 'sugar', 'sodium', 'protein', 'saturated_fat']\n",
    "\n",
    "for column in nutrition_columns:\n",
    "    raw_recipes_df[column] = raw_recipes_df['nutrition'].apply(lambda x: eval(x)[nutrition_columns.index(column)])\n",
    "\n",
    "# Drop the original 'nutrition' column\n",
    "raw_recipes_df.drop('nutrition', axis=1, inplace=True)"
   ]
  },
  {
   "cell_type": "code",
   "execution_count": 36,
   "id": "6c5527e5",
   "metadata": {},
   "outputs": [
    {
     "data": {
      "text/html": [
       "<div>\n",
       "<style scoped>\n",
       "    .dataframe tbody tr th:only-of-type {\n",
       "        vertical-align: middle;\n",
       "    }\n",
       "\n",
       "    .dataframe tbody tr th {\n",
       "        vertical-align: top;\n",
       "    }\n",
       "\n",
       "    .dataframe thead th {\n",
       "        text-align: right;\n",
       "    }\n",
       "</style>\n",
       "<table border=\"1\" class=\"dataframe\">\n",
       "  <thead>\n",
       "    <tr style=\"text-align: right;\">\n",
       "      <th></th>\n",
       "      <th>name</th>\n",
       "      <th>id</th>\n",
       "      <th>minutes</th>\n",
       "      <th>contributor_id</th>\n",
       "      <th>submitted</th>\n",
       "      <th>tags</th>\n",
       "      <th>n_steps</th>\n",
       "      <th>steps</th>\n",
       "      <th>description</th>\n",
       "      <th>ingredients</th>\n",
       "      <th>n_ingredients</th>\n",
       "      <th>calories</th>\n",
       "      <th>total_fat</th>\n",
       "      <th>sugar</th>\n",
       "      <th>sodium</th>\n",
       "      <th>protein</th>\n",
       "      <th>saturated_fat</th>\n",
       "    </tr>\n",
       "  </thead>\n",
       "  <tbody>\n",
       "    <tr>\n",
       "      <th>0</th>\n",
       "      <td>arriba   baked winter squash mexican style</td>\n",
       "      <td>137739</td>\n",
       "      <td>55</td>\n",
       "      <td>47892</td>\n",
       "      <td>2005-09-16</td>\n",
       "      <td>['60-minutes-or-less', 'time-to-make', 'course...</td>\n",
       "      <td>11</td>\n",
       "      <td>['make a choice and proceed with recipe', 'dep...</td>\n",
       "      <td>autumn is my favorite time of year to cook! th...</td>\n",
       "      <td>['winter squash', 'mexican seasoning', 'mixed ...</td>\n",
       "      <td>7</td>\n",
       "      <td>51.5</td>\n",
       "      <td>0.0</td>\n",
       "      <td>13.0</td>\n",
       "      <td>0.0</td>\n",
       "      <td>2.0</td>\n",
       "      <td>0.0</td>\n",
       "    </tr>\n",
       "    <tr>\n",
       "      <th>1</th>\n",
       "      <td>a bit different  breakfast pizza</td>\n",
       "      <td>31490</td>\n",
       "      <td>30</td>\n",
       "      <td>26278</td>\n",
       "      <td>2002-06-17</td>\n",
       "      <td>['30-minutes-or-less', 'time-to-make', 'course...</td>\n",
       "      <td>9</td>\n",
       "      <td>['preheat oven to 425 degrees f', 'press dough...</td>\n",
       "      <td>this recipe calls for the crust to be prebaked...</td>\n",
       "      <td>['prepared pizza crust', 'sausage patty', 'egg...</td>\n",
       "      <td>6</td>\n",
       "      <td>173.4</td>\n",
       "      <td>18.0</td>\n",
       "      <td>0.0</td>\n",
       "      <td>17.0</td>\n",
       "      <td>22.0</td>\n",
       "      <td>35.0</td>\n",
       "    </tr>\n",
       "    <tr>\n",
       "      <th>2</th>\n",
       "      <td>all in the kitchen  chili</td>\n",
       "      <td>112140</td>\n",
       "      <td>130</td>\n",
       "      <td>196586</td>\n",
       "      <td>2005-02-25</td>\n",
       "      <td>['time-to-make', 'course', 'preparation', 'mai...</td>\n",
       "      <td>6</td>\n",
       "      <td>['brown ground beef in large pot', 'add choppe...</td>\n",
       "      <td>this modified version of 'mom's' chili was a h...</td>\n",
       "      <td>['ground beef', 'yellow onions', 'diced tomato...</td>\n",
       "      <td>13</td>\n",
       "      <td>269.8</td>\n",
       "      <td>22.0</td>\n",
       "      <td>32.0</td>\n",
       "      <td>48.0</td>\n",
       "      <td>39.0</td>\n",
       "      <td>27.0</td>\n",
       "    </tr>\n",
       "    <tr>\n",
       "      <th>3</th>\n",
       "      <td>alouette  potatoes</td>\n",
       "      <td>59389</td>\n",
       "      <td>45</td>\n",
       "      <td>68585</td>\n",
       "      <td>2003-04-14</td>\n",
       "      <td>['60-minutes-or-less', 'time-to-make', 'course...</td>\n",
       "      <td>11</td>\n",
       "      <td>['place potatoes in a large pot of lightly sal...</td>\n",
       "      <td>this is a super easy, great tasting, make ahea...</td>\n",
       "      <td>['spreadable cheese with garlic and herbs', 'n...</td>\n",
       "      <td>11</td>\n",
       "      <td>368.1</td>\n",
       "      <td>17.0</td>\n",
       "      <td>10.0</td>\n",
       "      <td>2.0</td>\n",
       "      <td>14.0</td>\n",
       "      <td>8.0</td>\n",
       "    </tr>\n",
       "    <tr>\n",
       "      <th>4</th>\n",
       "      <td>amish  tomato ketchup  for canning</td>\n",
       "      <td>44061</td>\n",
       "      <td>190</td>\n",
       "      <td>41706</td>\n",
       "      <td>2002-10-25</td>\n",
       "      <td>['weeknight', 'time-to-make', 'course', 'main-...</td>\n",
       "      <td>5</td>\n",
       "      <td>['mix all ingredients&amp; boil for 2 1 / 2 hours ...</td>\n",
       "      <td>my dh's amish mother raised him on this recipe...</td>\n",
       "      <td>['tomato juice', 'apple cider vinegar', 'sugar...</td>\n",
       "      <td>8</td>\n",
       "      <td>352.9</td>\n",
       "      <td>1.0</td>\n",
       "      <td>337.0</td>\n",
       "      <td>23.0</td>\n",
       "      <td>3.0</td>\n",
       "      <td>0.0</td>\n",
       "    </tr>\n",
       "  </tbody>\n",
       "</table>\n",
       "</div>"
      ],
      "text/plain": [
       "                                         name      id  minutes contributor_id  \\\n",
       "0  arriba   baked winter squash mexican style  137739       55          47892   \n",
       "1            a bit different  breakfast pizza   31490       30          26278   \n",
       "2                   all in the kitchen  chili  112140      130         196586   \n",
       "3                          alouette  potatoes   59389       45          68585   \n",
       "4          amish  tomato ketchup  for canning   44061      190          41706   \n",
       "\n",
       "   submitted                                               tags  n_steps  \\\n",
       "0 2005-09-16  ['60-minutes-or-less', 'time-to-make', 'course...       11   \n",
       "1 2002-06-17  ['30-minutes-or-less', 'time-to-make', 'course...        9   \n",
       "2 2005-02-25  ['time-to-make', 'course', 'preparation', 'mai...        6   \n",
       "3 2003-04-14  ['60-minutes-or-less', 'time-to-make', 'course...       11   \n",
       "4 2002-10-25  ['weeknight', 'time-to-make', 'course', 'main-...        5   \n",
       "\n",
       "                                               steps  \\\n",
       "0  ['make a choice and proceed with recipe', 'dep...   \n",
       "1  ['preheat oven to 425 degrees f', 'press dough...   \n",
       "2  ['brown ground beef in large pot', 'add choppe...   \n",
       "3  ['place potatoes in a large pot of lightly sal...   \n",
       "4  ['mix all ingredients& boil for 2 1 / 2 hours ...   \n",
       "\n",
       "                                         description  \\\n",
       "0  autumn is my favorite time of year to cook! th...   \n",
       "1  this recipe calls for the crust to be prebaked...   \n",
       "2  this modified version of 'mom's' chili was a h...   \n",
       "3  this is a super easy, great tasting, make ahea...   \n",
       "4  my dh's amish mother raised him on this recipe...   \n",
       "\n",
       "                                         ingredients  n_ingredients  calories  \\\n",
       "0  ['winter squash', 'mexican seasoning', 'mixed ...              7      51.5   \n",
       "1  ['prepared pizza crust', 'sausage patty', 'egg...              6     173.4   \n",
       "2  ['ground beef', 'yellow onions', 'diced tomato...             13     269.8   \n",
       "3  ['spreadable cheese with garlic and herbs', 'n...             11     368.1   \n",
       "4  ['tomato juice', 'apple cider vinegar', 'sugar...              8     352.9   \n",
       "\n",
       "   total_fat  sugar  sodium  protein  saturated_fat  \n",
       "0        0.0   13.0     0.0      2.0            0.0  \n",
       "1       18.0    0.0    17.0     22.0           35.0  \n",
       "2       22.0   32.0    48.0     39.0           27.0  \n",
       "3       17.0   10.0     2.0     14.0            8.0  \n",
       "4        1.0  337.0    23.0      3.0            0.0  "
      ]
     },
     "execution_count": 36,
     "metadata": {},
     "output_type": "execute_result"
    }
   ],
   "source": [
    "# Sanity check\n",
    "raw_recipes_df.head()"
   ]
  },
  {
   "cell_type": "code",
   "execution_count": 33,
   "id": "77bee0f4",
   "metadata": {},
   "outputs": [
    {
     "name": "stdout",
     "output_type": "stream",
     "text": [
      "<class 'pandas.core.frame.DataFrame'>\n",
      "Int64Index: 226657 entries, 0 to 231636\n",
      "Data columns (total 17 columns):\n",
      " #   Column          Non-Null Count   Dtype         \n",
      "---  ------          --------------   -----         \n",
      " 0   name            226657 non-null  object        \n",
      " 1   id              226657 non-null  object        \n",
      " 2   minutes         226657 non-null  int64         \n",
      " 3   contributor_id  226657 non-null  object        \n",
      " 4   submitted       226657 non-null  datetime64[ns]\n",
      " 5   tags            226657 non-null  object        \n",
      " 6   n_steps         226657 non-null  int64         \n",
      " 7   steps           226657 non-null  object        \n",
      " 8   description     226657 non-null  object        \n",
      " 9   ingredients     226657 non-null  object        \n",
      " 10  n_ingredients   226657 non-null  int64         \n",
      " 11  calories        226657 non-null  float64       \n",
      " 12  total_fat       226657 non-null  float64       \n",
      " 13  sugar           226657 non-null  float64       \n",
      " 14  sodium          226657 non-null  float64       \n",
      " 15  protein         226657 non-null  float64       \n",
      " 16  saturated_fat   226657 non-null  float64       \n",
      "dtypes: datetime64[ns](1), float64(6), int64(3), object(7)\n",
      "memory usage: 31.1+ MB\n"
     ]
    }
   ],
   "source": [
    "# Check datatypes of new columns\n",
    "raw_recipes_df.info()"
   ]
  },
  {
   "cell_type": "markdown",
   "id": "80a458da",
   "metadata": {},
   "source": [
    "Wonderful! As a result of the data transformation, we have successfully created separate columns to represent each specific nutritional value. These columns now store the respective nutritional metrics as floating-point values, which facilitates further analysis and computations involving these nutritional attributes."
   ]
  },
  {
   "cell_type": "markdown",
   "id": "67a0dc0d",
   "metadata": {},
   "source": [
    "#### Saving the data"
   ]
  },
  {
   "cell_type": "markdown",
   "id": "ec678bed",
   "metadata": {},
   "source": [
    "After diligently cleaning the datasets, it is prudent to save them to files for future use. By preserving these clean datasets, we can readily leverage them during the exploratory data analysis (EDA) phase. Saving the cleaned datasets ensures that the processed data is readily available, allowing us to delve into a comprehensive analysis of the dataset's characteristics and relationships."
   ]
  },
  {
   "cell_type": "code",
   "execution_count": null,
   "id": "15d809fb",
   "metadata": {},
   "outputs": [],
   "source": [
    "# Save the clean datasets\n",
    "raw_recipes_df.to_csv(\"clean_recipes.csv\", index=False)\n",
    "raw_users_df.to_csv(\"clean_interactions.csv\", index=False)"
   ]
  },
  {
   "cell_type": "markdown",
   "id": "023cbef5",
   "metadata": {},
   "source": [
    "## 5 Conclusion <a class=\"anchor\" id=\"five\"></a>"
   ]
  },
  {
   "cell_type": "markdown",
   "id": "97c40f0a",
   "metadata": {},
   "source": [
    "During the data preprocessing step of the recipe recommendation system, the following changes and actions were performed:\n",
    "\n",
    "- Converted the 'id' columns from integer to string data type for consistency and manipulation ease.\n",
    "- Dropped rows with missing values in the 'name' column and rows with missing values in the 'description' column.\n",
    "- Verified that there were no duplicate rows in the dataset.\n",
    "- Split the values in the 'nutrition' column, creating new columns for each individual nutritional value (calories, total fat, sugar, sodium, protein, saturated fat).\n",
    "\n",
    "With the datasets now clean and appropriately processed, we are well-prepared for the next phase of our project, which involves EDA and modeling. "
   ]
  }
 ],
 "metadata": {
  "kernelspec": {
   "display_name": "Python 3 (ipykernel)",
   "language": "python",
   "name": "python3"
  },
  "language_info": {
   "codemirror_mode": {
    "name": "ipython",
    "version": 3
   },
   "file_extension": ".py",
   "mimetype": "text/x-python",
   "name": "python",
   "nbconvert_exporter": "python",
   "pygments_lexer": "ipython3",
   "version": "3.11.2"
  }
 },
 "nbformat": 4,
 "nbformat_minor": 5
}
