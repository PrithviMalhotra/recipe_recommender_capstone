{
 "cells": [
  {
   "cell_type": "markdown",
   "id": "dc05285c",
   "metadata": {},
   "source": [
    "# Recipe Recommendation System: Data Preprocessing"
   ]
  },
  {
   "cell_type": "markdown",
   "id": "f6abc337",
   "metadata": {},
   "source": [
    "By: Kelly Li\n"
   ]
  },
  {
   "cell_type": "markdown",
   "id": "8753194c",
   "metadata": {},
   "source": [
    "## Table of contents:\n",
    "* [1 Introduction](#one)\n",
    "* [2 Data Preparation](#two)\n",
    "    * [2.1 Data Sources](#twoone)\n",
    "    * [2.2 Initial Data Exploration](#twotwo)\n",
    "* [3 Data Cleaning](#three)\n",
    "    * [3.1 Datatypes](#threeone) \n",
    "    * [3.2 Duplicate Data](#threetwo)\n",
    "    * [3.3 Missing Data](#threethree)\n",
    "    * [3.4 Data Aggregation](#threefour)\n",
    "* [4 Findings Summary](#four)\n",
    "* [5 Conclusion](#five)\n",
    "\n",
    "-------------------------------------------------------------------------------------------------------------------------------"
   ]
  },
  {
   "cell_type": "markdown",
   "id": "7b43e23a",
   "metadata": {},
   "source": [
    "## 1 Introduction <a class=\"anchor\" id=\"one\"></a>"
   ]
  },
  {
   "cell_type": "markdown",
   "id": "1f2c33d4",
   "metadata": {},
   "source": [
    "Cooking enthusiasts often face challenges in finding personalized and diverse recipes that align with their tastes, dietar restrictions, and ingredient preferences. The existing search process is time-consuming, lacks inspiration, and fails to cater to specific dietary needs. To address these challenges, we have developed a recipe recommendation system that aids in recipe discovery, focusing on providing inspiration and catering to specific dietary needs. By leveraging advanced algorithms, it curates personalized recipe suggestions that ignite culinary creativity while considering unique tasts and dietary requirements. Wecome a world a culinary inspiration with"
   ]
  },
  {
   "cell_type": "markdown",
   "id": "2871e342",
   "metadata": {},
   "source": [
    "## 2 Data Preparation <a class=\"anchor\" id=\"two\"></a>"
   ]
  },
  {
   "cell_type": "markdown",
   "id": "9ee7db14",
   "metadata": {},
   "source": [
    "### 2.1 Data Sources <a class=\"anchor\" id=\"twoone\"></a>"
   ]
  },
  {
   "cell_type": "markdown",
   "id": "cee93547",
   "metadata": {},
   "source": [
    "Here's a data dictionary for the columns in the raw recipe dataset:\n",
    "\n",
    "| Column Name   | Description                                               |\n",
    "| ------------- | --------------------------------------------------------- |\n",
    "| name          | The name of the recipe.                                   |\n",
    "| id            | The unique identifier of the recipe.                       |\n",
    "| minutes       | The total cooking and preparation time in minutes.         |\n",
    "| contributor_id| The unique identifier of the user who submitted the recipe|\n",
    "| submitted     | The date when the recipe was submitted.                    |\n",
    "| tags          | Tags or labels associated with the recipe (e.g., vegetarian, vegan, dessert). |\n",
    "| nutrition     | Nutritional information (i.e. calories (#), total fat (PDV), sugar (PDV) , sodium (PDV) , protein (PDV) , saturated fat). |\n",
    "| n_steps       | The total number of steps or instructions in the recipe.   |\n",
    "| steps         | The step-by-step instructions for preparing the recipe.    |\n",
    "| description   | A brief description or summary of the recipe.              |\n",
    "| ingredients   | The list of ingredients required for the recipe.           |\n",
    "| n_ingredients | The total number of ingredients used in the recipe.        |"
   ]
  },
  {
   "cell_type": "markdown",
   "id": "07dd9dc6",
   "metadata": {},
   "source": [
    "Here's a data dictionary for the columns in the raw user interactions dataset:\n",
    "\n",
    "| Column Name | Description                                          |\n",
    "| ----------- | ---------------------------------------------------- |\n",
    "| user_id     | The unique identifier of the user.                    |\n",
    "| recipe_id   | The unique identifier of the recipe associated with the user's interaction. |\n",
    "| date        | The date when the user's interaction took place.      |\n",
    "| rating      | The rating given by the user for the recipe.          |\n",
    "| review      | The review or feedback provided by the user for the recipe. |"
   ]
  },
  {
   "cell_type": "markdown",
   "id": "f685213c",
   "metadata": {},
   "source": [
    "## Data Loading"
   ]
  },
  {
   "cell_type": "code",
   "execution_count": 1,
   "id": "ea442b77",
   "metadata": {},
   "outputs": [],
   "source": [
    "# Import libraries\n",
    "import numpy as np\n",
    "import pandas as pd\n",
    "import matplotlib.pyplot as plt\n",
    "import seaborn as sns"
   ]
  },
  {
   "cell_type": "code",
   "execution_count": 2,
   "id": "5a92abe3",
   "metadata": {},
   "outputs": [],
   "source": [
    "# Read the raw datasets\n",
    "raw_recipes_df = pd.read_csv('RAW_recipes.csv')\n",
    "raw_users_df = pd.read_csv('RAW_interactions.csv')"
   ]
  },
  {
   "cell_type": "code",
   "execution_count": 4,
   "id": "62f39081",
   "metadata": {},
   "outputs": [
    {
     "name": "stdout",
     "output_type": "stream",
     "text": [
      "The shape of the recipe dataset is: (231637, 12)\n",
      "The shape of the user interactions dataset is: (1132367, 5)\n"
     ]
    }
   ],
   "source": [
    "# Shape of the data\n",
    "print('The shape of the recipe dataset is:', raw_recipes_df.shape)\n",
    "print('The shape of the user interactions dataset is:', raw_users_df.shape)"
   ]
  },
  {
   "cell_type": "code",
   "execution_count": 3,
   "id": "cdf3805c",
   "metadata": {
    "scrolled": false
   },
   "outputs": [
    {
     "data": {
      "text/html": [
       "<div>\n",
       "<style scoped>\n",
       "    .dataframe tbody tr th:only-of-type {\n",
       "        vertical-align: middle;\n",
       "    }\n",
       "\n",
       "    .dataframe tbody tr th {\n",
       "        vertical-align: top;\n",
       "    }\n",
       "\n",
       "    .dataframe thead th {\n",
       "        text-align: right;\n",
       "    }\n",
       "</style>\n",
       "<table border=\"1\" class=\"dataframe\">\n",
       "  <thead>\n",
       "    <tr style=\"text-align: right;\">\n",
       "      <th></th>\n",
       "      <th>name</th>\n",
       "      <th>id</th>\n",
       "      <th>minutes</th>\n",
       "      <th>contributor_id</th>\n",
       "      <th>submitted</th>\n",
       "      <th>tags</th>\n",
       "      <th>nutrition</th>\n",
       "      <th>n_steps</th>\n",
       "      <th>steps</th>\n",
       "      <th>description</th>\n",
       "      <th>ingredients</th>\n",
       "      <th>n_ingredients</th>\n",
       "    </tr>\n",
       "  </thead>\n",
       "  <tbody>\n",
       "    <tr>\n",
       "      <th>0</th>\n",
       "      <td>arriba   baked winter squash mexican style</td>\n",
       "      <td>137739</td>\n",
       "      <td>55</td>\n",
       "      <td>47892</td>\n",
       "      <td>2005-09-16</td>\n",
       "      <td>['60-minutes-or-less', 'time-to-make', 'course...</td>\n",
       "      <td>[51.5, 0.0, 13.0, 0.0, 2.0, 0.0, 4.0]</td>\n",
       "      <td>11</td>\n",
       "      <td>['make a choice and proceed with recipe', 'dep...</td>\n",
       "      <td>autumn is my favorite time of year to cook! th...</td>\n",
       "      <td>['winter squash', 'mexican seasoning', 'mixed ...</td>\n",
       "      <td>7</td>\n",
       "    </tr>\n",
       "    <tr>\n",
       "      <th>1</th>\n",
       "      <td>a bit different  breakfast pizza</td>\n",
       "      <td>31490</td>\n",
       "      <td>30</td>\n",
       "      <td>26278</td>\n",
       "      <td>2002-06-17</td>\n",
       "      <td>['30-minutes-or-less', 'time-to-make', 'course...</td>\n",
       "      <td>[173.4, 18.0, 0.0, 17.0, 22.0, 35.0, 1.0]</td>\n",
       "      <td>9</td>\n",
       "      <td>['preheat oven to 425 degrees f', 'press dough...</td>\n",
       "      <td>this recipe calls for the crust to be prebaked...</td>\n",
       "      <td>['prepared pizza crust', 'sausage patty', 'egg...</td>\n",
       "      <td>6</td>\n",
       "    </tr>\n",
       "    <tr>\n",
       "      <th>2</th>\n",
       "      <td>all in the kitchen  chili</td>\n",
       "      <td>112140</td>\n",
       "      <td>130</td>\n",
       "      <td>196586</td>\n",
       "      <td>2005-02-25</td>\n",
       "      <td>['time-to-make', 'course', 'preparation', 'mai...</td>\n",
       "      <td>[269.8, 22.0, 32.0, 48.0, 39.0, 27.0, 5.0]</td>\n",
       "      <td>6</td>\n",
       "      <td>['brown ground beef in large pot', 'add choppe...</td>\n",
       "      <td>this modified version of 'mom's' chili was a h...</td>\n",
       "      <td>['ground beef', 'yellow onions', 'diced tomato...</td>\n",
       "      <td>13</td>\n",
       "    </tr>\n",
       "    <tr>\n",
       "      <th>3</th>\n",
       "      <td>alouette  potatoes</td>\n",
       "      <td>59389</td>\n",
       "      <td>45</td>\n",
       "      <td>68585</td>\n",
       "      <td>2003-04-14</td>\n",
       "      <td>['60-minutes-or-less', 'time-to-make', 'course...</td>\n",
       "      <td>[368.1, 17.0, 10.0, 2.0, 14.0, 8.0, 20.0]</td>\n",
       "      <td>11</td>\n",
       "      <td>['place potatoes in a large pot of lightly sal...</td>\n",
       "      <td>this is a super easy, great tasting, make ahea...</td>\n",
       "      <td>['spreadable cheese with garlic and herbs', 'n...</td>\n",
       "      <td>11</td>\n",
       "    </tr>\n",
       "    <tr>\n",
       "      <th>4</th>\n",
       "      <td>amish  tomato ketchup  for canning</td>\n",
       "      <td>44061</td>\n",
       "      <td>190</td>\n",
       "      <td>41706</td>\n",
       "      <td>2002-10-25</td>\n",
       "      <td>['weeknight', 'time-to-make', 'course', 'main-...</td>\n",
       "      <td>[352.9, 1.0, 337.0, 23.0, 3.0, 0.0, 28.0]</td>\n",
       "      <td>5</td>\n",
       "      <td>['mix all ingredients&amp; boil for 2 1 / 2 hours ...</td>\n",
       "      <td>my dh's amish mother raised him on this recipe...</td>\n",
       "      <td>['tomato juice', 'apple cider vinegar', 'sugar...</td>\n",
       "      <td>8</td>\n",
       "    </tr>\n",
       "  </tbody>\n",
       "</table>\n",
       "</div>"
      ],
      "text/plain": [
       "                                         name      id  minutes  \\\n",
       "0  arriba   baked winter squash mexican style  137739       55   \n",
       "1            a bit different  breakfast pizza   31490       30   \n",
       "2                   all in the kitchen  chili  112140      130   \n",
       "3                          alouette  potatoes   59389       45   \n",
       "4          amish  tomato ketchup  for canning   44061      190   \n",
       "\n",
       "   contributor_id   submitted  \\\n",
       "0           47892  2005-09-16   \n",
       "1           26278  2002-06-17   \n",
       "2          196586  2005-02-25   \n",
       "3           68585  2003-04-14   \n",
       "4           41706  2002-10-25   \n",
       "\n",
       "                                                tags  \\\n",
       "0  ['60-minutes-or-less', 'time-to-make', 'course...   \n",
       "1  ['30-minutes-or-less', 'time-to-make', 'course...   \n",
       "2  ['time-to-make', 'course', 'preparation', 'mai...   \n",
       "3  ['60-minutes-or-less', 'time-to-make', 'course...   \n",
       "4  ['weeknight', 'time-to-make', 'course', 'main-...   \n",
       "\n",
       "                                    nutrition  n_steps  \\\n",
       "0       [51.5, 0.0, 13.0, 0.0, 2.0, 0.0, 4.0]       11   \n",
       "1   [173.4, 18.0, 0.0, 17.0, 22.0, 35.0, 1.0]        9   \n",
       "2  [269.8, 22.0, 32.0, 48.0, 39.0, 27.0, 5.0]        6   \n",
       "3   [368.1, 17.0, 10.0, 2.0, 14.0, 8.0, 20.0]       11   \n",
       "4   [352.9, 1.0, 337.0, 23.0, 3.0, 0.0, 28.0]        5   \n",
       "\n",
       "                                               steps  \\\n",
       "0  ['make a choice and proceed with recipe', 'dep...   \n",
       "1  ['preheat oven to 425 degrees f', 'press dough...   \n",
       "2  ['brown ground beef in large pot', 'add choppe...   \n",
       "3  ['place potatoes in a large pot of lightly sal...   \n",
       "4  ['mix all ingredients& boil for 2 1 / 2 hours ...   \n",
       "\n",
       "                                         description  \\\n",
       "0  autumn is my favorite time of year to cook! th...   \n",
       "1  this recipe calls for the crust to be prebaked...   \n",
       "2  this modified version of 'mom's' chili was a h...   \n",
       "3  this is a super easy, great tasting, make ahea...   \n",
       "4  my dh's amish mother raised him on this recipe...   \n",
       "\n",
       "                                         ingredients  n_ingredients  \n",
       "0  ['winter squash', 'mexican seasoning', 'mixed ...              7  \n",
       "1  ['prepared pizza crust', 'sausage patty', 'egg...              6  \n",
       "2  ['ground beef', 'yellow onions', 'diced tomato...             13  \n",
       "3  ['spreadable cheese with garlic and herbs', 'n...             11  \n",
       "4  ['tomato juice', 'apple cider vinegar', 'sugar...              8  "
      ]
     },
     "execution_count": 3,
     "metadata": {},
     "output_type": "execute_result"
    }
   ],
   "source": [
    "# View recipes dataset\n",
    "raw_recipes_df.head()"
   ]
  },
  {
   "cell_type": "code",
   "execution_count": 5,
   "id": "9ccc0a7b",
   "metadata": {},
   "outputs": [
    {
     "data": {
      "text/html": [
       "<div>\n",
       "<style scoped>\n",
       "    .dataframe tbody tr th:only-of-type {\n",
       "        vertical-align: middle;\n",
       "    }\n",
       "\n",
       "    .dataframe tbody tr th {\n",
       "        vertical-align: top;\n",
       "    }\n",
       "\n",
       "    .dataframe thead th {\n",
       "        text-align: right;\n",
       "    }\n",
       "</style>\n",
       "<table border=\"1\" class=\"dataframe\">\n",
       "  <thead>\n",
       "    <tr style=\"text-align: right;\">\n",
       "      <th></th>\n",
       "      <th>user_id</th>\n",
       "      <th>recipe_id</th>\n",
       "      <th>date</th>\n",
       "      <th>rating</th>\n",
       "      <th>review</th>\n",
       "    </tr>\n",
       "  </thead>\n",
       "  <tbody>\n",
       "    <tr>\n",
       "      <th>0</th>\n",
       "      <td>38094</td>\n",
       "      <td>40893</td>\n",
       "      <td>2003-02-17</td>\n",
       "      <td>4</td>\n",
       "      <td>Great with a salad. Cooked on top of stove for...</td>\n",
       "    </tr>\n",
       "    <tr>\n",
       "      <th>1</th>\n",
       "      <td>1293707</td>\n",
       "      <td>40893</td>\n",
       "      <td>2011-12-21</td>\n",
       "      <td>5</td>\n",
       "      <td>So simple, so delicious! Great for chilly fall...</td>\n",
       "    </tr>\n",
       "    <tr>\n",
       "      <th>2</th>\n",
       "      <td>8937</td>\n",
       "      <td>44394</td>\n",
       "      <td>2002-12-01</td>\n",
       "      <td>4</td>\n",
       "      <td>This worked very well and is EASY.  I used not...</td>\n",
       "    </tr>\n",
       "    <tr>\n",
       "      <th>3</th>\n",
       "      <td>126440</td>\n",
       "      <td>85009</td>\n",
       "      <td>2010-02-27</td>\n",
       "      <td>5</td>\n",
       "      <td>I made the Mexican topping and took it to bunk...</td>\n",
       "    </tr>\n",
       "    <tr>\n",
       "      <th>4</th>\n",
       "      <td>57222</td>\n",
       "      <td>85009</td>\n",
       "      <td>2011-10-01</td>\n",
       "      <td>5</td>\n",
       "      <td>Made the cheddar bacon topping, adding a sprin...</td>\n",
       "    </tr>\n",
       "  </tbody>\n",
       "</table>\n",
       "</div>"
      ],
      "text/plain": [
       "   user_id  recipe_id        date  rating  \\\n",
       "0    38094      40893  2003-02-17       4   \n",
       "1  1293707      40893  2011-12-21       5   \n",
       "2     8937      44394  2002-12-01       4   \n",
       "3   126440      85009  2010-02-27       5   \n",
       "4    57222      85009  2011-10-01       5   \n",
       "\n",
       "                                              review  \n",
       "0  Great with a salad. Cooked on top of stove for...  \n",
       "1  So simple, so delicious! Great for chilly fall...  \n",
       "2  This worked very well and is EASY.  I used not...  \n",
       "3  I made the Mexican topping and took it to bunk...  \n",
       "4  Made the cheddar bacon topping, adding a sprin...  "
      ]
     },
     "execution_count": 5,
     "metadata": {},
     "output_type": "execute_result"
    }
   ],
   "source": [
    "# View user interactions dataset\n",
    "raw_users_df.head()"
   ]
  },
  {
   "cell_type": "markdown",
   "id": "f155061c",
   "metadata": {},
   "source": [
    "To gain a comprehensive understanding of the data types and identify any non-null values within the dataset, we will employ the `.info()` method."
   ]
  },
  {
   "cell_type": "code",
   "execution_count": 6,
   "id": "98f7cfb9",
   "metadata": {},
   "outputs": [
    {
     "name": "stdout",
     "output_type": "stream",
     "text": [
      "<class 'pandas.core.frame.DataFrame'>\n",
      "RangeIndex: 231637 entries, 0 to 231636\n",
      "Data columns (total 12 columns):\n",
      " #   Column          Non-Null Count   Dtype \n",
      "---  ------          --------------   ----- \n",
      " 0   name            231636 non-null  object\n",
      " 1   id              231637 non-null  int64 \n",
      " 2   minutes         231637 non-null  int64 \n",
      " 3   contributor_id  231637 non-null  int64 \n",
      " 4   submitted       231637 non-null  object\n",
      " 5   tags            231637 non-null  object\n",
      " 6   nutrition       231637 non-null  object\n",
      " 7   n_steps         231637 non-null  int64 \n",
      " 8   steps           231637 non-null  object\n",
      " 9   description     226658 non-null  object\n",
      " 10  ingredients     231637 non-null  object\n",
      " 11  n_ingredients   231637 non-null  int64 \n",
      "dtypes: int64(5), object(7)\n",
      "memory usage: 21.2+ MB\n"
     ]
    }
   ],
   "source": [
    "# Info about the recipe dataset\n",
    "raw_recipes_df.info()"
   ]
  },
  {
   "cell_type": "markdown",
   "id": "e642785a",
   "metadata": {},
   "source": [
    "We can see that the 'id' and 'contributor_id' columns are currently of integer data type, while the 'submitted' column is of object data type. To ensure consistency and facilitate data manipulation, we will convert the 'id' and 'contributor_id' columns to object data type. Additionally, we will convert the 'submitted' column to date data type for more convenient date-based operations."
   ]
  },
  {
   "cell_type": "code",
   "execution_count": 9,
   "id": "30e00d51",
   "metadata": {},
   "outputs": [
    {
     "name": "stdout",
     "output_type": "stream",
     "text": [
      "<class 'pandas.core.frame.DataFrame'>\n",
      "RangeIndex: 231637 entries, 0 to 231636\n",
      "Data columns (total 12 columns):\n",
      " #   Column          Non-Null Count   Dtype         \n",
      "---  ------          --------------   -----         \n",
      " 0   name            231636 non-null  object        \n",
      " 1   id              231637 non-null  object        \n",
      " 2   minutes         231637 non-null  int64         \n",
      " 3   contributor_id  231637 non-null  object        \n",
      " 4   submitted       231637 non-null  datetime64[ns]\n",
      " 5   tags            231637 non-null  object        \n",
      " 6   nutrition       231637 non-null  object        \n",
      " 7   n_steps         231637 non-null  int64         \n",
      " 8   steps           231637 non-null  object        \n",
      " 9   description     226658 non-null  object        \n",
      " 10  ingredients     231637 non-null  object        \n",
      " 11  n_ingredients   231637 non-null  int64         \n",
      "dtypes: datetime64[ns](1), int64(3), object(8)\n",
      "memory usage: 21.2+ MB\n"
     ]
    }
   ],
   "source": [
    "# Convert 'id' and 'contributor_id' columns to object data type\n",
    "raw_recipes_df['id'] = raw_recipes_df['id'].astype(str)\n",
    "raw_recipes_df['contributor_id'] = raw_recipes_df['contributor_id'].astype(str)\n",
    "\n",
    "# Convert 'submitted' column to date data type\n",
    "raw_recipes_df['submitted'] = pd.to_datetime(raw_recipes_df['submitted'], format='%Y-%m-%d')\n",
    "\n",
    "# Print updated data types of the columns\n",
    "raw_recipes_df.info()"
   ]
  },
  {
   "cell_type": "code",
   "execution_count": 7,
   "id": "6b1f0571",
   "metadata": {},
   "outputs": [
    {
     "name": "stdout",
     "output_type": "stream",
     "text": [
      "<class 'pandas.core.frame.DataFrame'>\n",
      "RangeIndex: 1132367 entries, 0 to 1132366\n",
      "Data columns (total 5 columns):\n",
      " #   Column     Non-Null Count    Dtype \n",
      "---  ------     --------------    ----- \n",
      " 0   user_id    1132367 non-null  int64 \n",
      " 1   recipe_id  1132367 non-null  int64 \n",
      " 2   date       1132367 non-null  object\n",
      " 3   rating     1132367 non-null  int64 \n",
      " 4   review     1132198 non-null  object\n",
      "dtypes: int64(3), object(2)\n",
      "memory usage: 43.2+ MB\n"
     ]
    }
   ],
   "source": [
    "# Info about the dataset\n",
    "raw_users_df.info()"
   ]
  },
  {
   "cell_type": "code",
   "execution_count": 10,
   "id": "1bc4372e",
   "metadata": {},
   "outputs": [
    {
     "data": {
      "text/plain": [
       "name                 1\n",
       "id                   0\n",
       "minutes              0\n",
       "contributor_id       0\n",
       "submitted            0\n",
       "tags                 0\n",
       "nutrition            0\n",
       "n_steps              0\n",
       "steps                0\n",
       "description       4979\n",
       "ingredients          0\n",
       "n_ingredients        0\n",
       "dtype: int64"
      ]
     },
     "execution_count": 10,
     "metadata": {},
     "output_type": "execute_result"
    }
   ],
   "source": [
    "raw_recipes_df.isna().sum()"
   ]
  },
  {
   "cell_type": "code",
   "execution_count": 11,
   "id": "6eafe9a4",
   "metadata": {},
   "outputs": [
    {
     "data": {
      "text/html": [
       "<div>\n",
       "<style scoped>\n",
       "    .dataframe tbody tr th:only-of-type {\n",
       "        vertical-align: middle;\n",
       "    }\n",
       "\n",
       "    .dataframe tbody tr th {\n",
       "        vertical-align: top;\n",
       "    }\n",
       "\n",
       "    .dataframe thead th {\n",
       "        text-align: right;\n",
       "    }\n",
       "</style>\n",
       "<table border=\"1\" class=\"dataframe\">\n",
       "  <thead>\n",
       "    <tr style=\"text-align: right;\">\n",
       "      <th></th>\n",
       "      <th>name</th>\n",
       "      <th>id</th>\n",
       "      <th>minutes</th>\n",
       "      <th>contributor_id</th>\n",
       "      <th>submitted</th>\n",
       "      <th>tags</th>\n",
       "      <th>nutrition</th>\n",
       "      <th>n_steps</th>\n",
       "      <th>steps</th>\n",
       "      <th>description</th>\n",
       "      <th>ingredients</th>\n",
       "      <th>n_ingredients</th>\n",
       "    </tr>\n",
       "  </thead>\n",
       "  <tbody>\n",
       "    <tr>\n",
       "      <th>721</th>\n",
       "      <td>NaN</td>\n",
       "      <td>368257</td>\n",
       "      <td>10</td>\n",
       "      <td>779451</td>\n",
       "      <td>2009-04-27</td>\n",
       "      <td>['15-minutes-or-less', 'time-to-make', 'course...</td>\n",
       "      <td>[1596.2, 249.0, 155.0, 0.0, 2.0, 112.0, 14.0]</td>\n",
       "      <td>6</td>\n",
       "      <td>['in a bowl , combine ingredients except for o...</td>\n",
       "      <td>-------------</td>\n",
       "      <td>['lemon', 'honey', 'horseradish mustard', 'gar...</td>\n",
       "      <td>10</td>\n",
       "    </tr>\n",
       "  </tbody>\n",
       "</table>\n",
       "</div>"
      ],
      "text/plain": [
       "    name      id  minutes  contributor_id   submitted  \\\n",
       "721  NaN  368257       10          779451  2009-04-27   \n",
       "\n",
       "                                                  tags  \\\n",
       "721  ['15-minutes-or-less', 'time-to-make', 'course...   \n",
       "\n",
       "                                         nutrition  n_steps  \\\n",
       "721  [1596.2, 249.0, 155.0, 0.0, 2.0, 112.0, 14.0]        6   \n",
       "\n",
       "                                                 steps    description  \\\n",
       "721  ['in a bowl , combine ingredients except for o...  -------------   \n",
       "\n",
       "                                           ingredients  n_ingredients  \n",
       "721  ['lemon', 'honey', 'horseradish mustard', 'gar...             10  "
      ]
     },
     "execution_count": 11,
     "metadata": {},
     "output_type": "execute_result"
    }
   ],
   "source": [
    "raw_recipes_df[raw_recipes_df['name'].isna()]"
   ]
  },
  {
   "cell_type": "code",
   "execution_count": 51,
   "id": "6467ec97",
   "metadata": {},
   "outputs": [
    {
     "name": "stdout",
     "output_type": "stream",
     "text": [
      "721    ['lemon', 'honey', 'horseradish mustard', 'garlic clove', 'dried parsley', 'dried basil', 'dried thyme', 'garlic salt', 'black pepper', 'olive oil']\n",
      "Name: ingredients, dtype: object\n"
     ]
    }
   ],
   "source": [
    "print(raw_recipes_df[raw_recipes_df['name'].isna()]['ingredients'])"
   ]
  },
  {
   "cell_type": "code",
   "execution_count": 43,
   "id": "36760667",
   "metadata": {},
   "outputs": [
    {
     "data": {
      "text/html": [
       "<div>\n",
       "<style scoped>\n",
       "    .dataframe tbody tr th:only-of-type {\n",
       "        vertical-align: middle;\n",
       "    }\n",
       "\n",
       "    .dataframe tbody tr th {\n",
       "        vertical-align: top;\n",
       "    }\n",
       "\n",
       "    .dataframe thead th {\n",
       "        text-align: right;\n",
       "    }\n",
       "</style>\n",
       "<table border=\"1\" class=\"dataframe\">\n",
       "  <thead>\n",
       "    <tr style=\"text-align: right;\">\n",
       "      <th></th>\n",
       "      <th>name</th>\n",
       "      <th>id</th>\n",
       "      <th>minutes</th>\n",
       "      <th>contributor_id</th>\n",
       "      <th>submitted</th>\n",
       "      <th>tags</th>\n",
       "      <th>nutrition</th>\n",
       "      <th>n_steps</th>\n",
       "      <th>steps</th>\n",
       "      <th>description</th>\n",
       "      <th>ingredients</th>\n",
       "      <th>n_ingredients</th>\n",
       "    </tr>\n",
       "  </thead>\n",
       "  <tbody>\n",
       "    <tr>\n",
       "      <th>721</th>\n",
       "      <td>NaN</td>\n",
       "      <td>368257</td>\n",
       "      <td>10</td>\n",
       "      <td>779451</td>\n",
       "      <td>2009-04-27</td>\n",
       "      <td>['15-minutes-or-less', 'time-to-make', 'course...</td>\n",
       "      <td>[1596.2, 249.0, 155.0, 0.0, 2.0, 112.0, 14.0]</td>\n",
       "      <td>6</td>\n",
       "      <td>['in a bowl , combine ingredients except for o...</td>\n",
       "      <td>-------------</td>\n",
       "      <td>['lemon', 'honey', 'horseradish mustard', 'gar...</td>\n",
       "      <td>10</td>\n",
       "    </tr>\n",
       "    <tr>\n",
       "      <th>20557</th>\n",
       "      <td>beef ribs   a beautiful barbecue</td>\n",
       "      <td>64711</td>\n",
       "      <td>90</td>\n",
       "      <td>74558</td>\n",
       "      <td>2003-06-17</td>\n",
       "      <td>['weeknight', 'time-to-make', 'course', 'main-...</td>\n",
       "      <td>[187.6, 3.0, 113.0, 33.0, 4.0, 1.0, 11.0]</td>\n",
       "      <td>20</td>\n",
       "      <td>['barbecue sauce / marinade: skin tomato and c...</td>\n",
       "      <td>the aroma wafting through your neighborhood of...</td>\n",
       "      <td>['beef ribs', 'tomatoes', 'vidalia onion', 'ga...</td>\n",
       "      <td>19</td>\n",
       "    </tr>\n",
       "    <tr>\n",
       "      <th>84821</th>\n",
       "      <td>flavored butters   8 variations</td>\n",
       "      <td>451664</td>\n",
       "      <td>5</td>\n",
       "      <td>57042</td>\n",
       "      <td>2011-03-26</td>\n",
       "      <td>['weeknight', '15-minutes-or-less', 'time-to-m...</td>\n",
       "      <td>[432.6, 71.0, 17.0, 20.0, 2.0, 146.0, 1.0]</td>\n",
       "      <td>12</td>\n",
       "      <td>['lemon basil: combine melted butter , lemon j...</td>\n",
       "      <td>flavored butters for corn on the cob. this cam...</td>\n",
       "      <td>['butter', 'lemon juice', 'dried basil', 'prep...</td>\n",
       "      <td>15</td>\n",
       "    </tr>\n",
       "    <tr>\n",
       "      <th>160368</th>\n",
       "      <td>pineapple salsa mahi</td>\n",
       "      <td>298073</td>\n",
       "      <td>20</td>\n",
       "      <td>453604</td>\n",
       "      <td>2008-04-11</td>\n",
       "      <td>['30-minutes-or-less', 'time-to-make', 'course...</td>\n",
       "      <td>[210.8, 2.0, 46.0, 23.0, 65.0, 1.0, 5.0]</td>\n",
       "      <td>10</td>\n",
       "      <td>['chop pineapple into small pieces', 'combine ...</td>\n",
       "      <td>got this recipe off a recipe card from publix....</td>\n",
       "      <td>['mahi mahi fillets', 'pineapple chunk', 'sals...</td>\n",
       "      <td>8</td>\n",
       "    </tr>\n",
       "    <tr>\n",
       "      <th>208527</th>\n",
       "      <td>tangy sweet and sour pork shoulder steak bake</td>\n",
       "      <td>151215</td>\n",
       "      <td>120</td>\n",
       "      <td>89831</td>\n",
       "      <td>2006-01-11</td>\n",
       "      <td>['time-to-make', 'course', 'main-ingredient', ...</td>\n",
       "      <td>[686.9, 34.0, 206.0, 49.0, 123.0, 37.0, 19.0]</td>\n",
       "      <td>15</td>\n",
       "      <td>['set oven to 350 degrees', 'grease a 13 x 9-i...</td>\n",
       "      <td>you can also make this using country-style por...</td>\n",
       "      <td>['pork shoulder steaks', 'seasoning salt', 'fr...</td>\n",
       "      <td>15</td>\n",
       "    </tr>\n",
       "  </tbody>\n",
       "</table>\n",
       "</div>"
      ],
      "text/plain": [
       "                                                 name      id  minutes  \\\n",
       "721                                               NaN  368257       10   \n",
       "20557                beef ribs   a beautiful barbecue   64711       90   \n",
       "84821                 flavored butters   8 variations  451664        5   \n",
       "160368                           pineapple salsa mahi  298073       20   \n",
       "208527  tangy sweet and sour pork shoulder steak bake  151215      120   \n",
       "\n",
       "        contributor_id   submitted  \\\n",
       "721             779451  2009-04-27   \n",
       "20557            74558  2003-06-17   \n",
       "84821            57042  2011-03-26   \n",
       "160368          453604  2008-04-11   \n",
       "208527           89831  2006-01-11   \n",
       "\n",
       "                                                     tags  \\\n",
       "721     ['15-minutes-or-less', 'time-to-make', 'course...   \n",
       "20557   ['weeknight', 'time-to-make', 'course', 'main-...   \n",
       "84821   ['weeknight', '15-minutes-or-less', 'time-to-m...   \n",
       "160368  ['30-minutes-or-less', 'time-to-make', 'course...   \n",
       "208527  ['time-to-make', 'course', 'main-ingredient', ...   \n",
       "\n",
       "                                            nutrition  n_steps  \\\n",
       "721     [1596.2, 249.0, 155.0, 0.0, 2.0, 112.0, 14.0]        6   \n",
       "20557       [187.6, 3.0, 113.0, 33.0, 4.0, 1.0, 11.0]       20   \n",
       "84821      [432.6, 71.0, 17.0, 20.0, 2.0, 146.0, 1.0]       12   \n",
       "160368       [210.8, 2.0, 46.0, 23.0, 65.0, 1.0, 5.0]       10   \n",
       "208527  [686.9, 34.0, 206.0, 49.0, 123.0, 37.0, 19.0]       15   \n",
       "\n",
       "                                                    steps  \\\n",
       "721     ['in a bowl , combine ingredients except for o...   \n",
       "20557   ['barbecue sauce / marinade: skin tomato and c...   \n",
       "84821   ['lemon basil: combine melted butter , lemon j...   \n",
       "160368  ['chop pineapple into small pieces', 'combine ...   \n",
       "208527  ['set oven to 350 degrees', 'grease a 13 x 9-i...   \n",
       "\n",
       "                                              description  \\\n",
       "721                                         -------------   \n",
       "20557   the aroma wafting through your neighborhood of...   \n",
       "84821   flavored butters for corn on the cob. this cam...   \n",
       "160368  got this recipe off a recipe card from publix....   \n",
       "208527  you can also make this using country-style por...   \n",
       "\n",
       "                                              ingredients  n_ingredients  \n",
       "721     ['lemon', 'honey', 'horseradish mustard', 'gar...             10  \n",
       "20557   ['beef ribs', 'tomatoes', 'vidalia onion', 'ga...             19  \n",
       "84821   ['butter', 'lemon juice', 'dried basil', 'prep...             15  \n",
       "160368  ['mahi mahi fillets', 'pineapple chunk', 'sals...              8  \n",
       "208527  ['pork shoulder steaks', 'seasoning salt', 'fr...             15  "
      ]
     },
     "execution_count": 43,
     "metadata": {},
     "output_type": "execute_result"
    }
   ],
   "source": [
    "raw_recipes_df[raw_recipes_df['ingredients'].str.contains('horseradish') & raw_recipes_df['ingredients'].str.contains('lemon') & raw_recipes_df['ingredients'].str.contains('honey') & raw_recipes_df['ingredients'].str.contains('garlic')]\n"
   ]
  },
  {
   "cell_type": "code",
   "execution_count": 4,
   "id": "e70ab6cf",
   "metadata": {},
   "outputs": [
    {
     "name": "stdout",
     "output_type": "stream",
     "text": [
      "369401    This was great! Thanx. It was the only one without vinegar which\\r\\nI can't take.  And the quantity was a small batch to fine tune.\n",
      "Name: review, dtype: object\n"
     ]
    }
   ],
   "source": [
    "pd.set_option('display.max_colwidth', None)\n",
    "print(raw_users_df.loc[raw_users_df['recipe_id'] == 368257]['review'])"
   ]
  },
  {
   "cell_type": "code",
   "execution_count": 6,
   "id": "62d6d463",
   "metadata": {},
   "outputs": [
    {
     "data": {
      "text/plain": [
       "'[51.5, 0.0, 13.0, 0.0, 2.0, 0.0, 4.0]'"
      ]
     },
     "execution_count": 6,
     "metadata": {},
     "output_type": "execute_result"
    }
   ],
   "source": [
    "raw_recipes_df['nutrition'][0]"
   ]
  },
  {
   "cell_type": "code",
   "execution_count": 12,
   "id": "6648721d",
   "metadata": {},
   "outputs": [
    {
     "data": {
      "text/html": [
       "<div>\n",
       "<style scoped>\n",
       "    .dataframe tbody tr th:only-of-type {\n",
       "        vertical-align: middle;\n",
       "    }\n",
       "\n",
       "    .dataframe tbody tr th {\n",
       "        vertical-align: top;\n",
       "    }\n",
       "\n",
       "    .dataframe thead th {\n",
       "        text-align: right;\n",
       "    }\n",
       "</style>\n",
       "<table border=\"1\" class=\"dataframe\">\n",
       "  <thead>\n",
       "    <tr style=\"text-align: right;\">\n",
       "      <th></th>\n",
       "      <th>name</th>\n",
       "      <th>id</th>\n",
       "      <th>minutes</th>\n",
       "      <th>contributor_id</th>\n",
       "      <th>submitted</th>\n",
       "      <th>tags</th>\n",
       "      <th>nutrition</th>\n",
       "      <th>n_steps</th>\n",
       "      <th>steps</th>\n",
       "      <th>description</th>\n",
       "      <th>ingredients</th>\n",
       "      <th>n_ingredients</th>\n",
       "    </tr>\n",
       "  </thead>\n",
       "  <tbody>\n",
       "    <tr>\n",
       "      <th>5</th>\n",
       "      <td>apple a day  milk shake</td>\n",
       "      <td>5289</td>\n",
       "      <td>0</td>\n",
       "      <td>1533</td>\n",
       "      <td>1999-12-06</td>\n",
       "      <td>['15-minutes-or-less', 'time-to-make', 'course...</td>\n",
       "      <td>[160.2, 10.0, 55.0, 3.0, 9.0, 20.0, 7.0]</td>\n",
       "      <td>4</td>\n",
       "      <td>['combine ingredients in blender', 'cover and ...</td>\n",
       "      <td>NaN</td>\n",
       "      <td>['milk', 'vanilla ice cream', 'frozen apple ju...</td>\n",
       "      <td>4</td>\n",
       "    </tr>\n",
       "    <tr>\n",
       "      <th>8</th>\n",
       "      <td>bananas 4 ice cream  pie</td>\n",
       "      <td>70971</td>\n",
       "      <td>180</td>\n",
       "      <td>102353</td>\n",
       "      <td>2003-09-10</td>\n",
       "      <td>['weeknight', 'time-to-make', 'course', 'main-...</td>\n",
       "      <td>[4270.8, 254.0, 1306.0, 111.0, 127.0, 431.0, 2...</td>\n",
       "      <td>8</td>\n",
       "      <td>['crumble cookies into a 9-inch pie plate , or...</td>\n",
       "      <td>NaN</td>\n",
       "      <td>['chocolate sandwich style cookies', 'chocolat...</td>\n",
       "      <td>6</td>\n",
       "    </tr>\n",
       "    <tr>\n",
       "      <th>74</th>\n",
       "      <td>philly  waldorf salad</td>\n",
       "      <td>5060</td>\n",
       "      <td>60</td>\n",
       "      <td>1534</td>\n",
       "      <td>1999-12-01</td>\n",
       "      <td>['60-minutes-or-less', 'time-to-make', 'course...</td>\n",
       "      <td>[180.7, 22.0, 29.0, 3.0, 6.0, 33.0, 3.0]</td>\n",
       "      <td>4</td>\n",
       "      <td>['combine softened cream cheese , orange juice...</td>\n",
       "      <td>NaN</td>\n",
       "      <td>['philadelphia cream cheese', 'orange juice', ...</td>\n",
       "      <td>7</td>\n",
       "    </tr>\n",
       "    <tr>\n",
       "      <th>76</th>\n",
       "      <td>pizza  stuffed potato</td>\n",
       "      <td>52443</td>\n",
       "      <td>25</td>\n",
       "      <td>1533</td>\n",
       "      <td>2003-01-28</td>\n",
       "      <td>['30-minutes-or-less', 'time-to-make', 'course...</td>\n",
       "      <td>[183.3, 12.0, 9.0, 15.0, 21.0, 23.0, 6.0]</td>\n",
       "      <td>8</td>\n",
       "      <td>['preheat oven to 450 degrees', 'cut potato in...</td>\n",
       "      <td>NaN</td>\n",
       "      <td>['baking potato', 'mozzarella cheese', 'tomato...</td>\n",
       "      <td>7</td>\n",
       "    </tr>\n",
       "    <tr>\n",
       "      <th>99</th>\n",
       "      <td>the woiks  dilly burgers</td>\n",
       "      <td>34930</td>\n",
       "      <td>32</td>\n",
       "      <td>23302</td>\n",
       "      <td>2002-07-24</td>\n",
       "      <td>['bacon', '60-minutes-or-less', 'time-to-make'...</td>\n",
       "      <td>[449.2, 50.0, 16.0, 19.0, 58.0, 67.0, 2.0]</td>\n",
       "      <td>8</td>\n",
       "      <td>['in a bowl , mix together the ground beef , m...</td>\n",
       "      <td>NaN</td>\n",
       "      <td>[\"mccormick's montreal brand steak seasoning\",...</td>\n",
       "      <td>9</td>\n",
       "    </tr>\n",
       "    <tr>\n",
       "      <th>...</th>\n",
       "      <td>...</td>\n",
       "      <td>...</td>\n",
       "      <td>...</td>\n",
       "      <td>...</td>\n",
       "      <td>...</td>\n",
       "      <td>...</td>\n",
       "      <td>...</td>\n",
       "      <td>...</td>\n",
       "      <td>...</td>\n",
       "      <td>...</td>\n",
       "      <td>...</td>\n",
       "      <td>...</td>\n",
       "    </tr>\n",
       "    <tr>\n",
       "      <th>231449</th>\n",
       "      <td>zucchini with onions and tomatoes</td>\n",
       "      <td>33602</td>\n",
       "      <td>50</td>\n",
       "      <td>23302</td>\n",
       "      <td>2002-07-08</td>\n",
       "      <td>['60-minutes-or-less', 'time-to-make', 'course...</td>\n",
       "      <td>[84.4, 5.0, 28.0, 1.0, 6.0, 9.0, 4.0]</td>\n",
       "      <td>5</td>\n",
       "      <td>['melt the butter in a large saucepan and cook...</td>\n",
       "      <td>NaN</td>\n",
       "      <td>['unsalted butter', 'onion', 'garlic', 'no-sal...</td>\n",
       "      <td>6</td>\n",
       "    </tr>\n",
       "    <tr>\n",
       "      <th>231492</th>\n",
       "      <td>zucchini  potato and parmesan soup</td>\n",
       "      <td>73668</td>\n",
       "      <td>45</td>\n",
       "      <td>29300</td>\n",
       "      <td>2003-10-20</td>\n",
       "      <td>['60-minutes-or-less', 'time-to-make', 'course...</td>\n",
       "      <td>[97.8, 4.0, 24.0, 15.0, 12.0, 3.0, 3.0]</td>\n",
       "      <td>14</td>\n",
       "      <td>['heat the oil in a large pot over medium heat...</td>\n",
       "      <td>NaN</td>\n",
       "      <td>['extra virgin olive oil', 'onion', 'celery ri...</td>\n",
       "      <td>11</td>\n",
       "    </tr>\n",
       "    <tr>\n",
       "      <th>231493</th>\n",
       "      <td>zucchini  red pepper   leek frittata</td>\n",
       "      <td>41429</td>\n",
       "      <td>65</td>\n",
       "      <td>1533</td>\n",
       "      <td>2002-09-30</td>\n",
       "      <td>['weeknight', 'time-to-make', 'course', 'main-...</td>\n",
       "      <td>[141.7, 6.0, 17.0, 9.0, 33.0, 4.0, 2.0]</td>\n",
       "      <td>11</td>\n",
       "      <td>['steam or microwave the vegetables together u...</td>\n",
       "      <td>NaN</td>\n",
       "      <td>['zucchini', 'red pepper', 'leek', 'vegetable ...</td>\n",
       "      <td>7</td>\n",
       "    </tr>\n",
       "    <tr>\n",
       "      <th>231534</th>\n",
       "      <td>zucchini garlic pasta</td>\n",
       "      <td>49456</td>\n",
       "      <td>40</td>\n",
       "      <td>37779</td>\n",
       "      <td>2002-12-22</td>\n",
       "      <td>['60-minutes-or-less', 'time-to-make', 'course...</td>\n",
       "      <td>[519.4, 31.0, 16.0, 19.0, 38.0, 36.0, 21.0]</td>\n",
       "      <td>11</td>\n",
       "      <td>['prepare pasta according to package direction...</td>\n",
       "      <td>NaN</td>\n",
       "      <td>['wagon wheel macaroni', 'bacon', 'onion', 'ga...</td>\n",
       "      <td>8</td>\n",
       "    </tr>\n",
       "    <tr>\n",
       "      <th>231554</th>\n",
       "      <td>zucchini tomato frittata</td>\n",
       "      <td>73629</td>\n",
       "      <td>45</td>\n",
       "      <td>29300</td>\n",
       "      <td>2003-10-20</td>\n",
       "      <td>['60-minutes-or-less', 'time-to-make', 'course...</td>\n",
       "      <td>[130.9, 14.0, 9.0, 11.0, 16.0, 13.0, 1.0]</td>\n",
       "      <td>11</td>\n",
       "      <td>['preheat the oven to 350f', 'in a medium bowl...</td>\n",
       "      <td>NaN</td>\n",
       "      <td>['eggs', 'parmesan cheese', 'salt', 'ground bl...</td>\n",
       "      <td>10</td>\n",
       "    </tr>\n",
       "  </tbody>\n",
       "</table>\n",
       "<p>4979 rows × 12 columns</p>\n",
       "</div>"
      ],
      "text/plain": [
       "                                        name     id  minutes  contributor_id  \\\n",
       "5                    apple a day  milk shake   5289        0            1533   \n",
       "8                   bananas 4 ice cream  pie  70971      180          102353   \n",
       "74                     philly  waldorf salad   5060       60            1534   \n",
       "76                     pizza  stuffed potato  52443       25            1533   \n",
       "99                  the woiks  dilly burgers  34930       32           23302   \n",
       "...                                      ...    ...      ...             ...   \n",
       "231449     zucchini with onions and tomatoes  33602       50           23302   \n",
       "231492    zucchini  potato and parmesan soup  73668       45           29300   \n",
       "231493  zucchini  red pepper   leek frittata  41429       65            1533   \n",
       "231534                 zucchini garlic pasta  49456       40           37779   \n",
       "231554              zucchini tomato frittata  73629       45           29300   \n",
       "\n",
       "         submitted                                               tags  \\\n",
       "5       1999-12-06  ['15-minutes-or-less', 'time-to-make', 'course...   \n",
       "8       2003-09-10  ['weeknight', 'time-to-make', 'course', 'main-...   \n",
       "74      1999-12-01  ['60-minutes-or-less', 'time-to-make', 'course...   \n",
       "76      2003-01-28  ['30-minutes-or-less', 'time-to-make', 'course...   \n",
       "99      2002-07-24  ['bacon', '60-minutes-or-less', 'time-to-make'...   \n",
       "...            ...                                                ...   \n",
       "231449  2002-07-08  ['60-minutes-or-less', 'time-to-make', 'course...   \n",
       "231492  2003-10-20  ['60-minutes-or-less', 'time-to-make', 'course...   \n",
       "231493  2002-09-30  ['weeknight', 'time-to-make', 'course', 'main-...   \n",
       "231534  2002-12-22  ['60-minutes-or-less', 'time-to-make', 'course...   \n",
       "231554  2003-10-20  ['60-minutes-or-less', 'time-to-make', 'course...   \n",
       "\n",
       "                                                nutrition  n_steps  \\\n",
       "5                [160.2, 10.0, 55.0, 3.0, 9.0, 20.0, 7.0]        4   \n",
       "8       [4270.8, 254.0, 1306.0, 111.0, 127.0, 431.0, 2...        8   \n",
       "74               [180.7, 22.0, 29.0, 3.0, 6.0, 33.0, 3.0]        4   \n",
       "76              [183.3, 12.0, 9.0, 15.0, 21.0, 23.0, 6.0]        8   \n",
       "99             [449.2, 50.0, 16.0, 19.0, 58.0, 67.0, 2.0]        8   \n",
       "...                                                   ...      ...   \n",
       "231449              [84.4, 5.0, 28.0, 1.0, 6.0, 9.0, 4.0]        5   \n",
       "231492            [97.8, 4.0, 24.0, 15.0, 12.0, 3.0, 3.0]       14   \n",
       "231493            [141.7, 6.0, 17.0, 9.0, 33.0, 4.0, 2.0]       11   \n",
       "231534        [519.4, 31.0, 16.0, 19.0, 38.0, 36.0, 21.0]       11   \n",
       "231554          [130.9, 14.0, 9.0, 11.0, 16.0, 13.0, 1.0]       11   \n",
       "\n",
       "                                                    steps description  \\\n",
       "5       ['combine ingredients in blender', 'cover and ...         NaN   \n",
       "8       ['crumble cookies into a 9-inch pie plate , or...         NaN   \n",
       "74      ['combine softened cream cheese , orange juice...         NaN   \n",
       "76      ['preheat oven to 450 degrees', 'cut potato in...         NaN   \n",
       "99      ['in a bowl , mix together the ground beef , m...         NaN   \n",
       "...                                                   ...         ...   \n",
       "231449  ['melt the butter in a large saucepan and cook...         NaN   \n",
       "231492  ['heat the oil in a large pot over medium heat...         NaN   \n",
       "231493  ['steam or microwave the vegetables together u...         NaN   \n",
       "231534  ['prepare pasta according to package direction...         NaN   \n",
       "231554  ['preheat the oven to 350f', 'in a medium bowl...         NaN   \n",
       "\n",
       "                                              ingredients  n_ingredients  \n",
       "5       ['milk', 'vanilla ice cream', 'frozen apple ju...              4  \n",
       "8       ['chocolate sandwich style cookies', 'chocolat...              6  \n",
       "74      ['philadelphia cream cheese', 'orange juice', ...              7  \n",
       "76      ['baking potato', 'mozzarella cheese', 'tomato...              7  \n",
       "99      [\"mccormick's montreal brand steak seasoning\",...              9  \n",
       "...                                                   ...            ...  \n",
       "231449  ['unsalted butter', 'onion', 'garlic', 'no-sal...              6  \n",
       "231492  ['extra virgin olive oil', 'onion', 'celery ri...             11  \n",
       "231493  ['zucchini', 'red pepper', 'leek', 'vegetable ...              7  \n",
       "231534  ['wagon wheel macaroni', 'bacon', 'onion', 'ga...              8  \n",
       "231554  ['eggs', 'parmesan cheese', 'salt', 'ground bl...             10  \n",
       "\n",
       "[4979 rows x 12 columns]"
      ]
     },
     "execution_count": 12,
     "metadata": {},
     "output_type": "execute_result"
    }
   ],
   "source": [
    "raw_recipes_df[raw_recipes_df['description'].isna()]"
   ]
  },
  {
   "cell_type": "code",
   "execution_count": 13,
   "id": "b6aeebe1",
   "metadata": {},
   "outputs": [
    {
     "data": {
      "text/plain": [
       "user_id        0\n",
       "recipe_id      0\n",
       "date           0\n",
       "rating         0\n",
       "review       169\n",
       "dtype: int64"
      ]
     },
     "execution_count": 13,
     "metadata": {},
     "output_type": "execute_result"
    }
   ],
   "source": [
    "raw_users_df.isna().sum()"
   ]
  },
  {
   "cell_type": "code",
   "execution_count": 14,
   "id": "d4f3d420",
   "metadata": {},
   "outputs": [
    {
     "data": {
      "text/plain": [
       "0"
      ]
     },
     "execution_count": 14,
     "metadata": {},
     "output_type": "execute_result"
    }
   ],
   "source": [
    "raw_recipes_df.duplicated().sum()"
   ]
  },
  {
   "cell_type": "code",
   "execution_count": 17,
   "id": "0c935593",
   "metadata": {},
   "outputs": [
    {
     "data": {
      "text/plain": [
       "0"
      ]
     },
     "execution_count": 17,
     "metadata": {},
     "output_type": "execute_result"
    }
   ],
   "source": [
    "raw_users_df.duplicated().sum()"
   ]
  },
  {
   "cell_type": "code",
   "execution_count": 18,
   "id": "4e1f59a0",
   "metadata": {},
   "outputs": [
    {
     "data": {
      "text/plain": [
       "2.149915600702824"
      ]
     },
     "execution_count": 18,
     "metadata": {},
     "output_type": "execute_result"
    }
   ],
   "source": [
    "raw_recipes_df.isna().sum().sum()/raw_recipes_df.shape[0]*100"
   ]
  },
  {
   "cell_type": "markdown",
   "id": "3ba84389",
   "metadata": {},
   "source": [
    "2.15% of total data"
   ]
  },
  {
   "cell_type": "code",
   "execution_count": 19,
   "id": "6886848e",
   "metadata": {},
   "outputs": [
    {
     "data": {
      "text/plain": [
       "0.014924490028409516"
      ]
     },
     "execution_count": 19,
     "metadata": {},
     "output_type": "execute_result"
    }
   ],
   "source": [
    "raw_users_df.isna().sum().sum()/raw_users_df.shape[0]*100"
   ]
  },
  {
   "cell_type": "markdown",
   "id": "34cf16ef",
   "metadata": {},
   "source": [
    "0.01% of total data"
   ]
  },
  {
   "cell_type": "code",
   "execution_count": 20,
   "id": "3c5406a7",
   "metadata": {},
   "outputs": [
    {
     "data": {
      "text/plain": [
       "(226657, 12)"
      ]
     },
     "execution_count": 20,
     "metadata": {},
     "output_type": "execute_result"
    }
   ],
   "source": [
    "test = raw_recipes_df.dropna()\n",
    "test.shape"
   ]
  },
  {
   "cell_type": "code",
   "execution_count": 21,
   "id": "77e2ab6f",
   "metadata": {},
   "outputs": [
    {
     "data": {
      "text/plain": [
       "Index(['name', 'id', 'minutes', 'contributor_id', 'submitted', 'tags',\n",
       "       'nutrition', 'n_steps', 'steps', 'description', 'ingredients',\n",
       "       'n_ingredients'],\n",
       "      dtype='object')"
      ]
     },
     "execution_count": 21,
     "metadata": {},
     "output_type": "execute_result"
    }
   ],
   "source": [
    "raw_recipes_df.columns"
   ]
  },
  {
   "cell_type": "code",
   "execution_count": 22,
   "id": "df89c367",
   "metadata": {},
   "outputs": [
    {
     "data": {
      "text/plain": [
       "Index(['user_id', 'recipe_id', 'date', 'rating', 'review'], dtype='object')"
      ]
     },
     "execution_count": 22,
     "metadata": {},
     "output_type": "execute_result"
    }
   ],
   "source": [
    "raw_users_df.columns"
   ]
  },
  {
   "cell_type": "code",
   "execution_count": null,
   "id": "32ae309d",
   "metadata": {},
   "outputs": [],
   "source": []
  }
 ],
 "metadata": {
  "kernelspec": {
   "display_name": "Python 3 (ipykernel)",
   "language": "python",
   "name": "python3"
  },
  "language_info": {
   "codemirror_mode": {
    "name": "ipython",
    "version": 3
   },
   "file_extension": ".py",
   "mimetype": "text/x-python",
   "name": "python",
   "nbconvert_exporter": "python",
   "pygments_lexer": "ipython3",
   "version": "3.11.2"
  }
 },
 "nbformat": 4,
 "nbformat_minor": 5
}
