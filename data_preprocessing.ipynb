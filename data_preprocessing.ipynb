{
 "cells": [
  {
   "cell_type": "markdown",
   "id": "dc05285c",
   "metadata": {},
   "source": [
    "# Recipe Recommendation System: Data Preparation"
   ]
  },
  {
   "cell_type": "markdown",
   "id": "f6abc337",
   "metadata": {},
   "source": [
    "By: Kelly Li\n"
   ]
  },
  {
   "cell_type": "markdown",
   "id": "8753194c",
   "metadata": {},
   "source": [
    "## Table of contents:\n",
    "* [1 Introduction](#one)\n",
    "* [2 Dataset](#two)\n",
    "    * [2.1 Data Sources](#twoone)\n",
    "    * [2.2 Data Loading](#twotwo)\n",
    "* [3 Data Cleaning](#three)\n",
    "    * [3.1 Data Types](#threeone) \n",
    "    * [3.2 Missing Data](#threetwo)\n",
    "    * [3.3 Duplicate Data](#threethree)\n",
    "* [4 Findings Summary](#four)\n",
    "* [5 Conclusion](#five)\n",
    "\n",
    "-------------------------------------------------------------------------------------------------------------------------------"
   ]
  },
  {
   "cell_type": "markdown",
   "id": "7b43e23a",
   "metadata": {},
   "source": [
    "## 1 Introduction <a class=\"anchor\" id=\"one\"></a>"
   ]
  },
  {
   "cell_type": "markdown",
   "id": "1f2c33d4",
   "metadata": {},
   "source": [
    "Cooking enthusiasts often face challenges in finding personalized and diverse recipes that align with their tastes, dietar restrictions, and ingredient preferences. The existing search process is time-consuming, lacks inspiration, and fails to cater to specific dietary needs. To address these challenges, we have developed a recipe recommendation system that aids in recipe discovery, focusing on providing inspiration and catering to specific dietary needs. By leveraging advanced algorithms, it curates personalized recipe suggestions that ignite culinary creativity while considering unique tasts and dietary requirements. Wecome a world a culinary inspiration with"
   ]
  },
  {
   "cell_type": "markdown",
   "id": "2871e342",
   "metadata": {},
   "source": [
    "## 2 Data Preparation <a class=\"anchor\" id=\"two\"></a>"
   ]
  },
  {
   "cell_type": "markdown",
   "id": "9ee7db14",
   "metadata": {},
   "source": [
    "### 2.1 Data Sources <a class=\"anchor\" id=\"twoone\"></a>"
   ]
  },
  {
   "cell_type": "markdown",
   "id": "cee93547",
   "metadata": {},
   "source": [
    "Here's a data dictionary for the columns in the raw recipe dataset:\n",
    "\n",
    "| Column Name   | Description                                               |\n",
    "| ------------- | --------------------------------------------------------- |\n",
    "| name          | The name of the recipe.                                   |\n",
    "| id            | The unique identifier of the recipe.                       |\n",
    "| minutes       | The total cooking and preparation time in minutes.         |\n",
    "| contributor_id| The unique identifier of the user who submitted the recipe|\n",
    "| submitted     | The date when the recipe was submitted.                    |\n",
    "| tags          | Tags or labels associated with the recipe (e.g., vegetarian, vegan, dessert). |\n",
    "| nutrition     | Nutritional information (i.e. calories (#), total fat (PDV), sugar (PDV) , sodium (PDV) , protein (PDV) , saturated fat). |\n",
    "| n_steps       | The total number of steps or instructions in the recipe.   |\n",
    "| steps         | The step-by-step instructions for preparing the recipe.    |\n",
    "| description   | A brief description or summary of the recipe.              |\n",
    "| ingredients   | The list of ingredients required for the recipe.           |\n",
    "| n_ingredients | The total number of ingredients used in the recipe.        |"
   ]
  },
  {
   "cell_type": "markdown",
   "id": "07dd9dc6",
   "metadata": {},
   "source": [
    "Here's a data dictionary for the columns in the raw user interactions dataset:\n",
    "\n",
    "| Column Name | Description                                          |\n",
    "| ----------- | ---------------------------------------------------- |\n",
    "| user_id     | The unique identifier of the user.                    |\n",
    "| recipe_id   | The unique identifier of the recipe associated with the user's interaction. |\n",
    "| date        | The date when the user's interaction took place.      |\n",
    "| rating      | The rating given by the user for the recipe.          |\n",
    "| review      | The review or feedback provided by the user for the recipe. |"
   ]
  },
  {
   "cell_type": "markdown",
   "id": "f685213c",
   "metadata": {},
   "source": [
    "### 2.2 Data Loading <a class=\"anchor\" id=\"twotwo\"></a>"
   ]
  },
  {
   "cell_type": "code",
   "execution_count": 1,
   "id": "ea442b77",
   "metadata": {},
   "outputs": [],
   "source": [
    "# Import libraries\n",
    "import numpy as np\n",
    "import pandas as pd\n",
    "import matplotlib.pyplot as plt\n",
    "import seaborn as sns"
   ]
  },
  {
   "cell_type": "code",
   "execution_count": 2,
   "id": "5a92abe3",
   "metadata": {},
   "outputs": [],
   "source": [
    "# Read the raw datasets\n",
    "raw_recipes_df = pd.read_csv('RAW_recipes.csv')\n",
    "raw_users_df = pd.read_csv('RAW_interactions.csv')"
   ]
  },
  {
   "cell_type": "code",
   "execution_count": 3,
   "id": "62f39081",
   "metadata": {},
   "outputs": [
    {
     "name": "stdout",
     "output_type": "stream",
     "text": [
      "The shape of the recipe dataset is: (231637, 12)\n",
      "The shape of the user interactions dataset is: (1132367, 5)\n"
     ]
    }
   ],
   "source": [
    "# Shape of the data\n",
    "print('The shape of the recipe dataset is:', raw_recipes_df.shape)\n",
    "print('The shape of the user interactions dataset is:', raw_users_df.shape)"
   ]
  },
  {
   "cell_type": "code",
   "execution_count": 4,
   "id": "cdf3805c",
   "metadata": {
    "scrolled": false
   },
   "outputs": [
    {
     "data": {
      "text/html": [
       "<div>\n",
       "<style scoped>\n",
       "    .dataframe tbody tr th:only-of-type {\n",
       "        vertical-align: middle;\n",
       "    }\n",
       "\n",
       "    .dataframe tbody tr th {\n",
       "        vertical-align: top;\n",
       "    }\n",
       "\n",
       "    .dataframe thead th {\n",
       "        text-align: right;\n",
       "    }\n",
       "</style>\n",
       "<table border=\"1\" class=\"dataframe\">\n",
       "  <thead>\n",
       "    <tr style=\"text-align: right;\">\n",
       "      <th></th>\n",
       "      <th>name</th>\n",
       "      <th>id</th>\n",
       "      <th>minutes</th>\n",
       "      <th>contributor_id</th>\n",
       "      <th>submitted</th>\n",
       "      <th>tags</th>\n",
       "      <th>nutrition</th>\n",
       "      <th>n_steps</th>\n",
       "      <th>steps</th>\n",
       "      <th>description</th>\n",
       "      <th>ingredients</th>\n",
       "      <th>n_ingredients</th>\n",
       "    </tr>\n",
       "  </thead>\n",
       "  <tbody>\n",
       "    <tr>\n",
       "      <th>0</th>\n",
       "      <td>arriba   baked winter squash mexican style</td>\n",
       "      <td>137739</td>\n",
       "      <td>55</td>\n",
       "      <td>47892</td>\n",
       "      <td>2005-09-16</td>\n",
       "      <td>['60-minutes-or-less', 'time-to-make', 'course...</td>\n",
       "      <td>[51.5, 0.0, 13.0, 0.0, 2.0, 0.0, 4.0]</td>\n",
       "      <td>11</td>\n",
       "      <td>['make a choice and proceed with recipe', 'dep...</td>\n",
       "      <td>autumn is my favorite time of year to cook! th...</td>\n",
       "      <td>['winter squash', 'mexican seasoning', 'mixed ...</td>\n",
       "      <td>7</td>\n",
       "    </tr>\n",
       "    <tr>\n",
       "      <th>1</th>\n",
       "      <td>a bit different  breakfast pizza</td>\n",
       "      <td>31490</td>\n",
       "      <td>30</td>\n",
       "      <td>26278</td>\n",
       "      <td>2002-06-17</td>\n",
       "      <td>['30-minutes-or-less', 'time-to-make', 'course...</td>\n",
       "      <td>[173.4, 18.0, 0.0, 17.0, 22.0, 35.0, 1.0]</td>\n",
       "      <td>9</td>\n",
       "      <td>['preheat oven to 425 degrees f', 'press dough...</td>\n",
       "      <td>this recipe calls for the crust to be prebaked...</td>\n",
       "      <td>['prepared pizza crust', 'sausage patty', 'egg...</td>\n",
       "      <td>6</td>\n",
       "    </tr>\n",
       "    <tr>\n",
       "      <th>2</th>\n",
       "      <td>all in the kitchen  chili</td>\n",
       "      <td>112140</td>\n",
       "      <td>130</td>\n",
       "      <td>196586</td>\n",
       "      <td>2005-02-25</td>\n",
       "      <td>['time-to-make', 'course', 'preparation', 'mai...</td>\n",
       "      <td>[269.8, 22.0, 32.0, 48.0, 39.0, 27.0, 5.0]</td>\n",
       "      <td>6</td>\n",
       "      <td>['brown ground beef in large pot', 'add choppe...</td>\n",
       "      <td>this modified version of 'mom's' chili was a h...</td>\n",
       "      <td>['ground beef', 'yellow onions', 'diced tomato...</td>\n",
       "      <td>13</td>\n",
       "    </tr>\n",
       "    <tr>\n",
       "      <th>3</th>\n",
       "      <td>alouette  potatoes</td>\n",
       "      <td>59389</td>\n",
       "      <td>45</td>\n",
       "      <td>68585</td>\n",
       "      <td>2003-04-14</td>\n",
       "      <td>['60-minutes-or-less', 'time-to-make', 'course...</td>\n",
       "      <td>[368.1, 17.0, 10.0, 2.0, 14.0, 8.0, 20.0]</td>\n",
       "      <td>11</td>\n",
       "      <td>['place potatoes in a large pot of lightly sal...</td>\n",
       "      <td>this is a super easy, great tasting, make ahea...</td>\n",
       "      <td>['spreadable cheese with garlic and herbs', 'n...</td>\n",
       "      <td>11</td>\n",
       "    </tr>\n",
       "    <tr>\n",
       "      <th>4</th>\n",
       "      <td>amish  tomato ketchup  for canning</td>\n",
       "      <td>44061</td>\n",
       "      <td>190</td>\n",
       "      <td>41706</td>\n",
       "      <td>2002-10-25</td>\n",
       "      <td>['weeknight', 'time-to-make', 'course', 'main-...</td>\n",
       "      <td>[352.9, 1.0, 337.0, 23.0, 3.0, 0.0, 28.0]</td>\n",
       "      <td>5</td>\n",
       "      <td>['mix all ingredients&amp; boil for 2 1 / 2 hours ...</td>\n",
       "      <td>my dh's amish mother raised him on this recipe...</td>\n",
       "      <td>['tomato juice', 'apple cider vinegar', 'sugar...</td>\n",
       "      <td>8</td>\n",
       "    </tr>\n",
       "  </tbody>\n",
       "</table>\n",
       "</div>"
      ],
      "text/plain": [
       "                                         name      id  minutes  \\\n",
       "0  arriba   baked winter squash mexican style  137739       55   \n",
       "1            a bit different  breakfast pizza   31490       30   \n",
       "2                   all in the kitchen  chili  112140      130   \n",
       "3                          alouette  potatoes   59389       45   \n",
       "4          amish  tomato ketchup  for canning   44061      190   \n",
       "\n",
       "   contributor_id   submitted  \\\n",
       "0           47892  2005-09-16   \n",
       "1           26278  2002-06-17   \n",
       "2          196586  2005-02-25   \n",
       "3           68585  2003-04-14   \n",
       "4           41706  2002-10-25   \n",
       "\n",
       "                                                tags  \\\n",
       "0  ['60-minutes-or-less', 'time-to-make', 'course...   \n",
       "1  ['30-minutes-or-less', 'time-to-make', 'course...   \n",
       "2  ['time-to-make', 'course', 'preparation', 'mai...   \n",
       "3  ['60-minutes-or-less', 'time-to-make', 'course...   \n",
       "4  ['weeknight', 'time-to-make', 'course', 'main-...   \n",
       "\n",
       "                                    nutrition  n_steps  \\\n",
       "0       [51.5, 0.0, 13.0, 0.0, 2.0, 0.0, 4.0]       11   \n",
       "1   [173.4, 18.0, 0.0, 17.0, 22.0, 35.0, 1.0]        9   \n",
       "2  [269.8, 22.0, 32.0, 48.0, 39.0, 27.0, 5.0]        6   \n",
       "3   [368.1, 17.0, 10.0, 2.0, 14.0, 8.0, 20.0]       11   \n",
       "4   [352.9, 1.0, 337.0, 23.0, 3.0, 0.0, 28.0]        5   \n",
       "\n",
       "                                               steps  \\\n",
       "0  ['make a choice and proceed with recipe', 'dep...   \n",
       "1  ['preheat oven to 425 degrees f', 'press dough...   \n",
       "2  ['brown ground beef in large pot', 'add choppe...   \n",
       "3  ['place potatoes in a large pot of lightly sal...   \n",
       "4  ['mix all ingredients& boil for 2 1 / 2 hours ...   \n",
       "\n",
       "                                         description  \\\n",
       "0  autumn is my favorite time of year to cook! th...   \n",
       "1  this recipe calls for the crust to be prebaked...   \n",
       "2  this modified version of 'mom's' chili was a h...   \n",
       "3  this is a super easy, great tasting, make ahea...   \n",
       "4  my dh's amish mother raised him on this recipe...   \n",
       "\n",
       "                                         ingredients  n_ingredients  \n",
       "0  ['winter squash', 'mexican seasoning', 'mixed ...              7  \n",
       "1  ['prepared pizza crust', 'sausage patty', 'egg...              6  \n",
       "2  ['ground beef', 'yellow onions', 'diced tomato...             13  \n",
       "3  ['spreadable cheese with garlic and herbs', 'n...             11  \n",
       "4  ['tomato juice', 'apple cider vinegar', 'sugar...              8  "
      ]
     },
     "execution_count": 4,
     "metadata": {},
     "output_type": "execute_result"
    }
   ],
   "source": [
    "# View recipes dataset\n",
    "raw_recipes_df.head()"
   ]
  },
  {
   "cell_type": "code",
   "execution_count": 5,
   "id": "9ccc0a7b",
   "metadata": {},
   "outputs": [
    {
     "data": {
      "text/html": [
       "<div>\n",
       "<style scoped>\n",
       "    .dataframe tbody tr th:only-of-type {\n",
       "        vertical-align: middle;\n",
       "    }\n",
       "\n",
       "    .dataframe tbody tr th {\n",
       "        vertical-align: top;\n",
       "    }\n",
       "\n",
       "    .dataframe thead th {\n",
       "        text-align: right;\n",
       "    }\n",
       "</style>\n",
       "<table border=\"1\" class=\"dataframe\">\n",
       "  <thead>\n",
       "    <tr style=\"text-align: right;\">\n",
       "      <th></th>\n",
       "      <th>user_id</th>\n",
       "      <th>recipe_id</th>\n",
       "      <th>date</th>\n",
       "      <th>rating</th>\n",
       "      <th>review</th>\n",
       "    </tr>\n",
       "  </thead>\n",
       "  <tbody>\n",
       "    <tr>\n",
       "      <th>0</th>\n",
       "      <td>38094</td>\n",
       "      <td>40893</td>\n",
       "      <td>2003-02-17</td>\n",
       "      <td>4</td>\n",
       "      <td>Great with a salad. Cooked on top of stove for...</td>\n",
       "    </tr>\n",
       "    <tr>\n",
       "      <th>1</th>\n",
       "      <td>1293707</td>\n",
       "      <td>40893</td>\n",
       "      <td>2011-12-21</td>\n",
       "      <td>5</td>\n",
       "      <td>So simple, so delicious! Great for chilly fall...</td>\n",
       "    </tr>\n",
       "    <tr>\n",
       "      <th>2</th>\n",
       "      <td>8937</td>\n",
       "      <td>44394</td>\n",
       "      <td>2002-12-01</td>\n",
       "      <td>4</td>\n",
       "      <td>This worked very well and is EASY.  I used not...</td>\n",
       "    </tr>\n",
       "    <tr>\n",
       "      <th>3</th>\n",
       "      <td>126440</td>\n",
       "      <td>85009</td>\n",
       "      <td>2010-02-27</td>\n",
       "      <td>5</td>\n",
       "      <td>I made the Mexican topping and took it to bunk...</td>\n",
       "    </tr>\n",
       "    <tr>\n",
       "      <th>4</th>\n",
       "      <td>57222</td>\n",
       "      <td>85009</td>\n",
       "      <td>2011-10-01</td>\n",
       "      <td>5</td>\n",
       "      <td>Made the cheddar bacon topping, adding a sprin...</td>\n",
       "    </tr>\n",
       "  </tbody>\n",
       "</table>\n",
       "</div>"
      ],
      "text/plain": [
       "   user_id  recipe_id        date  rating  \\\n",
       "0    38094      40893  2003-02-17       4   \n",
       "1  1293707      40893  2011-12-21       5   \n",
       "2     8937      44394  2002-12-01       4   \n",
       "3   126440      85009  2010-02-27       5   \n",
       "4    57222      85009  2011-10-01       5   \n",
       "\n",
       "                                              review  \n",
       "0  Great with a salad. Cooked on top of stove for...  \n",
       "1  So simple, so delicious! Great for chilly fall...  \n",
       "2  This worked very well and is EASY.  I used not...  \n",
       "3  I made the Mexican topping and took it to bunk...  \n",
       "4  Made the cheddar bacon topping, adding a sprin...  "
      ]
     },
     "execution_count": 5,
     "metadata": {},
     "output_type": "execute_result"
    }
   ],
   "source": [
    "# View user interactions dataset\n",
    "raw_users_df.head()"
   ]
  },
  {
   "cell_type": "markdown",
   "id": "ad62a850",
   "metadata": {},
   "source": [
    "## 3 Data Cleaining <a class=\"anchor\" id=\"three\"></a>"
   ]
  },
  {
   "cell_type": "markdown",
   "id": "4a7a5c75",
   "metadata": {},
   "source": [
    "## 3.1 Data Types <a class=\"anchor\" id=\"threeone\"></a>"
   ]
  },
  {
   "cell_type": "markdown",
   "id": "f155061c",
   "metadata": {},
   "source": [
    "To gain a comprehensive understanding of the data types and identify any non-null values within the dataset, we will employ the `.info()` method."
   ]
  },
  {
   "cell_type": "code",
   "execution_count": 6,
   "id": "98f7cfb9",
   "metadata": {},
   "outputs": [
    {
     "name": "stdout",
     "output_type": "stream",
     "text": [
      "<class 'pandas.core.frame.DataFrame'>\n",
      "RangeIndex: 231637 entries, 0 to 231636\n",
      "Data columns (total 12 columns):\n",
      " #   Column          Non-Null Count   Dtype \n",
      "---  ------          --------------   ----- \n",
      " 0   name            231636 non-null  object\n",
      " 1   id              231637 non-null  int64 \n",
      " 2   minutes         231637 non-null  int64 \n",
      " 3   contributor_id  231637 non-null  int64 \n",
      " 4   submitted       231637 non-null  object\n",
      " 5   tags            231637 non-null  object\n",
      " 6   nutrition       231637 non-null  object\n",
      " 7   n_steps         231637 non-null  int64 \n",
      " 8   steps           231637 non-null  object\n",
      " 9   description     226658 non-null  object\n",
      " 10  ingredients     231637 non-null  object\n",
      " 11  n_ingredients   231637 non-null  int64 \n",
      "dtypes: int64(5), object(7)\n",
      "memory usage: 21.2+ MB\n"
     ]
    }
   ],
   "source": [
    "# Info about the recipe dataset\n",
    "raw_recipes_df.info()"
   ]
  },
  {
   "cell_type": "markdown",
   "id": "e642785a",
   "metadata": {},
   "source": [
    "The 'id' and 'contributor_id' columns are currently of `integer` data type, while the 'submitted' column is of `object` data type. To ensure consistency and facilitate data manipulation, we will convert the 'id' and 'contributor_id' columns to `object` data type. Additionally, we will convert the 'submitted' column to `datetime` data type for more convenient date-based operations."
   ]
  },
  {
   "cell_type": "code",
   "execution_count": 7,
   "id": "30e00d51",
   "metadata": {},
   "outputs": [
    {
     "name": "stdout",
     "output_type": "stream",
     "text": [
      "<class 'pandas.core.frame.DataFrame'>\n",
      "RangeIndex: 231637 entries, 0 to 231636\n",
      "Data columns (total 12 columns):\n",
      " #   Column          Non-Null Count   Dtype         \n",
      "---  ------          --------------   -----         \n",
      " 0   name            231636 non-null  object        \n",
      " 1   id              231637 non-null  object        \n",
      " 2   minutes         231637 non-null  int64         \n",
      " 3   contributor_id  231637 non-null  object        \n",
      " 4   submitted       231637 non-null  datetime64[ns]\n",
      " 5   tags            231637 non-null  object        \n",
      " 6   nutrition       231637 non-null  object        \n",
      " 7   n_steps         231637 non-null  int64         \n",
      " 8   steps           231637 non-null  object        \n",
      " 9   description     226658 non-null  object        \n",
      " 10  ingredients     231637 non-null  object        \n",
      " 11  n_ingredients   231637 non-null  int64         \n",
      "dtypes: datetime64[ns](1), int64(3), object(8)\n",
      "memory usage: 21.2+ MB\n"
     ]
    }
   ],
   "source": [
    "# Convert 'id' and 'contributor_id' columns to object data type\n",
    "raw_recipes_df['id'] = raw_recipes_df['id'].astype(str)\n",
    "raw_recipes_df['contributor_id'] = raw_recipes_df['contributor_id'].astype(str)\n",
    "\n",
    "# Convert 'submitted' column to date data type\n",
    "raw_recipes_df['submitted'] = pd.to_datetime(raw_recipes_df['submitted'], format='%Y-%m-%d')\n",
    "\n",
    "# Print updated data types of the columns\n",
    "raw_recipes_df.info()"
   ]
  },
  {
   "cell_type": "markdown",
   "id": "70751dc4",
   "metadata": {},
   "source": [
    "Let us now examine the data types within the user interactions dataset."
   ]
  },
  {
   "cell_type": "code",
   "execution_count": 25,
   "id": "f7b58434",
   "metadata": {},
   "outputs": [
    {
     "name": "stdout",
     "output_type": "stream",
     "text": [
      "<class 'pandas.core.frame.DataFrame'>\n",
      "RangeIndex: 1132367 entries, 0 to 1132366\n",
      "Data columns (total 5 columns):\n",
      " #   Column     Non-Null Count    Dtype \n",
      "---  ------     --------------    ----- \n",
      " 0   user_id    1132367 non-null  int64 \n",
      " 1   recipe_id  1132367 non-null  int64 \n",
      " 2   date       1132367 non-null  object\n",
      " 3   rating     1132367 non-null  int64 \n",
      " 4   review     1132198 non-null  object\n",
      "dtypes: int64(3), object(2)\n",
      "memory usage: 43.2+ MB\n"
     ]
    }
   ],
   "source": [
    "# Info about the recipe dataset\n",
    "raw_users_df.info()"
   ]
  },
  {
   "cell_type": "markdown",
   "id": "5d40546a",
   "metadata": {},
   "source": [
    "Similar to the recipes dataset, the 'user_id' and 'recipe_id' columns are currently of `integer` data type, while the 'date' column is of `object` data type. To ensure consistency and facilitate data manipulation, we will convert the 'user_id' and 'recipe_id' columns to `object` data type. Additionally, we will convert the 'date' column to `datetime` data type for more convenient date-based operations."
   ]
  },
  {
   "cell_type": "code",
   "execution_count": 26,
   "id": "3e281103",
   "metadata": {},
   "outputs": [
    {
     "name": "stdout",
     "output_type": "stream",
     "text": [
      "<class 'pandas.core.frame.DataFrame'>\n",
      "RangeIndex: 1132367 entries, 0 to 1132366\n",
      "Data columns (total 5 columns):\n",
      " #   Column     Non-Null Count    Dtype         \n",
      "---  ------     --------------    -----         \n",
      " 0   user_id    1132367 non-null  object        \n",
      " 1   recipe_id  1132367 non-null  object        \n",
      " 2   date       1132367 non-null  datetime64[ns]\n",
      " 3   rating     1132367 non-null  int64         \n",
      " 4   review     1132198 non-null  object        \n",
      "dtypes: datetime64[ns](1), int64(1), object(3)\n",
      "memory usage: 43.2+ MB\n"
     ]
    }
   ],
   "source": [
    "# Convert 'user_id' and 'recipe_id' columns to object data type\n",
    "raw_users_df['user_id'] = raw_users_df['user_id'].astype(str)\n",
    "raw_users_df['recipe_id'] = raw_users_df['recipe_id'].astype(str)\n",
    "\n",
    "# Convert 'submitted' column to date data type\n",
    "raw_users_df['date'] = pd.to_datetime(raw_users_df['date'], format='%Y-%m-%d')\n",
    "\n",
    "# Print updated data types of the columns\n",
    "raw_users_df.info()"
   ]
  },
  {
   "cell_type": "markdown",
   "id": "bfc14724",
   "metadata": {},
   "source": [
    "## 3.2 Missing Data <a class=\"anchor\" id=\"threetwo\"></a>"
   ]
  },
  {
   "cell_type": "markdown",
   "id": "fecf9fca",
   "metadata": {},
   "source": [
    "Now that we have gained a deeper understanding of the dataset, let us proceed to explore any potential missing values within it."
   ]
  },
  {
   "cell_type": "code",
   "execution_count": 9,
   "id": "5d421eba",
   "metadata": {},
   "outputs": [
    {
     "data": {
      "text/plain": [
       "name                 1\n",
       "id                   0\n",
       "minutes              0\n",
       "contributor_id       0\n",
       "submitted            0\n",
       "tags                 0\n",
       "nutrition            0\n",
       "n_steps              0\n",
       "steps                0\n",
       "description       4979\n",
       "ingredients          0\n",
       "n_ingredients        0\n",
       "dtype: int64"
      ]
     },
     "execution_count": 9,
     "metadata": {},
     "output_type": "execute_result"
    }
   ],
   "source": [
    "# Checking for missing values\n",
    "raw_recipes_df.isna().sum()"
   ]
  },
  {
   "cell_type": "markdown",
   "id": "6e2c965e",
   "metadata": {},
   "source": [
    "There is 1 missing value in the 'name' column and 4,979 missing values in the 'description' column. values represent. Let us examine the specific rows that contain missing values to identify any discernible patterns and explore potential strategies for data imputation."
   ]
  },
  {
   "cell_type": "code",
   "execution_count": 10,
   "id": "923005a3",
   "metadata": {},
   "outputs": [
    {
     "data": {
      "text/html": [
       "<div>\n",
       "<style scoped>\n",
       "    .dataframe tbody tr th:only-of-type {\n",
       "        vertical-align: middle;\n",
       "    }\n",
       "\n",
       "    .dataframe tbody tr th {\n",
       "        vertical-align: top;\n",
       "    }\n",
       "\n",
       "    .dataframe thead th {\n",
       "        text-align: right;\n",
       "    }\n",
       "</style>\n",
       "<table border=\"1\" class=\"dataframe\">\n",
       "  <thead>\n",
       "    <tr style=\"text-align: right;\">\n",
       "      <th></th>\n",
       "      <th>name</th>\n",
       "      <th>id</th>\n",
       "      <th>minutes</th>\n",
       "      <th>contributor_id</th>\n",
       "      <th>submitted</th>\n",
       "      <th>tags</th>\n",
       "      <th>nutrition</th>\n",
       "      <th>n_steps</th>\n",
       "      <th>steps</th>\n",
       "      <th>description</th>\n",
       "      <th>ingredients</th>\n",
       "      <th>n_ingredients</th>\n",
       "    </tr>\n",
       "  </thead>\n",
       "  <tbody>\n",
       "    <tr>\n",
       "      <th>721</th>\n",
       "      <td>NaN</td>\n",
       "      <td>368257</td>\n",
       "      <td>10</td>\n",
       "      <td>779451</td>\n",
       "      <td>2009-04-27</td>\n",
       "      <td>['15-minutes-or-less', 'time-to-make', 'course...</td>\n",
       "      <td>[1596.2, 249.0, 155.0, 0.0, 2.0, 112.0, 14.0]</td>\n",
       "      <td>6</td>\n",
       "      <td>['in a bowl , combine ingredients except for o...</td>\n",
       "      <td>-------------</td>\n",
       "      <td>['lemon', 'honey', 'horseradish mustard', 'gar...</td>\n",
       "      <td>10</td>\n",
       "    </tr>\n",
       "  </tbody>\n",
       "</table>\n",
       "</div>"
      ],
      "text/plain": [
       "    name      id  minutes contributor_id  submitted  \\\n",
       "721  NaN  368257       10         779451 2009-04-27   \n",
       "\n",
       "                                                  tags  \\\n",
       "721  ['15-minutes-or-less', 'time-to-make', 'course...   \n",
       "\n",
       "                                         nutrition  n_steps  \\\n",
       "721  [1596.2, 249.0, 155.0, 0.0, 2.0, 112.0, 14.0]        6   \n",
       "\n",
       "                                                 steps    description  \\\n",
       "721  ['in a bowl , combine ingredients except for o...  -------------   \n",
       "\n",
       "                                           ingredients  n_ingredients  \n",
       "721  ['lemon', 'honey', 'horseradish mustard', 'gar...             10  "
      ]
     },
     "execution_count": 10,
     "metadata": {},
     "output_type": "execute_result"
    }
   ],
   "source": [
    "# Row with missing name\n",
    "raw_recipes_df[raw_recipes_df['name'].isna()]"
   ]
  },
  {
   "cell_type": "markdown",
   "id": "0e481bd1",
   "metadata": {},
   "source": [
    "It appears that the row with the missing 'name' value also lacks a corresponding description. Consquently, we are unable to infer a name from the description itself, as there is not textual information available to guide the imputation process. Considering that there is only one instance with a missing 'name' value, we can safely drop this row from the dataset."
   ]
  },
  {
   "cell_type": "code",
   "execution_count": null,
   "id": "e8539121",
   "metadata": {},
   "outputs": [],
   "source": [
    "# Drop row with missing name\n",
    "raw_recipes_df.dropna(subset=['name'], inplace=True)"
   ]
  },
  {
   "cell_type": "code",
   "execution_count": 14,
   "id": "2b03f55f",
   "metadata": {},
   "outputs": [
    {
     "data": {
      "text/plain": [
       "name                 0\n",
       "id                   0\n",
       "minutes              0\n",
       "contributor_id       0\n",
       "submitted            0\n",
       "tags                 0\n",
       "nutrition            0\n",
       "n_steps              0\n",
       "steps                0\n",
       "description       4979\n",
       "ingredients          0\n",
       "n_ingredients        0\n",
       "dtype: int64"
      ]
     },
     "execution_count": 14,
     "metadata": {},
     "output_type": "execute_result"
    }
   ],
   "source": [
    "# Sanity check\n",
    "raw_recipes_df.isna().sum()"
   ]
  },
  {
   "cell_type": "markdown",
   "id": "43343794",
   "metadata": {},
   "source": [
    "Let us take a look at the rows with a missing description."
   ]
  },
  {
   "cell_type": "code",
   "execution_count": 12,
   "id": "d4e5bef4",
   "metadata": {},
   "outputs": [
    {
     "data": {
      "text/html": [
       "<div>\n",
       "<style scoped>\n",
       "    .dataframe tbody tr th:only-of-type {\n",
       "        vertical-align: middle;\n",
       "    }\n",
       "\n",
       "    .dataframe tbody tr th {\n",
       "        vertical-align: top;\n",
       "    }\n",
       "\n",
       "    .dataframe thead th {\n",
       "        text-align: right;\n",
       "    }\n",
       "</style>\n",
       "<table border=\"1\" class=\"dataframe\">\n",
       "  <thead>\n",
       "    <tr style=\"text-align: right;\">\n",
       "      <th></th>\n",
       "      <th>name</th>\n",
       "      <th>id</th>\n",
       "      <th>minutes</th>\n",
       "      <th>contributor_id</th>\n",
       "      <th>submitted</th>\n",
       "      <th>tags</th>\n",
       "      <th>nutrition</th>\n",
       "      <th>n_steps</th>\n",
       "      <th>steps</th>\n",
       "      <th>description</th>\n",
       "      <th>ingredients</th>\n",
       "      <th>n_ingredients</th>\n",
       "    </tr>\n",
       "  </thead>\n",
       "  <tbody>\n",
       "    <tr>\n",
       "      <th>129194</th>\n",
       "      <td>mammies oatmeal cookies</td>\n",
       "      <td>17283</td>\n",
       "      <td>30</td>\n",
       "      <td>17803</td>\n",
       "      <td>2002-01-17</td>\n",
       "      <td>['30-minutes-or-less', 'time-to-make', 'course...</td>\n",
       "      <td>[151.1, 9.0, 55.0, 5.0, 4.0, 17.0, 7.0]</td>\n",
       "      <td>8</td>\n",
       "      <td>['cream butter and sugars add eggs', 'sift flo...</td>\n",
       "      <td>NaN</td>\n",
       "      <td>['butter', 'sugar', 'brown sugar', 'eggs', 'fl...</td>\n",
       "      <td>12</td>\n",
       "    </tr>\n",
       "    <tr>\n",
       "      <th>231534</th>\n",
       "      <td>zucchini garlic pasta</td>\n",
       "      <td>49456</td>\n",
       "      <td>40</td>\n",
       "      <td>37779</td>\n",
       "      <td>2002-12-22</td>\n",
       "      <td>['60-minutes-or-less', 'time-to-make', 'course...</td>\n",
       "      <td>[519.4, 31.0, 16.0, 19.0, 38.0, 36.0, 21.0]</td>\n",
       "      <td>11</td>\n",
       "      <td>['prepare pasta according to package direction...</td>\n",
       "      <td>NaN</td>\n",
       "      <td>['wagon wheel macaroni', 'bacon', 'onion', 'ga...</td>\n",
       "      <td>8</td>\n",
       "    </tr>\n",
       "    <tr>\n",
       "      <th>34991</th>\n",
       "      <td>cantaloupe cobbler</td>\n",
       "      <td>49224</td>\n",
       "      <td>70</td>\n",
       "      <td>58886</td>\n",
       "      <td>2002-12-19</td>\n",
       "      <td>['weeknight', 'time-to-make', 'course', 'main-...</td>\n",
       "      <td>[3261.4, 308.0, 976.0, 132.0, 66.0, 620.0, 116.0]</td>\n",
       "      <td>4</td>\n",
       "      <td>['place melon in a casserole dish', 'combine a...</td>\n",
       "      <td>NaN</td>\n",
       "      <td>['cantaloupe', 'sugar', 'milk', 'self rising f...</td>\n",
       "      <td>6</td>\n",
       "    </tr>\n",
       "    <tr>\n",
       "      <th>34581</th>\n",
       "      <td>canadian cream</td>\n",
       "      <td>78376</td>\n",
       "      <td>5</td>\n",
       "      <td>106624</td>\n",
       "      <td>2003-12-09</td>\n",
       "      <td>['15-minutes-or-less', 'time-to-make', 'course...</td>\n",
       "      <td>[124.7, 5.0, 49.0, 2.0, 6.0, 10.0, 4.0]</td>\n",
       "      <td>4</td>\n",
       "      <td>['combine all well', 'bottle', 'refrigerate', ...</td>\n",
       "      <td>NaN</td>\n",
       "      <td>['sweetened condensed milk', 'carnation evapor...</td>\n",
       "      <td>6</td>\n",
       "    </tr>\n",
       "    <tr>\n",
       "      <th>116002</th>\n",
       "      <td>just oatmeal cookies</td>\n",
       "      <td>43929</td>\n",
       "      <td>20</td>\n",
       "      <td>27443</td>\n",
       "      <td>2002-10-22</td>\n",
       "      <td>['30-minutes-or-less', 'time-to-make', 'course...</td>\n",
       "      <td>[122.1, 9.0, 35.0, 3.0, 3.0, 10.0, 5.0]</td>\n",
       "      <td>7</td>\n",
       "      <td>['cream shortening , butter and sugars', 'add ...</td>\n",
       "      <td>NaN</td>\n",
       "      <td>['shortening', 'butter', 'brown sugar', 'white...</td>\n",
       "      <td>12</td>\n",
       "    </tr>\n",
       "    <tr>\n",
       "      <th>136715</th>\n",
       "      <td>minute rice s spanish rice with beef</td>\n",
       "      <td>69958</td>\n",
       "      <td>30</td>\n",
       "      <td>93698</td>\n",
       "      <td>2003-08-28</td>\n",
       "      <td>['30-minutes-or-less', 'time-to-make', 'course...</td>\n",
       "      <td>[410.4, 21.0, 15.0, 24.0, 43.0, 25.0, 17.0]</td>\n",
       "      <td>6</td>\n",
       "      <td>['brown meat , breaking the pieces and stirrin...</td>\n",
       "      <td>NaN</td>\n",
       "      <td>['ground beef', 'frozen corn', 'water', 'stewe...</td>\n",
       "      <td>10</td>\n",
       "    </tr>\n",
       "    <tr>\n",
       "      <th>17816</th>\n",
       "      <td>barbecued lobster tails</td>\n",
       "      <td>31309</td>\n",
       "      <td>22</td>\n",
       "      <td>23302</td>\n",
       "      <td>2002-06-17</td>\n",
       "      <td>['30-minutes-or-less', 'time-to-make', 'course...</td>\n",
       "      <td>[800.7, 89.0, 1.0, 20.0, 117.0, 40.0, 2.0]</td>\n",
       "      <td>8</td>\n",
       "      <td>['split the tails lengthwise with a large knif...</td>\n",
       "      <td>NaN</td>\n",
       "      <td>['salt substitute', 'paprika', 'white pepper',...</td>\n",
       "      <td>7</td>\n",
       "    </tr>\n",
       "    <tr>\n",
       "      <th>118352</th>\n",
       "      <td>kiwi commotion smoothie</td>\n",
       "      <td>16869</td>\n",
       "      <td>5</td>\n",
       "      <td>8728</td>\n",
       "      <td>2002-01-06</td>\n",
       "      <td>['15-minutes-or-less', 'time-to-make', 'course...</td>\n",
       "      <td>[278.1, 5.0, 196.0, 2.0, 7.0, 9.0, 20.0]</td>\n",
       "      <td>2</td>\n",
       "      <td>['blend kiwis , banana , and frozen yogurt in ...</td>\n",
       "      <td>NaN</td>\n",
       "      <td>['kiwi fruits', 'banana', 'vanilla frozen yogu...</td>\n",
       "      <td>4</td>\n",
       "    </tr>\n",
       "    <tr>\n",
       "      <th>31907</th>\n",
       "      <td>butter sticks</td>\n",
       "      <td>57670</td>\n",
       "      <td>45</td>\n",
       "      <td>52476</td>\n",
       "      <td>2003-04-02</td>\n",
       "      <td>['60-minutes-or-less', 'time-to-make', 'course...</td>\n",
       "      <td>[130.8, 12.0, 9.0, 12.0, 3.0, 20.0, 4.0]</td>\n",
       "      <td>10</td>\n",
       "      <td>['heat oven to 425', 'place butter into 13x9 b...</td>\n",
       "      <td>NaN</td>\n",
       "      <td>['butter', 'bisquick baking mix', 'water']</td>\n",
       "      <td>3</td>\n",
       "    </tr>\n",
       "    <tr>\n",
       "      <th>41170</th>\n",
       "      <td>cherry almond chews</td>\n",
       "      <td>46753</td>\n",
       "      <td>32</td>\n",
       "      <td>26399</td>\n",
       "      <td>2002-11-18</td>\n",
       "      <td>['60-minutes-or-less', 'time-to-make', 'course...</td>\n",
       "      <td>[82.7, 6.0, 32.0, 2.0, 1.0, 6.0, 3.0]</td>\n",
       "      <td>9</td>\n",
       "      <td>['in a mixing bowl cream shortening and sugar'...</td>\n",
       "      <td>NaN</td>\n",
       "      <td>['shortening', 'sugar', 'brown sugar', 'eggs',...</td>\n",
       "      <td>11</td>\n",
       "    </tr>\n",
       "  </tbody>\n",
       "</table>\n",
       "</div>"
      ],
      "text/plain": [
       "                                        name     id  minutes contributor_id  \\\n",
       "129194               mammies oatmeal cookies  17283       30          17803   \n",
       "231534                 zucchini garlic pasta  49456       40          37779   \n",
       "34991                     cantaloupe cobbler  49224       70          58886   \n",
       "34581                         canadian cream  78376        5         106624   \n",
       "116002                  just oatmeal cookies  43929       20          27443   \n",
       "136715  minute rice s spanish rice with beef  69958       30          93698   \n",
       "17816                barbecued lobster tails  31309       22          23302   \n",
       "118352               kiwi commotion smoothie  16869        5           8728   \n",
       "31907                          butter sticks  57670       45          52476   \n",
       "41170                    cherry almond chews  46753       32          26399   \n",
       "\n",
       "        submitted                                               tags  \\\n",
       "129194 2002-01-17  ['30-minutes-or-less', 'time-to-make', 'course...   \n",
       "231534 2002-12-22  ['60-minutes-or-less', 'time-to-make', 'course...   \n",
       "34991  2002-12-19  ['weeknight', 'time-to-make', 'course', 'main-...   \n",
       "34581  2003-12-09  ['15-minutes-or-less', 'time-to-make', 'course...   \n",
       "116002 2002-10-22  ['30-minutes-or-less', 'time-to-make', 'course...   \n",
       "136715 2003-08-28  ['30-minutes-or-less', 'time-to-make', 'course...   \n",
       "17816  2002-06-17  ['30-minutes-or-less', 'time-to-make', 'course...   \n",
       "118352 2002-01-06  ['15-minutes-or-less', 'time-to-make', 'course...   \n",
       "31907  2003-04-02  ['60-minutes-or-less', 'time-to-make', 'course...   \n",
       "41170  2002-11-18  ['60-minutes-or-less', 'time-to-make', 'course...   \n",
       "\n",
       "                                                nutrition  n_steps  \\\n",
       "129194            [151.1, 9.0, 55.0, 5.0, 4.0, 17.0, 7.0]        8   \n",
       "231534        [519.4, 31.0, 16.0, 19.0, 38.0, 36.0, 21.0]       11   \n",
       "34991   [3261.4, 308.0, 976.0, 132.0, 66.0, 620.0, 116.0]        4   \n",
       "34581             [124.7, 5.0, 49.0, 2.0, 6.0, 10.0, 4.0]        4   \n",
       "116002            [122.1, 9.0, 35.0, 3.0, 3.0, 10.0, 5.0]        7   \n",
       "136715        [410.4, 21.0, 15.0, 24.0, 43.0, 25.0, 17.0]        6   \n",
       "17816          [800.7, 89.0, 1.0, 20.0, 117.0, 40.0, 2.0]        8   \n",
       "118352           [278.1, 5.0, 196.0, 2.0, 7.0, 9.0, 20.0]        2   \n",
       "31907            [130.8, 12.0, 9.0, 12.0, 3.0, 20.0, 4.0]       10   \n",
       "41170               [82.7, 6.0, 32.0, 2.0, 1.0, 6.0, 3.0]        9   \n",
       "\n",
       "                                                    steps description  \\\n",
       "129194  ['cream butter and sugars add eggs', 'sift flo...         NaN   \n",
       "231534  ['prepare pasta according to package direction...         NaN   \n",
       "34991   ['place melon in a casserole dish', 'combine a...         NaN   \n",
       "34581   ['combine all well', 'bottle', 'refrigerate', ...         NaN   \n",
       "116002  ['cream shortening , butter and sugars', 'add ...         NaN   \n",
       "136715  ['brown meat , breaking the pieces and stirrin...         NaN   \n",
       "17816   ['split the tails lengthwise with a large knif...         NaN   \n",
       "118352  ['blend kiwis , banana , and frozen yogurt in ...         NaN   \n",
       "31907   ['heat oven to 425', 'place butter into 13x9 b...         NaN   \n",
       "41170   ['in a mixing bowl cream shortening and sugar'...         NaN   \n",
       "\n",
       "                                              ingredients  n_ingredients  \n",
       "129194  ['butter', 'sugar', 'brown sugar', 'eggs', 'fl...             12  \n",
       "231534  ['wagon wheel macaroni', 'bacon', 'onion', 'ga...              8  \n",
       "34991   ['cantaloupe', 'sugar', 'milk', 'self rising f...              6  \n",
       "34581   ['sweetened condensed milk', 'carnation evapor...              6  \n",
       "116002  ['shortening', 'butter', 'brown sugar', 'white...             12  \n",
       "136715  ['ground beef', 'frozen corn', 'water', 'stewe...             10  \n",
       "17816   ['salt substitute', 'paprika', 'white pepper',...              7  \n",
       "118352  ['kiwi fruits', 'banana', 'vanilla frozen yogu...              4  \n",
       "31907          ['butter', 'bisquick baking mix', 'water']              3  \n",
       "41170   ['shortening', 'sugar', 'brown sugar', 'eggs',...             11  "
      ]
     },
     "execution_count": 12,
     "metadata": {},
     "output_type": "execute_result"
    }
   ],
   "source": [
    "# Row with missing description\n",
    "raw_recipes_df[raw_recipes_df['description'].isna()].sample(10)"
   ]
  },
  {
   "cell_type": "markdown",
   "id": "360bd19e",
   "metadata": {},
   "source": [
    "Since the descriptions are written by the recipe contributors themselves and not available in the source, it is not feasible to impute missing values for the 'description' column. Let us look at the extent to which these missing values constitute the overall dataset."
   ]
  },
  {
   "cell_type": "code",
   "execution_count": 19,
   "id": "a0fddc46",
   "metadata": {},
   "outputs": [
    {
     "name": "stdout",
     "output_type": "stream",
     "text": [
      "Missing values make up 2.15 % of the overall data.\n"
     ]
    }
   ],
   "source": [
    "print('Missing values make up', round(raw_recipes_df.isna().sum().sum()/raw_recipes_df.shape[0]*100, 2), \"%\", \"of the overall data.\")"
   ]
  },
  {
   "cell_type": "markdown",
   "id": "5bfe71dc",
   "metadata": {},
   "source": [
    "Given that the missing values in the 'description' column constitute a small subset of the overall dataset, we can safely drop these rows."
   ]
  },
  {
   "cell_type": "code",
   "execution_count": 22,
   "id": "b7ee1a59",
   "metadata": {},
   "outputs": [],
   "source": [
    "# Drop rows with missing description\n",
    "raw_recipes_df.dropna(subset=['description'], inplace=True)"
   ]
  },
  {
   "cell_type": "code",
   "execution_count": 24,
   "id": "bf879405",
   "metadata": {},
   "outputs": [
    {
     "data": {
      "text/plain": [
       "name              0\n",
       "id                0\n",
       "minutes           0\n",
       "contributor_id    0\n",
       "submitted         0\n",
       "tags              0\n",
       "nutrition         0\n",
       "n_steps           0\n",
       "steps             0\n",
       "description       0\n",
       "ingredients       0\n",
       "n_ingredients     0\n",
       "dtype: int64"
      ]
     },
     "execution_count": 24,
     "metadata": {},
     "output_type": "execute_result"
    }
   ],
   "source": [
    "# Sanity check\n",
    "raw_recipes_df.isna().sum()"
   ]
  },
  {
   "cell_type": "markdown",
   "id": "29b09f5a",
   "metadata": {},
   "source": [
    "We will now take a look at the user interactions dataset to identify any missing values."
   ]
  },
  {
   "cell_type": "code",
   "execution_count": 13,
   "id": "b6aeebe1",
   "metadata": {},
   "outputs": [
    {
     "data": {
      "text/plain": [
       "user_id        0\n",
       "recipe_id      0\n",
       "date           0\n",
       "rating         0\n",
       "review       169\n",
       "dtype: int64"
      ]
     },
     "execution_count": 13,
     "metadata": {},
     "output_type": "execute_result"
    }
   ],
   "source": [
    "raw_users_df.isna().sum()"
   ]
  },
  {
   "cell_type": "markdown",
   "id": "1d16f62c",
   "metadata": {},
   "source": [
    "There are 169 missing values in the 'review' column. values represent. Similar to the 'description' column in the recipes dataset, as the reviews are written by users themselves and are not available in the source, it is not feasible to impute missing values for the 'review' column. Let us now assess the proportion of these missing values in relation to the overall dataset."
   ]
  },
  {
   "cell_type": "code",
   "execution_count": 27,
   "id": "ad43a773",
   "metadata": {},
   "outputs": [
    {
     "name": "stdout",
     "output_type": "stream",
     "text": [
      "Missing values make up 0.01 % of the overall data.\n"
     ]
    }
   ],
   "source": [
    "print('Missing values make up', round(raw_users_df.isna().sum().sum()/raw_users_df.shape[0]*100, 2), \"%\", \"of the overall data.\")"
   ]
  },
  {
   "cell_type": "markdown",
   "id": "656144a3",
   "metadata": {},
   "source": [
    "Given that the missing values in the 'review' column constitute a very small subset of the overall dataset, we can safely drop these rows."
   ]
  },
  {
   "cell_type": "code",
   "execution_count": 28,
   "id": "75adee50",
   "metadata": {},
   "outputs": [],
   "source": [
    "# Drop rows with missing description\n",
    "raw_users_df.dropna(subset=['review'], inplace=True)"
   ]
  },
  {
   "cell_type": "code",
   "execution_count": 29,
   "id": "6d51797f",
   "metadata": {},
   "outputs": [
    {
     "data": {
      "text/plain": [
       "user_id      0\n",
       "recipe_id    0\n",
       "date         0\n",
       "rating       0\n",
       "review       0\n",
       "dtype: int64"
      ]
     },
     "execution_count": 29,
     "metadata": {},
     "output_type": "execute_result"
    }
   ],
   "source": [
    "# Sanity check\n",
    "raw_users_df.isna().sum()"
   ]
  },
  {
   "cell_type": "markdown",
   "id": "0c55be02",
   "metadata": {},
   "source": [
    "## 3.3 Duplicate Data <a class=\"anchor\" id=\"threethree\"></a>"
   ]
  },
  {
   "cell_type": "markdown",
   "id": "a74366ad",
   "metadata": {},
   "source": [
    "Now that we have addressed the missing values, let us proceed to identify any potential duplicates within the datasets."
   ]
  },
  {
   "cell_type": "code",
   "execution_count": 30,
   "id": "d4f3d420",
   "metadata": {},
   "outputs": [
    {
     "name": "stdout",
     "output_type": "stream",
     "text": [
      "duplicated rows in recipes dataset: 0\n",
      "duplicated rows in user interactions dataset: 0\n"
     ]
    }
   ],
   "source": [
    "# Duplicated rows\n",
    "print(\"duplicated rows in recipes dataset:\", raw_recipes_df.duplicated().sum())\n",
    "print(\"duplicated rows in user interactions dataset:\", raw_users_df.duplicated().sum())"
   ]
  },
  {
   "cell_type": "markdown",
   "id": "0c935593",
   "metadata": {},
   "source": [
    "Great! It appears that there are no duplicated rows within the datasets."
   ]
  },
  {
   "cell_type": "markdown",
   "id": "0e7c1b3b",
   "metadata": {},
   "source": [
    "#### Saving the data"
   ]
  },
  {
   "cell_type": "code",
   "execution_count": null,
   "id": "32ae309d",
   "metadata": {},
   "outputs": [],
   "source": [
    "# Save clean datasets\n",
    "raw_recipes_df.to_csv(\"clean_recipes.csv\", index=False)\n",
    "raw_users_df.to_csv(\"clean_interactions.csv\", index=False)"
   ]
  }
 ],
 "metadata": {
  "kernelspec": {
   "display_name": "Python 3 (ipykernel)",
   "language": "python",
   "name": "python3"
  },
  "language_info": {
   "codemirror_mode": {
    "name": "ipython",
    "version": 3
   },
   "file_extension": ".py",
   "mimetype": "text/x-python",
   "name": "python",
   "nbconvert_exporter": "python",
   "pygments_lexer": "ipython3",
   "version": "3.11.2"
  }
 },
 "nbformat": 4,
 "nbformat_minor": 5
}
