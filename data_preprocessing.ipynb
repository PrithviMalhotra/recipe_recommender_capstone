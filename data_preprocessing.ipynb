{
 "cells": [
  {
   "cell_type": "markdown",
   "id": "dc05285c",
   "metadata": {},
   "source": [
    "# Recipe Recommendation System: Data Preparation"
   ]
  },
  {
   "cell_type": "markdown",
   "id": "f6abc337",
   "metadata": {},
   "source": [
    "Author: Kelly Li\n"
   ]
  },
  {
   "cell_type": "markdown",
   "id": "8753194c",
   "metadata": {},
   "source": [
    "## Table of contents:\n",
    "* [1 Introduction](#one)\n",
    "* [2 Datasets](#two)\n",
    "    * [2.1 Data Sources](#twoone)\n",
    "    * [2.2 Data Loading](#twotwo)\n",
    "* [3 Data Cleaning](#three)\n",
    "    * [3.1 Data Types](#threeone) \n",
    "    * [3.2 Missing Data](#threetwo)\n",
    "    * [3.3 Duplicate Data](#threethree)\n",
    "* [4 Data Preprocessing](#four)\n",
    "    * [4.1 Column Splitting](#fourone) \n",
    "* [5 Conclusion](#five)\n",
    "\n",
    "-------------------------------------------------------------------------------------------------------------------------------"
   ]
  },
  {
   "cell_type": "markdown",
   "id": "7b43e23a",
   "metadata": {},
   "source": [
    "## 1 Introduction <a class=\"anchor\" id=\"one\"></a>"
   ]
  },
  {
   "cell_type": "markdown",
   "id": "1f2c33d4",
   "metadata": {},
   "source": [
    "Cooking enthusiasts often face challenges in finding personalized and diverse recipes that align with their tastes, dietar restrictions, and ingredient preferences. The existing search process is time-consuming, lacks inspiration, and fails to cater to specific dietary needs. To address these challenges, we have developed a recipe recommendation system that aids in recipe discovery, focusing on providing inspiration and catering to specific dietary needs. By leveraging advanced algorithms, it curates personalized recipe suggestions that ignite culinary creativity while considering unique tasts and dietary requirements. Wecome a world a culinary inspiration with"
   ]
  },
  {
   "cell_type": "markdown",
   "id": "2871e342",
   "metadata": {},
   "source": [
    "## 2 Datasets <a class=\"anchor\" id=\"two\"></a>"
   ]
  },
  {
   "cell_type": "markdown",
   "id": "9ee7db14",
   "metadata": {},
   "source": [
    "### 2.1 Data Sources <a class=\"anchor\" id=\"twoone\"></a>"
   ]
  },
  {
   "cell_type": "markdown",
   "id": "cee93547",
   "metadata": {},
   "source": [
    "Here's the data dictionary for the columns in the raw recipe dataset:\n",
    "\n",
    "| Column Name   | Description                                               |\n",
    "| ------------- | --------------------------------------------------------- |\n",
    "| name          | The name of the recipe.                                   |\n",
    "| id            | The unique identifier of the recipe.                       |\n",
    "| minutes       | The total cooking and preparation time in minutes.         |\n",
    "| contributor_id| The unique identifier of the user who submitted the recipe|\n",
    "| submitted     | The date when the recipe was submitted.                    |\n",
    "| tags          | Tags or labels associated with the recipe (e.g., vegetarian, vegan, dessert). |\n",
    "| nutrition     | Nutritional information (i.e. calories (#), total fat (PDV*), sugar (PDV*) , sodium (PDV*) , protein (PDV*) , saturated fat). |\n",
    "| n_steps       | The total number of steps or instructions in the recipe.   |\n",
    "| steps         | The step-by-step instructions for preparing the recipe.    |\n",
    "| description   | A brief description or summary of the recipe.              |\n",
    "| ingredients   | The list of ingredients required for the recipe.           |\n",
    "| n_ingredients | The total number of ingredients used in the recipe.        |\n",
    "\n",
    "*PDV = % daily value"
   ]
  },
  {
   "cell_type": "markdown",
   "id": "07dd9dc6",
   "metadata": {},
   "source": [
    "Here's the data dictionary for the columns in the raw user interactions dataset:\n",
    "\n",
    "| Column Name | Description                                          |\n",
    "| ----------- | ---------------------------------------------------- |\n",
    "| user_id     | The unique identifier of the user.                    |\n",
    "| recipe_id   | The unique identifier of the recipe associated with the user's interaction. |\n",
    "| date        | The date when the user's interaction took place.      |\n",
    "| rating      | The rating given by the user for the recipe.          |\n",
    "| review      | The review or feedback provided by the user for the recipe. |"
   ]
  },
  {
   "cell_type": "markdown",
   "id": "f685213c",
   "metadata": {},
   "source": [
    "### 2.2 Data Loading <a class=\"anchor\" id=\"twotwo\"></a>"
   ]
  },
  {
   "cell_type": "code",
   "execution_count": 1,
   "id": "ea442b77",
   "metadata": {},
   "outputs": [],
   "source": [
    "# Import libraries\n",
    "import numpy as np\n",
    "import pandas as pd\n",
    "import matplotlib.pyplot as plt\n",
    "import seaborn as sns"
   ]
  },
  {
   "cell_type": "code",
   "execution_count": 2,
   "id": "5a92abe3",
   "metadata": {},
   "outputs": [],
   "source": [
    "# Read the raw datasets\n",
    "raw_recipes_df = pd.read_csv('RAW_recipes.csv')\n",
    "raw_users_df = pd.read_csv('RAW_interactions.csv')"
   ]
  },
  {
   "cell_type": "code",
   "execution_count": 3,
   "id": "62f39081",
   "metadata": {},
   "outputs": [
    {
     "name": "stdout",
     "output_type": "stream",
     "text": [
      "The shape of the recipe dataset is: (231637, 12)\n",
      "The shape of the user interactions dataset is: (1132367, 5)\n"
     ]
    }
   ],
   "source": [
    "# Shape of the data\n",
    "print('The shape of the recipe dataset is:', raw_recipes_df.shape)\n",
    "print('The shape of the user interactions dataset is:', raw_users_df.shape)"
   ]
  },
  {
   "cell_type": "code",
   "execution_count": 4,
   "id": "cdf3805c",
   "metadata": {
    "scrolled": false
   },
   "outputs": [
    {
     "data": {
      "text/html": [
       "<div>\n",
       "<style scoped>\n",
       "    .dataframe tbody tr th:only-of-type {\n",
       "        vertical-align: middle;\n",
       "    }\n",
       "\n",
       "    .dataframe tbody tr th {\n",
       "        vertical-align: top;\n",
       "    }\n",
       "\n",
       "    .dataframe thead th {\n",
       "        text-align: right;\n",
       "    }\n",
       "</style>\n",
       "<table border=\"1\" class=\"dataframe\">\n",
       "  <thead>\n",
       "    <tr style=\"text-align: right;\">\n",
       "      <th></th>\n",
       "      <th>name</th>\n",
       "      <th>id</th>\n",
       "      <th>minutes</th>\n",
       "      <th>contributor_id</th>\n",
       "      <th>submitted</th>\n",
       "      <th>tags</th>\n",
       "      <th>nutrition</th>\n",
       "      <th>n_steps</th>\n",
       "      <th>steps</th>\n",
       "      <th>description</th>\n",
       "      <th>ingredients</th>\n",
       "      <th>n_ingredients</th>\n",
       "    </tr>\n",
       "  </thead>\n",
       "  <tbody>\n",
       "    <tr>\n",
       "      <th>0</th>\n",
       "      <td>arriba   baked winter squash mexican style</td>\n",
       "      <td>137739</td>\n",
       "      <td>55</td>\n",
       "      <td>47892</td>\n",
       "      <td>2005-09-16</td>\n",
       "      <td>['60-minutes-or-less', 'time-to-make', 'course...</td>\n",
       "      <td>[51.5, 0.0, 13.0, 0.0, 2.0, 0.0, 4.0]</td>\n",
       "      <td>11</td>\n",
       "      <td>['make a choice and proceed with recipe', 'dep...</td>\n",
       "      <td>autumn is my favorite time of year to cook! th...</td>\n",
       "      <td>['winter squash', 'mexican seasoning', 'mixed ...</td>\n",
       "      <td>7</td>\n",
       "    </tr>\n",
       "    <tr>\n",
       "      <th>1</th>\n",
       "      <td>a bit different  breakfast pizza</td>\n",
       "      <td>31490</td>\n",
       "      <td>30</td>\n",
       "      <td>26278</td>\n",
       "      <td>2002-06-17</td>\n",
       "      <td>['30-minutes-or-less', 'time-to-make', 'course...</td>\n",
       "      <td>[173.4, 18.0, 0.0, 17.0, 22.0, 35.0, 1.0]</td>\n",
       "      <td>9</td>\n",
       "      <td>['preheat oven to 425 degrees f', 'press dough...</td>\n",
       "      <td>this recipe calls for the crust to be prebaked...</td>\n",
       "      <td>['prepared pizza crust', 'sausage patty', 'egg...</td>\n",
       "      <td>6</td>\n",
       "    </tr>\n",
       "    <tr>\n",
       "      <th>2</th>\n",
       "      <td>all in the kitchen  chili</td>\n",
       "      <td>112140</td>\n",
       "      <td>130</td>\n",
       "      <td>196586</td>\n",
       "      <td>2005-02-25</td>\n",
       "      <td>['time-to-make', 'course', 'preparation', 'mai...</td>\n",
       "      <td>[269.8, 22.0, 32.0, 48.0, 39.0, 27.0, 5.0]</td>\n",
       "      <td>6</td>\n",
       "      <td>['brown ground beef in large pot', 'add choppe...</td>\n",
       "      <td>this modified version of 'mom's' chili was a h...</td>\n",
       "      <td>['ground beef', 'yellow onions', 'diced tomato...</td>\n",
       "      <td>13</td>\n",
       "    </tr>\n",
       "    <tr>\n",
       "      <th>3</th>\n",
       "      <td>alouette  potatoes</td>\n",
       "      <td>59389</td>\n",
       "      <td>45</td>\n",
       "      <td>68585</td>\n",
       "      <td>2003-04-14</td>\n",
       "      <td>['60-minutes-or-less', 'time-to-make', 'course...</td>\n",
       "      <td>[368.1, 17.0, 10.0, 2.0, 14.0, 8.0, 20.0]</td>\n",
       "      <td>11</td>\n",
       "      <td>['place potatoes in a large pot of lightly sal...</td>\n",
       "      <td>this is a super easy, great tasting, make ahea...</td>\n",
       "      <td>['spreadable cheese with garlic and herbs', 'n...</td>\n",
       "      <td>11</td>\n",
       "    </tr>\n",
       "    <tr>\n",
       "      <th>4</th>\n",
       "      <td>amish  tomato ketchup  for canning</td>\n",
       "      <td>44061</td>\n",
       "      <td>190</td>\n",
       "      <td>41706</td>\n",
       "      <td>2002-10-25</td>\n",
       "      <td>['weeknight', 'time-to-make', 'course', 'main-...</td>\n",
       "      <td>[352.9, 1.0, 337.0, 23.0, 3.0, 0.0, 28.0]</td>\n",
       "      <td>5</td>\n",
       "      <td>['mix all ingredients&amp; boil for 2 1 / 2 hours ...</td>\n",
       "      <td>my dh's amish mother raised him on this recipe...</td>\n",
       "      <td>['tomato juice', 'apple cider vinegar', 'sugar...</td>\n",
       "      <td>8</td>\n",
       "    </tr>\n",
       "  </tbody>\n",
       "</table>\n",
       "</div>"
      ],
      "text/plain": [
       "                                         name      id  minutes  \\\n",
       "0  arriba   baked winter squash mexican style  137739       55   \n",
       "1            a bit different  breakfast pizza   31490       30   \n",
       "2                   all in the kitchen  chili  112140      130   \n",
       "3                          alouette  potatoes   59389       45   \n",
       "4          amish  tomato ketchup  for canning   44061      190   \n",
       "\n",
       "   contributor_id   submitted  \\\n",
       "0           47892  2005-09-16   \n",
       "1           26278  2002-06-17   \n",
       "2          196586  2005-02-25   \n",
       "3           68585  2003-04-14   \n",
       "4           41706  2002-10-25   \n",
       "\n",
       "                                                tags  \\\n",
       "0  ['60-minutes-or-less', 'time-to-make', 'course...   \n",
       "1  ['30-minutes-or-less', 'time-to-make', 'course...   \n",
       "2  ['time-to-make', 'course', 'preparation', 'mai...   \n",
       "3  ['60-minutes-or-less', 'time-to-make', 'course...   \n",
       "4  ['weeknight', 'time-to-make', 'course', 'main-...   \n",
       "\n",
       "                                    nutrition  n_steps  \\\n",
       "0       [51.5, 0.0, 13.0, 0.0, 2.0, 0.0, 4.0]       11   \n",
       "1   [173.4, 18.0, 0.0, 17.0, 22.0, 35.0, 1.0]        9   \n",
       "2  [269.8, 22.0, 32.0, 48.0, 39.0, 27.0, 5.0]        6   \n",
       "3   [368.1, 17.0, 10.0, 2.0, 14.0, 8.0, 20.0]       11   \n",
       "4   [352.9, 1.0, 337.0, 23.0, 3.0, 0.0, 28.0]        5   \n",
       "\n",
       "                                               steps  \\\n",
       "0  ['make a choice and proceed with recipe', 'dep...   \n",
       "1  ['preheat oven to 425 degrees f', 'press dough...   \n",
       "2  ['brown ground beef in large pot', 'add choppe...   \n",
       "3  ['place potatoes in a large pot of lightly sal...   \n",
       "4  ['mix all ingredients& boil for 2 1 / 2 hours ...   \n",
       "\n",
       "                                         description  \\\n",
       "0  autumn is my favorite time of year to cook! th...   \n",
       "1  this recipe calls for the crust to be prebaked...   \n",
       "2  this modified version of 'mom's' chili was a h...   \n",
       "3  this is a super easy, great tasting, make ahea...   \n",
       "4  my dh's amish mother raised him on this recipe...   \n",
       "\n",
       "                                         ingredients  n_ingredients  \n",
       "0  ['winter squash', 'mexican seasoning', 'mixed ...              7  \n",
       "1  ['prepared pizza crust', 'sausage patty', 'egg...              6  \n",
       "2  ['ground beef', 'yellow onions', 'diced tomato...             13  \n",
       "3  ['spreadable cheese with garlic and herbs', 'n...             11  \n",
       "4  ['tomato juice', 'apple cider vinegar', 'sugar...              8  "
      ]
     },
     "execution_count": 4,
     "metadata": {},
     "output_type": "execute_result"
    }
   ],
   "source": [
    "# View recipes dataset\n",
    "raw_recipes_df.head()"
   ]
  },
  {
   "cell_type": "code",
   "execution_count": 5,
   "id": "9ccc0a7b",
   "metadata": {},
   "outputs": [
    {
     "data": {
      "text/html": [
       "<div>\n",
       "<style scoped>\n",
       "    .dataframe tbody tr th:only-of-type {\n",
       "        vertical-align: middle;\n",
       "    }\n",
       "\n",
       "    .dataframe tbody tr th {\n",
       "        vertical-align: top;\n",
       "    }\n",
       "\n",
       "    .dataframe thead th {\n",
       "        text-align: right;\n",
       "    }\n",
       "</style>\n",
       "<table border=\"1\" class=\"dataframe\">\n",
       "  <thead>\n",
       "    <tr style=\"text-align: right;\">\n",
       "      <th></th>\n",
       "      <th>user_id</th>\n",
       "      <th>recipe_id</th>\n",
       "      <th>date</th>\n",
       "      <th>rating</th>\n",
       "      <th>review</th>\n",
       "    </tr>\n",
       "  </thead>\n",
       "  <tbody>\n",
       "    <tr>\n",
       "      <th>0</th>\n",
       "      <td>38094</td>\n",
       "      <td>40893</td>\n",
       "      <td>2003-02-17</td>\n",
       "      <td>4</td>\n",
       "      <td>Great with a salad. Cooked on top of stove for...</td>\n",
       "    </tr>\n",
       "    <tr>\n",
       "      <th>1</th>\n",
       "      <td>1293707</td>\n",
       "      <td>40893</td>\n",
       "      <td>2011-12-21</td>\n",
       "      <td>5</td>\n",
       "      <td>So simple, so delicious! Great for chilly fall...</td>\n",
       "    </tr>\n",
       "    <tr>\n",
       "      <th>2</th>\n",
       "      <td>8937</td>\n",
       "      <td>44394</td>\n",
       "      <td>2002-12-01</td>\n",
       "      <td>4</td>\n",
       "      <td>This worked very well and is EASY.  I used not...</td>\n",
       "    </tr>\n",
       "    <tr>\n",
       "      <th>3</th>\n",
       "      <td>126440</td>\n",
       "      <td>85009</td>\n",
       "      <td>2010-02-27</td>\n",
       "      <td>5</td>\n",
       "      <td>I made the Mexican topping and took it to bunk...</td>\n",
       "    </tr>\n",
       "    <tr>\n",
       "      <th>4</th>\n",
       "      <td>57222</td>\n",
       "      <td>85009</td>\n",
       "      <td>2011-10-01</td>\n",
       "      <td>5</td>\n",
       "      <td>Made the cheddar bacon topping, adding a sprin...</td>\n",
       "    </tr>\n",
       "  </tbody>\n",
       "</table>\n",
       "</div>"
      ],
      "text/plain": [
       "   user_id  recipe_id        date  rating  \\\n",
       "0    38094      40893  2003-02-17       4   \n",
       "1  1293707      40893  2011-12-21       5   \n",
       "2     8937      44394  2002-12-01       4   \n",
       "3   126440      85009  2010-02-27       5   \n",
       "4    57222      85009  2011-10-01       5   \n",
       "\n",
       "                                              review  \n",
       "0  Great with a salad. Cooked on top of stove for...  \n",
       "1  So simple, so delicious! Great for chilly fall...  \n",
       "2  This worked very well and is EASY.  I used not...  \n",
       "3  I made the Mexican topping and took it to bunk...  \n",
       "4  Made the cheddar bacon topping, adding a sprin...  "
      ]
     },
     "execution_count": 5,
     "metadata": {},
     "output_type": "execute_result"
    }
   ],
   "source": [
    "# View user interactions dataset\n",
    "raw_users_df.head()"
   ]
  },
  {
   "cell_type": "markdown",
   "id": "ad62a850",
   "metadata": {},
   "source": [
    "## 3 Data Cleaining <a class=\"anchor\" id=\"three\"></a>"
   ]
  },
  {
   "cell_type": "markdown",
   "id": "4a7a5c75",
   "metadata": {},
   "source": [
    "### 3.1 Data Types <a class=\"anchor\" id=\"threeone\"></a>"
   ]
  },
  {
   "cell_type": "markdown",
   "id": "f155061c",
   "metadata": {},
   "source": [
    "To gain a comprehensive understanding of the data types and identify any non-null values within the dataset, we will employ the `.info()` method."
   ]
  },
  {
   "cell_type": "code",
   "execution_count": 6,
   "id": "98f7cfb9",
   "metadata": {},
   "outputs": [
    {
     "name": "stdout",
     "output_type": "stream",
     "text": [
      "<class 'pandas.core.frame.DataFrame'>\n",
      "RangeIndex: 231637 entries, 0 to 231636\n",
      "Data columns (total 12 columns):\n",
      " #   Column          Non-Null Count   Dtype \n",
      "---  ------          --------------   ----- \n",
      " 0   name            231636 non-null  object\n",
      " 1   id              231637 non-null  int64 \n",
      " 2   minutes         231637 non-null  int64 \n",
      " 3   contributor_id  231637 non-null  int64 \n",
      " 4   submitted       231637 non-null  object\n",
      " 5   tags            231637 non-null  object\n",
      " 6   nutrition       231637 non-null  object\n",
      " 7   n_steps         231637 non-null  int64 \n",
      " 8   steps           231637 non-null  object\n",
      " 9   description     226658 non-null  object\n",
      " 10  ingredients     231637 non-null  object\n",
      " 11  n_ingredients   231637 non-null  int64 \n",
      "dtypes: int64(5), object(7)\n",
      "memory usage: 21.2+ MB\n"
     ]
    }
   ],
   "source": [
    "# Info about the recipe dataset\n",
    "raw_recipes_df.info()"
   ]
  },
  {
   "cell_type": "markdown",
   "id": "e642785a",
   "metadata": {},
   "source": [
    "The 'id' and 'contributor_id' columns are currently of `integer` data type, while the 'submitted' column is of `object` data type. To ensure consistency and facilitate data manipulation, we will convert the 'id' and 'contributor_id' columns to `object` data type. Additionally, we will convert the 'submitted' column to `datetime` data type for more convenient date-based operations."
   ]
  },
  {
   "cell_type": "code",
   "execution_count": 7,
   "id": "30e00d51",
   "metadata": {},
   "outputs": [
    {
     "name": "stdout",
     "output_type": "stream",
     "text": [
      "<class 'pandas.core.frame.DataFrame'>\n",
      "RangeIndex: 231637 entries, 0 to 231636\n",
      "Data columns (total 12 columns):\n",
      " #   Column          Non-Null Count   Dtype         \n",
      "---  ------          --------------   -----         \n",
      " 0   name            231636 non-null  object        \n",
      " 1   id              231637 non-null  object        \n",
      " 2   minutes         231637 non-null  int64         \n",
      " 3   contributor_id  231637 non-null  object        \n",
      " 4   submitted       231637 non-null  datetime64[ns]\n",
      " 5   tags            231637 non-null  object        \n",
      " 6   nutrition       231637 non-null  object        \n",
      " 7   n_steps         231637 non-null  int64         \n",
      " 8   steps           231637 non-null  object        \n",
      " 9   description     226658 non-null  object        \n",
      " 10  ingredients     231637 non-null  object        \n",
      " 11  n_ingredients   231637 non-null  int64         \n",
      "dtypes: datetime64[ns](1), int64(3), object(8)\n",
      "memory usage: 21.2+ MB\n"
     ]
    }
   ],
   "source": [
    "# Convert 'id' and 'contributor_id' columns to object data type\n",
    "raw_recipes_df['id'] = raw_recipes_df['id'].astype(str)\n",
    "raw_recipes_df['contributor_id'] = raw_recipes_df['contributor_id'].astype(str)\n",
    "\n",
    "# Convert 'submitted' column to date data type\n",
    "raw_recipes_df['submitted'] = pd.to_datetime(raw_recipes_df['submitted'], format='%Y-%m-%d')\n",
    "\n",
    "# Print updated data types of the columns\n",
    "raw_recipes_df.info()"
   ]
  },
  {
   "cell_type": "markdown",
   "id": "70751dc4",
   "metadata": {},
   "source": [
    "Let us now examine the data types within the user interactions dataset."
   ]
  },
  {
   "cell_type": "code",
   "execution_count": 8,
   "id": "f7b58434",
   "metadata": {},
   "outputs": [
    {
     "name": "stdout",
     "output_type": "stream",
     "text": [
      "<class 'pandas.core.frame.DataFrame'>\n",
      "RangeIndex: 1132367 entries, 0 to 1132366\n",
      "Data columns (total 5 columns):\n",
      " #   Column     Non-Null Count    Dtype \n",
      "---  ------     --------------    ----- \n",
      " 0   user_id    1132367 non-null  int64 \n",
      " 1   recipe_id  1132367 non-null  int64 \n",
      " 2   date       1132367 non-null  object\n",
      " 3   rating     1132367 non-null  int64 \n",
      " 4   review     1132198 non-null  object\n",
      "dtypes: int64(3), object(2)\n",
      "memory usage: 43.2+ MB\n"
     ]
    }
   ],
   "source": [
    "# Info about the recipe dataset\n",
    "raw_users_df.info()"
   ]
  },
  {
   "cell_type": "markdown",
   "id": "5d40546a",
   "metadata": {},
   "source": [
    "Similar to the recipes dataset, the 'user_id' and 'recipe_id' columns are currently of `integer` data type, while the 'date' column is of `object` data type. To ensure consistency and facilitate data manipulation, we will convert the 'user_id' and 'recipe_id' columns to `object` data type. Additionally, we will convert the 'date' column to `datetime` data type for more convenient date-based operations."
   ]
  },
  {
   "cell_type": "code",
   "execution_count": 9,
   "id": "3e281103",
   "metadata": {},
   "outputs": [
    {
     "name": "stdout",
     "output_type": "stream",
     "text": [
      "<class 'pandas.core.frame.DataFrame'>\n",
      "RangeIndex: 1132367 entries, 0 to 1132366\n",
      "Data columns (total 5 columns):\n",
      " #   Column     Non-Null Count    Dtype         \n",
      "---  ------     --------------    -----         \n",
      " 0   user_id    1132367 non-null  object        \n",
      " 1   recipe_id  1132367 non-null  object        \n",
      " 2   date       1132367 non-null  datetime64[ns]\n",
      " 3   rating     1132367 non-null  int64         \n",
      " 4   review     1132198 non-null  object        \n",
      "dtypes: datetime64[ns](1), int64(1), object(3)\n",
      "memory usage: 43.2+ MB\n"
     ]
    }
   ],
   "source": [
    "# Convert 'user_id' and 'recipe_id' columns to object data type\n",
    "raw_users_df['user_id'] = raw_users_df['user_id'].astype(str)\n",
    "raw_users_df['recipe_id'] = raw_users_df['recipe_id'].astype(str)\n",
    "\n",
    "# Convert 'submitted' column to date data type\n",
    "raw_users_df['date'] = pd.to_datetime(raw_users_df['date'], format='%Y-%m-%d')\n",
    "\n",
    "# Print updated data types of the columns\n",
    "raw_users_df.info()"
   ]
  },
  {
   "cell_type": "markdown",
   "id": "bfc14724",
   "metadata": {},
   "source": [
    "### 3.2 Missing Data <a class=\"anchor\" id=\"threetwo\"></a>"
   ]
  },
  {
   "cell_type": "markdown",
   "id": "fecf9fca",
   "metadata": {},
   "source": [
    "Now that we have gained a deeper understanding of the dataset, let us proceed to explore any potential missing values within it."
   ]
  },
  {
   "cell_type": "code",
   "execution_count": 10,
   "id": "5d421eba",
   "metadata": {},
   "outputs": [
    {
     "data": {
      "text/plain": [
       "name                 1\n",
       "id                   0\n",
       "minutes              0\n",
       "contributor_id       0\n",
       "submitted            0\n",
       "tags                 0\n",
       "nutrition            0\n",
       "n_steps              0\n",
       "steps                0\n",
       "description       4979\n",
       "ingredients          0\n",
       "n_ingredients        0\n",
       "dtype: int64"
      ]
     },
     "execution_count": 10,
     "metadata": {},
     "output_type": "execute_result"
    }
   ],
   "source": [
    "# Checking for missing values\n",
    "raw_recipes_df.isna().sum()"
   ]
  },
  {
   "cell_type": "markdown",
   "id": "6e2c965e",
   "metadata": {},
   "source": [
    "There is 1 missing value in the 'name' column and 4,979 missing values in the 'description' column. values represent. Let us examine the specific rows that contain missing values to identify any discernible patterns and explore potential strategies for data imputation."
   ]
  },
  {
   "cell_type": "code",
   "execution_count": 11,
   "id": "923005a3",
   "metadata": {},
   "outputs": [
    {
     "data": {
      "text/html": [
       "<div>\n",
       "<style scoped>\n",
       "    .dataframe tbody tr th:only-of-type {\n",
       "        vertical-align: middle;\n",
       "    }\n",
       "\n",
       "    .dataframe tbody tr th {\n",
       "        vertical-align: top;\n",
       "    }\n",
       "\n",
       "    .dataframe thead th {\n",
       "        text-align: right;\n",
       "    }\n",
       "</style>\n",
       "<table border=\"1\" class=\"dataframe\">\n",
       "  <thead>\n",
       "    <tr style=\"text-align: right;\">\n",
       "      <th></th>\n",
       "      <th>name</th>\n",
       "      <th>id</th>\n",
       "      <th>minutes</th>\n",
       "      <th>contributor_id</th>\n",
       "      <th>submitted</th>\n",
       "      <th>tags</th>\n",
       "      <th>nutrition</th>\n",
       "      <th>n_steps</th>\n",
       "      <th>steps</th>\n",
       "      <th>description</th>\n",
       "      <th>ingredients</th>\n",
       "      <th>n_ingredients</th>\n",
       "    </tr>\n",
       "  </thead>\n",
       "  <tbody>\n",
       "    <tr>\n",
       "      <th>721</th>\n",
       "      <td>NaN</td>\n",
       "      <td>368257</td>\n",
       "      <td>10</td>\n",
       "      <td>779451</td>\n",
       "      <td>2009-04-27</td>\n",
       "      <td>['15-minutes-or-less', 'time-to-make', 'course...</td>\n",
       "      <td>[1596.2, 249.0, 155.0, 0.0, 2.0, 112.0, 14.0]</td>\n",
       "      <td>6</td>\n",
       "      <td>['in a bowl , combine ingredients except for o...</td>\n",
       "      <td>-------------</td>\n",
       "      <td>['lemon', 'honey', 'horseradish mustard', 'gar...</td>\n",
       "      <td>10</td>\n",
       "    </tr>\n",
       "  </tbody>\n",
       "</table>\n",
       "</div>"
      ],
      "text/plain": [
       "    name      id  minutes contributor_id  submitted  \\\n",
       "721  NaN  368257       10         779451 2009-04-27   \n",
       "\n",
       "                                                  tags  \\\n",
       "721  ['15-minutes-or-less', 'time-to-make', 'course...   \n",
       "\n",
       "                                         nutrition  n_steps  \\\n",
       "721  [1596.2, 249.0, 155.0, 0.0, 2.0, 112.0, 14.0]        6   \n",
       "\n",
       "                                                 steps    description  \\\n",
       "721  ['in a bowl , combine ingredients except for o...  -------------   \n",
       "\n",
       "                                           ingredients  n_ingredients  \n",
       "721  ['lemon', 'honey', 'horseradish mustard', 'gar...             10  "
      ]
     },
     "execution_count": 11,
     "metadata": {},
     "output_type": "execute_result"
    }
   ],
   "source": [
    "# Row with missing name\n",
    "raw_recipes_df[raw_recipes_df['name'].isna()]"
   ]
  },
  {
   "cell_type": "markdown",
   "id": "0e481bd1",
   "metadata": {},
   "source": [
    "It appears that the row with the missing 'name' value also lacks a corresponding description. Consquently, we are unable to infer a name from the description itself, as there is not textual information available to guide the imputation process. Considering that there is only one instance with a missing 'name' value, we can safely drop this row from the dataset."
   ]
  },
  {
   "cell_type": "code",
   "execution_count": 12,
   "id": "e8539121",
   "metadata": {},
   "outputs": [],
   "source": [
    "# Drop row with missing name\n",
    "raw_recipes_df.dropna(subset=['name'], inplace=True)"
   ]
  },
  {
   "cell_type": "code",
   "execution_count": 13,
   "id": "2b03f55f",
   "metadata": {},
   "outputs": [
    {
     "data": {
      "text/plain": [
       "name                 0\n",
       "id                   0\n",
       "minutes              0\n",
       "contributor_id       0\n",
       "submitted            0\n",
       "tags                 0\n",
       "nutrition            0\n",
       "n_steps              0\n",
       "steps                0\n",
       "description       4979\n",
       "ingredients          0\n",
       "n_ingredients        0\n",
       "dtype: int64"
      ]
     },
     "execution_count": 13,
     "metadata": {},
     "output_type": "execute_result"
    }
   ],
   "source": [
    "# Sanity check\n",
    "raw_recipes_df.isna().sum()"
   ]
  },
  {
   "cell_type": "markdown",
   "id": "43343794",
   "metadata": {},
   "source": [
    "Let us take a look at the rows with a missing description."
   ]
  },
  {
   "cell_type": "code",
   "execution_count": 14,
   "id": "d4e5bef4",
   "metadata": {},
   "outputs": [
    {
     "data": {
      "text/html": [
       "<div>\n",
       "<style scoped>\n",
       "    .dataframe tbody tr th:only-of-type {\n",
       "        vertical-align: middle;\n",
       "    }\n",
       "\n",
       "    .dataframe tbody tr th {\n",
       "        vertical-align: top;\n",
       "    }\n",
       "\n",
       "    .dataframe thead th {\n",
       "        text-align: right;\n",
       "    }\n",
       "</style>\n",
       "<table border=\"1\" class=\"dataframe\">\n",
       "  <thead>\n",
       "    <tr style=\"text-align: right;\">\n",
       "      <th></th>\n",
       "      <th>name</th>\n",
       "      <th>id</th>\n",
       "      <th>minutes</th>\n",
       "      <th>contributor_id</th>\n",
       "      <th>submitted</th>\n",
       "      <th>tags</th>\n",
       "      <th>nutrition</th>\n",
       "      <th>n_steps</th>\n",
       "      <th>steps</th>\n",
       "      <th>description</th>\n",
       "      <th>ingredients</th>\n",
       "      <th>n_ingredients</th>\n",
       "    </tr>\n",
       "  </thead>\n",
       "  <tbody>\n",
       "    <tr>\n",
       "      <th>101949</th>\n",
       "      <td>hamantaschen cookies  haman s hats</td>\n",
       "      <td>833</td>\n",
       "      <td>8</td>\n",
       "      <td>123897</td>\n",
       "      <td>1999-08-08</td>\n",
       "      <td>['15-minutes-or-less', 'time-to-make', 'course...</td>\n",
       "      <td>[89.8, 6.0, 12.0, 2.0, 3.0, 4.0, 3.0]</td>\n",
       "      <td>23</td>\n",
       "      <td>['hamantaschen are the traditional cookies of ...</td>\n",
       "      <td>NaN</td>\n",
       "      <td>['eggs', 'sugar', 'orange zest', 'margarine', ...</td>\n",
       "      <td>6</td>\n",
       "    </tr>\n",
       "    <tr>\n",
       "      <th>19854</th>\n",
       "      <td>beef   noodle bake</td>\n",
       "      <td>17371</td>\n",
       "      <td>45</td>\n",
       "      <td>17803</td>\n",
       "      <td>2002-01-17</td>\n",
       "      <td>['60-minutes-or-less', 'time-to-make', 'course...</td>\n",
       "      <td>[528.1, 35.0, 51.0, 64.0, 59.0, 55.0, 17.0]</td>\n",
       "      <td>9</td>\n",
       "      <td>['brown meat and onion', 'drain', 'add soup an...</td>\n",
       "      <td>NaN</td>\n",
       "      <td>['ground beef', 'onion', 'tomato soup', 'mushr...</td>\n",
       "      <td>9</td>\n",
       "    </tr>\n",
       "    <tr>\n",
       "      <th>132389</th>\n",
       "      <td>mean lean vegetable chili</td>\n",
       "      <td>31845</td>\n",
       "      <td>45</td>\n",
       "      <td>1533</td>\n",
       "      <td>2002-06-20</td>\n",
       "      <td>['60-minutes-or-less', 'time-to-make', 'course...</td>\n",
       "      <td>[235.7, 6.0, 31.0, 11.0, 24.0, 9.0, 13.0]</td>\n",
       "      <td>6</td>\n",
       "      <td>['in a 4- to 5-quart pan over high heat , comb...</td>\n",
       "      <td>NaN</td>\n",
       "      <td>['carrots', 'onion', 'tomatoes', 'black beans'...</td>\n",
       "      <td>9</td>\n",
       "    </tr>\n",
       "    <tr>\n",
       "      <th>29096</th>\n",
       "      <td>broccoli and artichoke casserole</td>\n",
       "      <td>29622</td>\n",
       "      <td>40</td>\n",
       "      <td>1533</td>\n",
       "      <td>2002-05-29</td>\n",
       "      <td>['60-minutes-or-less', 'time-to-make', 'course...</td>\n",
       "      <td>[574.5, 69.0, 14.0, 37.0, 27.0, 137.0, 11.0]</td>\n",
       "      <td>8</td>\n",
       "      <td>['grease 1 1 / 2 casserole dish', 'place artic...</td>\n",
       "      <td>NaN</td>\n",
       "      <td>['artichoke hearts', 'butter', 'cream cheese',...</td>\n",
       "      <td>6</td>\n",
       "    </tr>\n",
       "    <tr>\n",
       "      <th>102214</th>\n",
       "      <td>handmade basic mayonnaise</td>\n",
       "      <td>3621</td>\n",
       "      <td>0</td>\n",
       "      <td>1762</td>\n",
       "      <td>1999-09-26</td>\n",
       "      <td>['15-minutes-or-less', 'time-to-make', 'course...</td>\n",
       "      <td>[1486.1, 255.0, 0.0, 50.0, 5.0, 119.0, 0.0]</td>\n",
       "      <td>5</td>\n",
       "      <td>['put first 5 ingredients in a clean bowl and ...</td>\n",
       "      <td>NaN</td>\n",
       "      <td>['egg yolk', 'dijon mustard', 'salt', 'cayenne...</td>\n",
       "      <td>6</td>\n",
       "    </tr>\n",
       "    <tr>\n",
       "      <th>117129</th>\n",
       "      <td>key lime and coconut cookies</td>\n",
       "      <td>45957</td>\n",
       "      <td>40</td>\n",
       "      <td>26399</td>\n",
       "      <td>2002-11-14</td>\n",
       "      <td>['60-minutes-or-less', 'time-to-make', 'course...</td>\n",
       "      <td>[2423.9, 210.0, 921.0, 18.0, 78.0, 570.0, 94.0]</td>\n",
       "      <td>12</td>\n",
       "      <td>['preheat oven to 350 degrees', 'grease 2 baki...</td>\n",
       "      <td>NaN</td>\n",
       "      <td>['sweetened condensed milk', 'key lime juice',...</td>\n",
       "      <td>5</td>\n",
       "    </tr>\n",
       "    <tr>\n",
       "      <th>196365</th>\n",
       "      <td>spicy oven fried chicken</td>\n",
       "      <td>46684</td>\n",
       "      <td>65</td>\n",
       "      <td>26399</td>\n",
       "      <td>2002-11-18</td>\n",
       "      <td>['weeknight', 'time-to-make', 'course', 'main-...</td>\n",
       "      <td>[194.2, 12.0, 6.0, 35.0, 35.0, 11.0, 4.0]</td>\n",
       "      <td>14</td>\n",
       "      <td>['heat oven to 425 degrees f', 'lightly coat a...</td>\n",
       "      <td>NaN</td>\n",
       "      <td>['vegetable oil cooking spray', 'buttermilk', ...</td>\n",
       "      <td>11</td>\n",
       "    </tr>\n",
       "    <tr>\n",
       "      <th>104905</th>\n",
       "      <td>herb baked salmon</td>\n",
       "      <td>3993</td>\n",
       "      <td>0</td>\n",
       "      <td>1886</td>\n",
       "      <td>1999-11-10</td>\n",
       "      <td>['15-minutes-or-less', 'time-to-make', 'main-i...</td>\n",
       "      <td>[342.1, 14.0, 7.0, 18.0, 82.0, 8.0, 7.0]</td>\n",
       "      <td>9</td>\n",
       "      <td>['preheat oven to 350 f', 'line a baking tray ...</td>\n",
       "      <td>NaN</td>\n",
       "      <td>['vegetable oil cooking spray', 'salmon fillet...</td>\n",
       "      <td>9</td>\n",
       "    </tr>\n",
       "    <tr>\n",
       "      <th>9827</th>\n",
       "      <td>asparagus milanese</td>\n",
       "      <td>382664</td>\n",
       "      <td>15</td>\n",
       "      <td>714468</td>\n",
       "      <td>2009-07-24</td>\n",
       "      <td>['15-minutes-or-less', 'time-to-make', 'course...</td>\n",
       "      <td>[225.2, 26.0, 13.0, 7.0, 23.0, 45.0, 3.0]</td>\n",
       "      <td>16</td>\n",
       "      <td>['snap off the tough ends of the asparagus', '...</td>\n",
       "      <td>NaN</td>\n",
       "      <td>['asparagus', 'parmigiano-reggiano cheese', 'b...</td>\n",
       "      <td>5</td>\n",
       "    </tr>\n",
       "    <tr>\n",
       "      <th>165600</th>\n",
       "      <td>praline pecan fudge</td>\n",
       "      <td>31549</td>\n",
       "      <td>20</td>\n",
       "      <td>1533</td>\n",
       "      <td>2002-06-20</td>\n",
       "      <td>['30-minutes-or-less', 'time-to-make', 'course...</td>\n",
       "      <td>[185.8, 14.0, 80.0, 1.0, 2.0, 21.0, 8.0]</td>\n",
       "      <td>9</td>\n",
       "      <td>['line a 9-inch pyrex dish in aluminum foil an...</td>\n",
       "      <td>NaN</td>\n",
       "      <td>['praline liqueur', 'pecans', 'butter', 'sugar...</td>\n",
       "      <td>8</td>\n",
       "    </tr>\n",
       "  </tbody>\n",
       "</table>\n",
       "</div>"
      ],
      "text/plain": [
       "                                      name      id  minutes contributor_id  \\\n",
       "101949  hamantaschen cookies  haman s hats     833        8         123897   \n",
       "19854                   beef   noodle bake   17371       45          17803   \n",
       "132389           mean lean vegetable chili   31845       45           1533   \n",
       "29096     broccoli and artichoke casserole   29622       40           1533   \n",
       "102214           handmade basic mayonnaise    3621        0           1762   \n",
       "117129        key lime and coconut cookies   45957       40          26399   \n",
       "196365            spicy oven fried chicken   46684       65          26399   \n",
       "104905                   herb baked salmon    3993        0           1886   \n",
       "9827                    asparagus milanese  382664       15         714468   \n",
       "165600                 praline pecan fudge   31549       20           1533   \n",
       "\n",
       "        submitted                                               tags  \\\n",
       "101949 1999-08-08  ['15-minutes-or-less', 'time-to-make', 'course...   \n",
       "19854  2002-01-17  ['60-minutes-or-less', 'time-to-make', 'course...   \n",
       "132389 2002-06-20  ['60-minutes-or-less', 'time-to-make', 'course...   \n",
       "29096  2002-05-29  ['60-minutes-or-less', 'time-to-make', 'course...   \n",
       "102214 1999-09-26  ['15-minutes-or-less', 'time-to-make', 'course...   \n",
       "117129 2002-11-14  ['60-minutes-or-less', 'time-to-make', 'course...   \n",
       "196365 2002-11-18  ['weeknight', 'time-to-make', 'course', 'main-...   \n",
       "104905 1999-11-10  ['15-minutes-or-less', 'time-to-make', 'main-i...   \n",
       "9827   2009-07-24  ['15-minutes-or-less', 'time-to-make', 'course...   \n",
       "165600 2002-06-20  ['30-minutes-or-less', 'time-to-make', 'course...   \n",
       "\n",
       "                                              nutrition  n_steps  \\\n",
       "101949            [89.8, 6.0, 12.0, 2.0, 3.0, 4.0, 3.0]       23   \n",
       "19854       [528.1, 35.0, 51.0, 64.0, 59.0, 55.0, 17.0]        9   \n",
       "132389        [235.7, 6.0, 31.0, 11.0, 24.0, 9.0, 13.0]        6   \n",
       "29096      [574.5, 69.0, 14.0, 37.0, 27.0, 137.0, 11.0]        8   \n",
       "102214      [1486.1, 255.0, 0.0, 50.0, 5.0, 119.0, 0.0]        5   \n",
       "117129  [2423.9, 210.0, 921.0, 18.0, 78.0, 570.0, 94.0]       12   \n",
       "196365        [194.2, 12.0, 6.0, 35.0, 35.0, 11.0, 4.0]       14   \n",
       "104905         [342.1, 14.0, 7.0, 18.0, 82.0, 8.0, 7.0]        9   \n",
       "9827          [225.2, 26.0, 13.0, 7.0, 23.0, 45.0, 3.0]       16   \n",
       "165600         [185.8, 14.0, 80.0, 1.0, 2.0, 21.0, 8.0]        9   \n",
       "\n",
       "                                                    steps description  \\\n",
       "101949  ['hamantaschen are the traditional cookies of ...         NaN   \n",
       "19854   ['brown meat and onion', 'drain', 'add soup an...         NaN   \n",
       "132389  ['in a 4- to 5-quart pan over high heat , comb...         NaN   \n",
       "29096   ['grease 1 1 / 2 casserole dish', 'place artic...         NaN   \n",
       "102214  ['put first 5 ingredients in a clean bowl and ...         NaN   \n",
       "117129  ['preheat oven to 350 degrees', 'grease 2 baki...         NaN   \n",
       "196365  ['heat oven to 425 degrees f', 'lightly coat a...         NaN   \n",
       "104905  ['preheat oven to 350 f', 'line a baking tray ...         NaN   \n",
       "9827    ['snap off the tough ends of the asparagus', '...         NaN   \n",
       "165600  ['line a 9-inch pyrex dish in aluminum foil an...         NaN   \n",
       "\n",
       "                                              ingredients  n_ingredients  \n",
       "101949  ['eggs', 'sugar', 'orange zest', 'margarine', ...              6  \n",
       "19854   ['ground beef', 'onion', 'tomato soup', 'mushr...              9  \n",
       "132389  ['carrots', 'onion', 'tomatoes', 'black beans'...              9  \n",
       "29096   ['artichoke hearts', 'butter', 'cream cheese',...              6  \n",
       "102214  ['egg yolk', 'dijon mustard', 'salt', 'cayenne...              6  \n",
       "117129  ['sweetened condensed milk', 'key lime juice',...              5  \n",
       "196365  ['vegetable oil cooking spray', 'buttermilk', ...             11  \n",
       "104905  ['vegetable oil cooking spray', 'salmon fillet...              9  \n",
       "9827    ['asparagus', 'parmigiano-reggiano cheese', 'b...              5  \n",
       "165600  ['praline liqueur', 'pecans', 'butter', 'sugar...              8  "
      ]
     },
     "execution_count": 14,
     "metadata": {},
     "output_type": "execute_result"
    }
   ],
   "source": [
    "# Row with missing description\n",
    "raw_recipes_df[raw_recipes_df['description'].isna()].sample(10)"
   ]
  },
  {
   "cell_type": "markdown",
   "id": "360bd19e",
   "metadata": {},
   "source": [
    "Since the descriptions are written by the recipe contributors themselves and not available in the source, it is not feasible to impute missing values for the 'description' column. Let us look at the extent to which these missing values constitute the overall dataset."
   ]
  },
  {
   "cell_type": "code",
   "execution_count": 15,
   "id": "a0fddc46",
   "metadata": {},
   "outputs": [
    {
     "name": "stdout",
     "output_type": "stream",
     "text": [
      "Missing values make up 2.15 % of the overall data.\n"
     ]
    }
   ],
   "source": [
    "print('Missing values make up', round(raw_recipes_df.isna().sum().sum()/raw_recipes_df.shape[0]*100, 2), \"%\", \"of the overall data.\")"
   ]
  },
  {
   "cell_type": "markdown",
   "id": "5bfe71dc",
   "metadata": {},
   "source": [
    "Given that the missing values in the 'description' column constitute a small subset of the overall dataset, we can safely drop these rows."
   ]
  },
  {
   "cell_type": "code",
   "execution_count": 16,
   "id": "b7ee1a59",
   "metadata": {},
   "outputs": [],
   "source": [
    "# Drop rows with missing description\n",
    "raw_recipes_df.dropna(subset=['description'], inplace=True)"
   ]
  },
  {
   "cell_type": "code",
   "execution_count": 17,
   "id": "bf879405",
   "metadata": {},
   "outputs": [
    {
     "data": {
      "text/plain": [
       "name              0\n",
       "id                0\n",
       "minutes           0\n",
       "contributor_id    0\n",
       "submitted         0\n",
       "tags              0\n",
       "nutrition         0\n",
       "n_steps           0\n",
       "steps             0\n",
       "description       0\n",
       "ingredients       0\n",
       "n_ingredients     0\n",
       "dtype: int64"
      ]
     },
     "execution_count": 17,
     "metadata": {},
     "output_type": "execute_result"
    }
   ],
   "source": [
    "# Sanity check\n",
    "raw_recipes_df.isna().sum()"
   ]
  },
  {
   "cell_type": "markdown",
   "id": "29b09f5a",
   "metadata": {},
   "source": [
    "We will now take a look at the user interactions dataset to identify any missing values."
   ]
  },
  {
   "cell_type": "code",
   "execution_count": 18,
   "id": "b6aeebe1",
   "metadata": {},
   "outputs": [
    {
     "data": {
      "text/plain": [
       "user_id        0\n",
       "recipe_id      0\n",
       "date           0\n",
       "rating         0\n",
       "review       169\n",
       "dtype: int64"
      ]
     },
     "execution_count": 18,
     "metadata": {},
     "output_type": "execute_result"
    }
   ],
   "source": [
    "raw_users_df.isna().sum()"
   ]
  },
  {
   "cell_type": "markdown",
   "id": "1d16f62c",
   "metadata": {},
   "source": [
    "There are 169 missing values in the 'review' column. values represent. Similar to the 'description' column in the recipes dataset, as the reviews are written by users themselves and are not available in the source, it is not feasible to impute missing values for the 'review' column. Let us now assess the proportion of these missing values in relation to the overall dataset."
   ]
  },
  {
   "cell_type": "code",
   "execution_count": 19,
   "id": "ad43a773",
   "metadata": {},
   "outputs": [
    {
     "name": "stdout",
     "output_type": "stream",
     "text": [
      "Missing values make up 0.01 % of the overall data.\n"
     ]
    }
   ],
   "source": [
    "print('Missing values make up', round(raw_users_df.isna().sum().sum()/raw_users_df.shape[0]*100, 2), \"%\", \"of the overall data.\")"
   ]
  },
  {
   "cell_type": "markdown",
   "id": "656144a3",
   "metadata": {},
   "source": [
    "Given that the missing values in the 'review' column constitute a very small subset of the overall dataset, we can safely drop these rows."
   ]
  },
  {
   "cell_type": "code",
   "execution_count": 20,
   "id": "75adee50",
   "metadata": {},
   "outputs": [],
   "source": [
    "# Drop rows with missing description\n",
    "raw_users_df.dropna(subset=['review'], inplace=True)"
   ]
  },
  {
   "cell_type": "code",
   "execution_count": 21,
   "id": "6d51797f",
   "metadata": {},
   "outputs": [
    {
     "data": {
      "text/plain": [
       "user_id      0\n",
       "recipe_id    0\n",
       "date         0\n",
       "rating       0\n",
       "review       0\n",
       "dtype: int64"
      ]
     },
     "execution_count": 21,
     "metadata": {},
     "output_type": "execute_result"
    }
   ],
   "source": [
    "# Sanity check\n",
    "raw_users_df.isna().sum()"
   ]
  },
  {
   "cell_type": "markdown",
   "id": "0c55be02",
   "metadata": {},
   "source": [
    "### 3.3 Duplicate Data <a class=\"anchor\" id=\"threethree\"></a>"
   ]
  },
  {
   "cell_type": "markdown",
   "id": "a74366ad",
   "metadata": {},
   "source": [
    "Now that we have addressed the missing values, let us proceed to identify any potential duplicates within the datasets."
   ]
  },
  {
   "cell_type": "code",
   "execution_count": 22,
   "id": "d4f3d420",
   "metadata": {},
   "outputs": [
    {
     "name": "stdout",
     "output_type": "stream",
     "text": [
      "duplicated rows in recipes dataset: 0\n",
      "duplicated rows in user interactions dataset: 0\n"
     ]
    }
   ],
   "source": [
    "# Duplicated rows\n",
    "print(\"duplicated rows in recipes dataset:\", raw_recipes_df.duplicated().sum())\n",
    "print(\"duplicated rows in user interactions dataset:\", raw_users_df.duplicated().sum())"
   ]
  },
  {
   "cell_type": "markdown",
   "id": "0c935593",
   "metadata": {},
   "source": [
    "Great! It appears that there are no duplicated rows within the datasets."
   ]
  },
  {
   "cell_type": "markdown",
   "id": "0e7d1cf2",
   "metadata": {},
   "source": [
    "## 4 Data Preprocessing <a class=\"anchor\" id=\"four\"></a>"
   ]
  },
  {
   "cell_type": "markdown",
   "id": "ab767f64",
   "metadata": {},
   "source": [
    "After completing the data cleaning phase, we will proceed to the data preprocessing stage. Let's revisit the recipes dataframe to review its current state."
   ]
  },
  {
   "cell_type": "code",
   "execution_count": 23,
   "id": "d2be6f1c",
   "metadata": {},
   "outputs": [
    {
     "data": {
      "text/html": [
       "<div>\n",
       "<style scoped>\n",
       "    .dataframe tbody tr th:only-of-type {\n",
       "        vertical-align: middle;\n",
       "    }\n",
       "\n",
       "    .dataframe tbody tr th {\n",
       "        vertical-align: top;\n",
       "    }\n",
       "\n",
       "    .dataframe thead th {\n",
       "        text-align: right;\n",
       "    }\n",
       "</style>\n",
       "<table border=\"1\" class=\"dataframe\">\n",
       "  <thead>\n",
       "    <tr style=\"text-align: right;\">\n",
       "      <th></th>\n",
       "      <th>name</th>\n",
       "      <th>id</th>\n",
       "      <th>minutes</th>\n",
       "      <th>contributor_id</th>\n",
       "      <th>submitted</th>\n",
       "      <th>tags</th>\n",
       "      <th>nutrition</th>\n",
       "      <th>n_steps</th>\n",
       "      <th>steps</th>\n",
       "      <th>description</th>\n",
       "      <th>ingredients</th>\n",
       "      <th>n_ingredients</th>\n",
       "    </tr>\n",
       "  </thead>\n",
       "  <tbody>\n",
       "    <tr>\n",
       "      <th>0</th>\n",
       "      <td>arriba   baked winter squash mexican style</td>\n",
       "      <td>137739</td>\n",
       "      <td>55</td>\n",
       "      <td>47892</td>\n",
       "      <td>2005-09-16</td>\n",
       "      <td>['60-minutes-or-less', 'time-to-make', 'course...</td>\n",
       "      <td>[51.5, 0.0, 13.0, 0.0, 2.0, 0.0, 4.0]</td>\n",
       "      <td>11</td>\n",
       "      <td>['make a choice and proceed with recipe', 'dep...</td>\n",
       "      <td>autumn is my favorite time of year to cook! th...</td>\n",
       "      <td>['winter squash', 'mexican seasoning', 'mixed ...</td>\n",
       "      <td>7</td>\n",
       "    </tr>\n",
       "    <tr>\n",
       "      <th>1</th>\n",
       "      <td>a bit different  breakfast pizza</td>\n",
       "      <td>31490</td>\n",
       "      <td>30</td>\n",
       "      <td>26278</td>\n",
       "      <td>2002-06-17</td>\n",
       "      <td>['30-minutes-or-less', 'time-to-make', 'course...</td>\n",
       "      <td>[173.4, 18.0, 0.0, 17.0, 22.0, 35.0, 1.0]</td>\n",
       "      <td>9</td>\n",
       "      <td>['preheat oven to 425 degrees f', 'press dough...</td>\n",
       "      <td>this recipe calls for the crust to be prebaked...</td>\n",
       "      <td>['prepared pizza crust', 'sausage patty', 'egg...</td>\n",
       "      <td>6</td>\n",
       "    </tr>\n",
       "    <tr>\n",
       "      <th>2</th>\n",
       "      <td>all in the kitchen  chili</td>\n",
       "      <td>112140</td>\n",
       "      <td>130</td>\n",
       "      <td>196586</td>\n",
       "      <td>2005-02-25</td>\n",
       "      <td>['time-to-make', 'course', 'preparation', 'mai...</td>\n",
       "      <td>[269.8, 22.0, 32.0, 48.0, 39.0, 27.0, 5.0]</td>\n",
       "      <td>6</td>\n",
       "      <td>['brown ground beef in large pot', 'add choppe...</td>\n",
       "      <td>this modified version of 'mom's' chili was a h...</td>\n",
       "      <td>['ground beef', 'yellow onions', 'diced tomato...</td>\n",
       "      <td>13</td>\n",
       "    </tr>\n",
       "    <tr>\n",
       "      <th>3</th>\n",
       "      <td>alouette  potatoes</td>\n",
       "      <td>59389</td>\n",
       "      <td>45</td>\n",
       "      <td>68585</td>\n",
       "      <td>2003-04-14</td>\n",
       "      <td>['60-minutes-or-less', 'time-to-make', 'course...</td>\n",
       "      <td>[368.1, 17.0, 10.0, 2.0, 14.0, 8.0, 20.0]</td>\n",
       "      <td>11</td>\n",
       "      <td>['place potatoes in a large pot of lightly sal...</td>\n",
       "      <td>this is a super easy, great tasting, make ahea...</td>\n",
       "      <td>['spreadable cheese with garlic and herbs', 'n...</td>\n",
       "      <td>11</td>\n",
       "    </tr>\n",
       "    <tr>\n",
       "      <th>4</th>\n",
       "      <td>amish  tomato ketchup  for canning</td>\n",
       "      <td>44061</td>\n",
       "      <td>190</td>\n",
       "      <td>41706</td>\n",
       "      <td>2002-10-25</td>\n",
       "      <td>['weeknight', 'time-to-make', 'course', 'main-...</td>\n",
       "      <td>[352.9, 1.0, 337.0, 23.0, 3.0, 0.0, 28.0]</td>\n",
       "      <td>5</td>\n",
       "      <td>['mix all ingredients&amp; boil for 2 1 / 2 hours ...</td>\n",
       "      <td>my dh's amish mother raised him on this recipe...</td>\n",
       "      <td>['tomato juice', 'apple cider vinegar', 'sugar...</td>\n",
       "      <td>8</td>\n",
       "    </tr>\n",
       "  </tbody>\n",
       "</table>\n",
       "</div>"
      ],
      "text/plain": [
       "                                         name      id  minutes contributor_id  \\\n",
       "0  arriba   baked winter squash mexican style  137739       55          47892   \n",
       "1            a bit different  breakfast pizza   31490       30          26278   \n",
       "2                   all in the kitchen  chili  112140      130         196586   \n",
       "3                          alouette  potatoes   59389       45          68585   \n",
       "4          amish  tomato ketchup  for canning   44061      190          41706   \n",
       "\n",
       "   submitted                                               tags  \\\n",
       "0 2005-09-16  ['60-minutes-or-less', 'time-to-make', 'course...   \n",
       "1 2002-06-17  ['30-minutes-or-less', 'time-to-make', 'course...   \n",
       "2 2005-02-25  ['time-to-make', 'course', 'preparation', 'mai...   \n",
       "3 2003-04-14  ['60-minutes-or-less', 'time-to-make', 'course...   \n",
       "4 2002-10-25  ['weeknight', 'time-to-make', 'course', 'main-...   \n",
       "\n",
       "                                    nutrition  n_steps  \\\n",
       "0       [51.5, 0.0, 13.0, 0.0, 2.0, 0.0, 4.0]       11   \n",
       "1   [173.4, 18.0, 0.0, 17.0, 22.0, 35.0, 1.0]        9   \n",
       "2  [269.8, 22.0, 32.0, 48.0, 39.0, 27.0, 5.0]        6   \n",
       "3   [368.1, 17.0, 10.0, 2.0, 14.0, 8.0, 20.0]       11   \n",
       "4   [352.9, 1.0, 337.0, 23.0, 3.0, 0.0, 28.0]        5   \n",
       "\n",
       "                                               steps  \\\n",
       "0  ['make a choice and proceed with recipe', 'dep...   \n",
       "1  ['preheat oven to 425 degrees f', 'press dough...   \n",
       "2  ['brown ground beef in large pot', 'add choppe...   \n",
       "3  ['place potatoes in a large pot of lightly sal...   \n",
       "4  ['mix all ingredients& boil for 2 1 / 2 hours ...   \n",
       "\n",
       "                                         description  \\\n",
       "0  autumn is my favorite time of year to cook! th...   \n",
       "1  this recipe calls for the crust to be prebaked...   \n",
       "2  this modified version of 'mom's' chili was a h...   \n",
       "3  this is a super easy, great tasting, make ahea...   \n",
       "4  my dh's amish mother raised him on this recipe...   \n",
       "\n",
       "                                         ingredients  n_ingredients  \n",
       "0  ['winter squash', 'mexican seasoning', 'mixed ...              7  \n",
       "1  ['prepared pizza crust', 'sausage patty', 'egg...              6  \n",
       "2  ['ground beef', 'yellow onions', 'diced tomato...             13  \n",
       "3  ['spreadable cheese with garlic and herbs', 'n...             11  \n",
       "4  ['tomato juice', 'apple cider vinegar', 'sugar...              8  "
      ]
     },
     "execution_count": 23,
     "metadata": {},
     "output_type": "execute_result"
    }
   ],
   "source": [
    "# View recipes dataset\n",
    "raw_recipes_df.head()"
   ]
  },
  {
   "cell_type": "markdown",
   "id": "9e3d9a1d",
   "metadata": {},
   "source": [
    "It appears that splitting the values in the 'nutrition' column and creating new columns for each nutritional metric would be beneficial. In the next section, we will proceed with this data transformation step. "
   ]
  },
  {
   "cell_type": "code",
   "execution_count": 24,
   "id": "0d3c921b",
   "metadata": {},
   "outputs": [
    {
     "data": {
      "text/html": [
       "<div>\n",
       "<style scoped>\n",
       "    .dataframe tbody tr th:only-of-type {\n",
       "        vertical-align: middle;\n",
       "    }\n",
       "\n",
       "    .dataframe tbody tr th {\n",
       "        vertical-align: top;\n",
       "    }\n",
       "\n",
       "    .dataframe thead th {\n",
       "        text-align: right;\n",
       "    }\n",
       "</style>\n",
       "<table border=\"1\" class=\"dataframe\">\n",
       "  <thead>\n",
       "    <tr style=\"text-align: right;\">\n",
       "      <th></th>\n",
       "      <th>user_id</th>\n",
       "      <th>recipe_id</th>\n",
       "      <th>date</th>\n",
       "      <th>rating</th>\n",
       "      <th>review</th>\n",
       "    </tr>\n",
       "  </thead>\n",
       "  <tbody>\n",
       "    <tr>\n",
       "      <th>0</th>\n",
       "      <td>38094</td>\n",
       "      <td>40893</td>\n",
       "      <td>2003-02-17</td>\n",
       "      <td>4</td>\n",
       "      <td>Great with a salad. Cooked on top of stove for...</td>\n",
       "    </tr>\n",
       "    <tr>\n",
       "      <th>1</th>\n",
       "      <td>1293707</td>\n",
       "      <td>40893</td>\n",
       "      <td>2011-12-21</td>\n",
       "      <td>5</td>\n",
       "      <td>So simple, so delicious! Great for chilly fall...</td>\n",
       "    </tr>\n",
       "    <tr>\n",
       "      <th>2</th>\n",
       "      <td>8937</td>\n",
       "      <td>44394</td>\n",
       "      <td>2002-12-01</td>\n",
       "      <td>4</td>\n",
       "      <td>This worked very well and is EASY.  I used not...</td>\n",
       "    </tr>\n",
       "    <tr>\n",
       "      <th>3</th>\n",
       "      <td>126440</td>\n",
       "      <td>85009</td>\n",
       "      <td>2010-02-27</td>\n",
       "      <td>5</td>\n",
       "      <td>I made the Mexican topping and took it to bunk...</td>\n",
       "    </tr>\n",
       "    <tr>\n",
       "      <th>4</th>\n",
       "      <td>57222</td>\n",
       "      <td>85009</td>\n",
       "      <td>2011-10-01</td>\n",
       "      <td>5</td>\n",
       "      <td>Made the cheddar bacon topping, adding a sprin...</td>\n",
       "    </tr>\n",
       "  </tbody>\n",
       "</table>\n",
       "</div>"
      ],
      "text/plain": [
       "   user_id recipe_id       date  rating  \\\n",
       "0    38094     40893 2003-02-17       4   \n",
       "1  1293707     40893 2011-12-21       5   \n",
       "2     8937     44394 2002-12-01       4   \n",
       "3   126440     85009 2010-02-27       5   \n",
       "4    57222     85009 2011-10-01       5   \n",
       "\n",
       "                                              review  \n",
       "0  Great with a salad. Cooked on top of stove for...  \n",
       "1  So simple, so delicious! Great for chilly fall...  \n",
       "2  This worked very well and is EASY.  I used not...  \n",
       "3  I made the Mexican topping and took it to bunk...  \n",
       "4  Made the cheddar bacon topping, adding a sprin...  "
      ]
     },
     "execution_count": 24,
     "metadata": {},
     "output_type": "execute_result"
    }
   ],
   "source": [
    "# View user interactions dataset\n",
    "raw_users_df.head()"
   ]
  },
  {
   "cell_type": "markdown",
   "id": "c7c7913b",
   "metadata": {},
   "source": [
    "The user interactions dataset looks good (for now).\n",
    "\n",
    "Regarding both datasets, we have made a deliberate decision to postpone the preprocessing of the text data in the columns until the modeling stage. This choice stems from recognizing the intricate nature of text data preprocessing and the diverse range of available approaches. By deferring the preprocessing step, we gain the opportunity to thoroughly explore various techniques and strategies specific to text data. This approach empowers us to make well-informed decisions tailored to the requirements of our modeling tasks and leverage the most effective methods for handling and analyzing textual information."
   ]
  },
  {
   "cell_type": "markdown",
   "id": "f11b68dd",
   "metadata": {},
   "source": [
    "### 4.4 Column Splitting <a class=\"anchor\" id=\"fourone\"></a>"
   ]
  },
  {
   "cell_type": "markdown",
   "id": "3869508f",
   "metadata": {},
   "source": [
    "The 'nutrition' column in the dataframe consists of a list of values representing various nutritional metrics, including calories, total fat, sugar, sodium, protein, and saturated fat. To facilitate further analysis, we have split these values and created new columns to capture each nutritional metric individually. Subsequently, we drop the original 'nutrition' column from the dataframe, as we have already extracted the nutritional metrics into separate columns."
   ]
  },
  {
   "cell_type": "code",
   "execution_count": 25,
   "id": "e39bb85a",
   "metadata": {},
   "outputs": [],
   "source": [
    "# Split the values in the 'nutrition' column into separate columns\n",
    "nutrition_columns = ['calories', 'total_fat', 'sugar', 'sodium', 'protein', 'saturated_fat']\n",
    "\n",
    "for column in nutrition_columns:\n",
    "    raw_recipes_df[column] = raw_recipes_df['nutrition'].apply(lambda x: eval(x)[nutrition_columns.index(column)])\n",
    "\n",
    "# Drop the original 'nutrition' column\n",
    "raw_recipes_df.drop('nutrition', axis=1, inplace=True)"
   ]
  },
  {
   "cell_type": "code",
   "execution_count": 26,
   "id": "6c5527e5",
   "metadata": {},
   "outputs": [
    {
     "data": {
      "text/html": [
       "<div>\n",
       "<style scoped>\n",
       "    .dataframe tbody tr th:only-of-type {\n",
       "        vertical-align: middle;\n",
       "    }\n",
       "\n",
       "    .dataframe tbody tr th {\n",
       "        vertical-align: top;\n",
       "    }\n",
       "\n",
       "    .dataframe thead th {\n",
       "        text-align: right;\n",
       "    }\n",
       "</style>\n",
       "<table border=\"1\" class=\"dataframe\">\n",
       "  <thead>\n",
       "    <tr style=\"text-align: right;\">\n",
       "      <th></th>\n",
       "      <th>name</th>\n",
       "      <th>id</th>\n",
       "      <th>minutes</th>\n",
       "      <th>contributor_id</th>\n",
       "      <th>submitted</th>\n",
       "      <th>tags</th>\n",
       "      <th>n_steps</th>\n",
       "      <th>steps</th>\n",
       "      <th>description</th>\n",
       "      <th>ingredients</th>\n",
       "      <th>n_ingredients</th>\n",
       "      <th>calories</th>\n",
       "      <th>total_fat</th>\n",
       "      <th>sugar</th>\n",
       "      <th>sodium</th>\n",
       "      <th>protein</th>\n",
       "      <th>saturated_fat</th>\n",
       "    </tr>\n",
       "  </thead>\n",
       "  <tbody>\n",
       "    <tr>\n",
       "      <th>0</th>\n",
       "      <td>arriba   baked winter squash mexican style</td>\n",
       "      <td>137739</td>\n",
       "      <td>55</td>\n",
       "      <td>47892</td>\n",
       "      <td>2005-09-16</td>\n",
       "      <td>['60-minutes-or-less', 'time-to-make', 'course...</td>\n",
       "      <td>11</td>\n",
       "      <td>['make a choice and proceed with recipe', 'dep...</td>\n",
       "      <td>autumn is my favorite time of year to cook! th...</td>\n",
       "      <td>['winter squash', 'mexican seasoning', 'mixed ...</td>\n",
       "      <td>7</td>\n",
       "      <td>51.5</td>\n",
       "      <td>0.0</td>\n",
       "      <td>13.0</td>\n",
       "      <td>0.0</td>\n",
       "      <td>2.0</td>\n",
       "      <td>0.0</td>\n",
       "    </tr>\n",
       "    <tr>\n",
       "      <th>1</th>\n",
       "      <td>a bit different  breakfast pizza</td>\n",
       "      <td>31490</td>\n",
       "      <td>30</td>\n",
       "      <td>26278</td>\n",
       "      <td>2002-06-17</td>\n",
       "      <td>['30-minutes-or-less', 'time-to-make', 'course...</td>\n",
       "      <td>9</td>\n",
       "      <td>['preheat oven to 425 degrees f', 'press dough...</td>\n",
       "      <td>this recipe calls for the crust to be prebaked...</td>\n",
       "      <td>['prepared pizza crust', 'sausage patty', 'egg...</td>\n",
       "      <td>6</td>\n",
       "      <td>173.4</td>\n",
       "      <td>18.0</td>\n",
       "      <td>0.0</td>\n",
       "      <td>17.0</td>\n",
       "      <td>22.0</td>\n",
       "      <td>35.0</td>\n",
       "    </tr>\n",
       "    <tr>\n",
       "      <th>2</th>\n",
       "      <td>all in the kitchen  chili</td>\n",
       "      <td>112140</td>\n",
       "      <td>130</td>\n",
       "      <td>196586</td>\n",
       "      <td>2005-02-25</td>\n",
       "      <td>['time-to-make', 'course', 'preparation', 'mai...</td>\n",
       "      <td>6</td>\n",
       "      <td>['brown ground beef in large pot', 'add choppe...</td>\n",
       "      <td>this modified version of 'mom's' chili was a h...</td>\n",
       "      <td>['ground beef', 'yellow onions', 'diced tomato...</td>\n",
       "      <td>13</td>\n",
       "      <td>269.8</td>\n",
       "      <td>22.0</td>\n",
       "      <td>32.0</td>\n",
       "      <td>48.0</td>\n",
       "      <td>39.0</td>\n",
       "      <td>27.0</td>\n",
       "    </tr>\n",
       "    <tr>\n",
       "      <th>3</th>\n",
       "      <td>alouette  potatoes</td>\n",
       "      <td>59389</td>\n",
       "      <td>45</td>\n",
       "      <td>68585</td>\n",
       "      <td>2003-04-14</td>\n",
       "      <td>['60-minutes-or-less', 'time-to-make', 'course...</td>\n",
       "      <td>11</td>\n",
       "      <td>['place potatoes in a large pot of lightly sal...</td>\n",
       "      <td>this is a super easy, great tasting, make ahea...</td>\n",
       "      <td>['spreadable cheese with garlic and herbs', 'n...</td>\n",
       "      <td>11</td>\n",
       "      <td>368.1</td>\n",
       "      <td>17.0</td>\n",
       "      <td>10.0</td>\n",
       "      <td>2.0</td>\n",
       "      <td>14.0</td>\n",
       "      <td>8.0</td>\n",
       "    </tr>\n",
       "    <tr>\n",
       "      <th>4</th>\n",
       "      <td>amish  tomato ketchup  for canning</td>\n",
       "      <td>44061</td>\n",
       "      <td>190</td>\n",
       "      <td>41706</td>\n",
       "      <td>2002-10-25</td>\n",
       "      <td>['weeknight', 'time-to-make', 'course', 'main-...</td>\n",
       "      <td>5</td>\n",
       "      <td>['mix all ingredients&amp; boil for 2 1 / 2 hours ...</td>\n",
       "      <td>my dh's amish mother raised him on this recipe...</td>\n",
       "      <td>['tomato juice', 'apple cider vinegar', 'sugar...</td>\n",
       "      <td>8</td>\n",
       "      <td>352.9</td>\n",
       "      <td>1.0</td>\n",
       "      <td>337.0</td>\n",
       "      <td>23.0</td>\n",
       "      <td>3.0</td>\n",
       "      <td>0.0</td>\n",
       "    </tr>\n",
       "  </tbody>\n",
       "</table>\n",
       "</div>"
      ],
      "text/plain": [
       "                                         name      id  minutes contributor_id  \\\n",
       "0  arriba   baked winter squash mexican style  137739       55          47892   \n",
       "1            a bit different  breakfast pizza   31490       30          26278   \n",
       "2                   all in the kitchen  chili  112140      130         196586   \n",
       "3                          alouette  potatoes   59389       45          68585   \n",
       "4          amish  tomato ketchup  for canning   44061      190          41706   \n",
       "\n",
       "   submitted                                               tags  n_steps  \\\n",
       "0 2005-09-16  ['60-minutes-or-less', 'time-to-make', 'course...       11   \n",
       "1 2002-06-17  ['30-minutes-or-less', 'time-to-make', 'course...        9   \n",
       "2 2005-02-25  ['time-to-make', 'course', 'preparation', 'mai...        6   \n",
       "3 2003-04-14  ['60-minutes-or-less', 'time-to-make', 'course...       11   \n",
       "4 2002-10-25  ['weeknight', 'time-to-make', 'course', 'main-...        5   \n",
       "\n",
       "                                               steps  \\\n",
       "0  ['make a choice and proceed with recipe', 'dep...   \n",
       "1  ['preheat oven to 425 degrees f', 'press dough...   \n",
       "2  ['brown ground beef in large pot', 'add choppe...   \n",
       "3  ['place potatoes in a large pot of lightly sal...   \n",
       "4  ['mix all ingredients& boil for 2 1 / 2 hours ...   \n",
       "\n",
       "                                         description  \\\n",
       "0  autumn is my favorite time of year to cook! th...   \n",
       "1  this recipe calls for the crust to be prebaked...   \n",
       "2  this modified version of 'mom's' chili was a h...   \n",
       "3  this is a super easy, great tasting, make ahea...   \n",
       "4  my dh's amish mother raised him on this recipe...   \n",
       "\n",
       "                                         ingredients  n_ingredients  calories  \\\n",
       "0  ['winter squash', 'mexican seasoning', 'mixed ...              7      51.5   \n",
       "1  ['prepared pizza crust', 'sausage patty', 'egg...              6     173.4   \n",
       "2  ['ground beef', 'yellow onions', 'diced tomato...             13     269.8   \n",
       "3  ['spreadable cheese with garlic and herbs', 'n...             11     368.1   \n",
       "4  ['tomato juice', 'apple cider vinegar', 'sugar...              8     352.9   \n",
       "\n",
       "   total_fat  sugar  sodium  protein  saturated_fat  \n",
       "0        0.0   13.0     0.0      2.0            0.0  \n",
       "1       18.0    0.0    17.0     22.0           35.0  \n",
       "2       22.0   32.0    48.0     39.0           27.0  \n",
       "3       17.0   10.0     2.0     14.0            8.0  \n",
       "4        1.0  337.0    23.0      3.0            0.0  "
      ]
     },
     "execution_count": 26,
     "metadata": {},
     "output_type": "execute_result"
    }
   ],
   "source": [
    "# Sanity check\n",
    "raw_recipes_df.head()"
   ]
  },
  {
   "cell_type": "code",
   "execution_count": 27,
   "id": "77bee0f4",
   "metadata": {},
   "outputs": [
    {
     "name": "stdout",
     "output_type": "stream",
     "text": [
      "<class 'pandas.core.frame.DataFrame'>\n",
      "Int64Index: 226657 entries, 0 to 231636\n",
      "Data columns (total 17 columns):\n",
      " #   Column          Non-Null Count   Dtype         \n",
      "---  ------          --------------   -----         \n",
      " 0   name            226657 non-null  object        \n",
      " 1   id              226657 non-null  object        \n",
      " 2   minutes         226657 non-null  int64         \n",
      " 3   contributor_id  226657 non-null  object        \n",
      " 4   submitted       226657 non-null  datetime64[ns]\n",
      " 5   tags            226657 non-null  object        \n",
      " 6   n_steps         226657 non-null  int64         \n",
      " 7   steps           226657 non-null  object        \n",
      " 8   description     226657 non-null  object        \n",
      " 9   ingredients     226657 non-null  object        \n",
      " 10  n_ingredients   226657 non-null  int64         \n",
      " 11  calories        226657 non-null  float64       \n",
      " 12  total_fat       226657 non-null  float64       \n",
      " 13  sugar           226657 non-null  float64       \n",
      " 14  sodium          226657 non-null  float64       \n",
      " 15  protein         226657 non-null  float64       \n",
      " 16  saturated_fat   226657 non-null  float64       \n",
      "dtypes: datetime64[ns](1), float64(6), int64(3), object(7)\n",
      "memory usage: 31.1+ MB\n"
     ]
    }
   ],
   "source": [
    "# Check datatypes of new columns\n",
    "raw_recipes_df.info()"
   ]
  },
  {
   "cell_type": "markdown",
   "id": "80a458da",
   "metadata": {},
   "source": [
    "Wonderful! As a result of the data transformation, we have successfully created separate columns to represent each specific nutritional value. These columns now store the respective nutritional metrics as floating-point values, which facilitates further analysis and computations involving these nutritional attributes."
   ]
  },
  {
   "cell_type": "markdown",
   "id": "67a0dc0d",
   "metadata": {},
   "source": [
    "#### Saving the data"
   ]
  },
  {
   "cell_type": "markdown",
   "id": "ec678bed",
   "metadata": {},
   "source": [
    "After diligently cleaning the datasets, it is important to save them to files for future use. By preserving these clean datasets, we can readily leverage them during the exploratory data analysis (EDA) phase. Saving the cleaned datasets ensures that the processed data is readily available, allowing us to delve into a comprehensive analysis of the dataset's characteristics and relationships."
   ]
  },
  {
   "cell_type": "code",
   "execution_count": 29,
   "id": "15d809fb",
   "metadata": {},
   "outputs": [],
   "source": [
    "# Save the clean datasets\n",
    "raw_recipes_df.to_pickle(\"clean_recipes.pkl\")\n",
    "raw_users_df.to_pickle(\"clean_interactions.pkl\")"
   ]
  },
  {
   "cell_type": "markdown",
   "id": "023cbef5",
   "metadata": {},
   "source": [
    "## 5 Conclusion <a class=\"anchor\" id=\"five\"></a>"
   ]
  },
  {
   "cell_type": "markdown",
   "id": "97c40f0a",
   "metadata": {},
   "source": [
    "During the data preprocessing step of the recipe recommendation system, the following changes and actions were performed:\n",
    "\n",
    "- Converted the 'id' columns from integer to string data type for consistency and manipulation ease.\n",
    "- Dropped rows with missing values in the 'name' column and rows with missing values in the 'description' column.\n",
    "- Verified that there were no duplicate rows in the dataset.\n",
    "- Split the values in the 'nutrition' column, creating new columns for each individual nutritional value (calories, total fat, sugar, sodium, protein, saturated fat).\n",
    "\n",
    "With the datasets now clean and appropriately processed, we are well-prepared for the next phase of our project, which involves EDA and modeling. "
   ]
  }
 ],
 "metadata": {
  "kernelspec": {
   "display_name": "Python 3 (ipykernel)",
   "language": "python",
   "name": "python3"
  },
  "language_info": {
   "codemirror_mode": {
    "name": "ipython",
    "version": 3
   },
   "file_extension": ".py",
   "mimetype": "text/x-python",
   "name": "python",
   "nbconvert_exporter": "python",
   "pygments_lexer": "ipython3",
   "version": "3.11.2"
  }
 },
 "nbformat": 4,
 "nbformat_minor": 5
}
