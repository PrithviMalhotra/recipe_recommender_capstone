{
 "cells": [
  {
   "cell_type": "code",
   "execution_count": null,
   "metadata": {},
   "outputs": [],
   "source": [
    "food_df =pd.read_pickle(\"drive/My Drive/food.pkl\")\n",
    "food_df.head()"
   ]
  },
  {
   "cell_type": "code",
   "execution_count": null,
   "metadata": {},
   "outputs": [],
   "source": [
    "# import libraries\n",
    "import string\n",
    "import nltk\n",
    "nltk.download('stopwords')\n",
    "from nltk.corpus import stopwords"
   ]
  },
  {
   "cell_type": "code",
   "execution_count": null,
   "metadata": {},
   "outputs": [],
   "source": [
    "# Create a function for tokenizer\n",
    "\n",
    "stemmer = nltk.stem.PorterStemmer()\n",
    "ENGLISH_STOP_WORDS = stopwords.words('english')\n",
    "\n",
    "def recipe_tokenizer(sentence):\n",
    "    # remove punctuation and set to lower case\n",
    "    for punctuation_mark in string.punctuation:\n",
    "        sentence = sentence.replace(punctuation_mark,'').lower()\n",
    "\n",
    "    # split sentence into words\n",
    "    listofwords = sentence.split(' ')\n",
    "    listofstemmed_words = []\n",
    "\n",
    "    # remove stopwords and any tokens that are just empty strings\n",
    "    for word in listofwords:\n",
    "        if (not word in ENGLISH_STOP_WORDS) and (word!=''):\n",
    "            # Stem words\n",
    "            stemmed_word = stemmer.stem(word)\n",
    "            listofstemmed_words.append(stemmed_word)\n",
    "\n",
    "    return listofstemmed_words"
   ]
  },
  {
   "cell_type": "code",
   "execution_count": null,
   "metadata": {},
   "outputs": [],
   "source": [
    "# Import libraries\n",
    "from sklearn.feature_extraction.text import TfidfVectorizer\n",
    "from sklearn.metrics.pairwise import cosine_similarity\n",
    "\n",
    "# Create a function for finding recipes\n",
    "def find_similar_recipes(food_df, recipe_index, num_similar=5):\n",
    "    # Step 1: Concatenate relevant columns\n",
    "    food_df['text_data'] = food_df[['name', 'tags', 'steps', 'description', 'ingredients']].astype(str).agg(' '.join, axis=1)\n",
    "\n",
    "    # Step 2: Preprocess the text data (example: lowercase conversion)\n",
    "    food_df['text_data'] = food_df['text_data'].str.lower()\n",
    "\n",
    "    # Step 3: Vectorize the text data using TF-IDF\n",
    "    vectorizer = TfidfVectorizer(min_df=5,\n",
    "                        tokenizer=recipe_tokenizer)\n",
    "    vectorized_data = vectorizer.fit_transform(food_df['text_data'])\n",
    "\n",
    "    # Step 4: Compute cosine similarity\n",
    "    cosine_sim_matrix = cosine_similarity(vectorized_data)\n",
    "\n",
    "    # Step 5: Retrieve similar recipes\n",
    "    similar_recipes = cosine_sim_matrix[recipe_index].argsort()[::-1][1:num_similar+1]  # Exclude the recipe itself\n",
    "\n",
    "    # Get similar recipe names\n",
    "    similar_recipe_names = food_df.loc[similar_recipes, 'name'].tolist()\n",
    "\n",
    "    return similar_recipe_names"
   ]
  },
  {
   "cell_type": "code",
   "execution_count": null,
   "metadata": {},
   "outputs": [],
   "source": [
    "# Test\n",
    "recipe_index = 0  # Index of the recipe for which you want to find similar recipes\n",
    "similar_recipes = find_similar_recipes(food_df, recipe_index, num_similar=5)\n",
    "print(\"Similar Recipes:\")\n",
    "for i, recipe in enumerate(similar_recipes):\n",
    "    print(f\"{i+1}. {recipe}\")"
   ]
  }
 ],
 "metadata": {
  "kernelspec": {
   "display_name": "capstone",
   "language": "python",
   "name": "python3"
  },
  "language_info": {
   "name": "python",
   "version": "3.8.17"
  },
  "orig_nbformat": 4
 },
 "nbformat": 4,
 "nbformat_minor": 2
}
