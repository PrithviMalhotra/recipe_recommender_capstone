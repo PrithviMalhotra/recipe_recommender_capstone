{
 "cells": [
  {
   "cell_type": "code",
   "execution_count": null,
   "metadata": {},
   "outputs": [],
   "source": [
    "from sklearn.feature_extraction.text import TfidfVectorizer\n",
    "from sklearn.metrics.pairwise import cosine_similarity\n",
    "\n",
    "# Step 1: Concatenate relevant columns\n",
    "food_df['text_data'] = food_df[['name', 'tags', 'steps', 'description', 'ingredients']].astype(str).agg(' '.join, axis=1)\n",
    "\n",
    "# Step 2: Preprocess the text data (example: lowercase conversion)\n",
    "food_df['text_data'] = food_df['text_data'].str.lower()\n",
    "\n",
    "# Step 3: Vectorize the text data using TF-IDF\n",
    "vectorizer = TfidfVectorizer()\n",
    "vectorized_data = vectorizer.fit_transform(food_df['text_data'])\n",
    "\n",
    "# Step 4: Compute cosine similarity\n",
    "cosine_sim_matrix = cosine_similarity(vectorized_data)\n",
    "\n",
    "# Step 5: Retrieve similar recipes\n",
    "recipe_index = 0  # Index of the recipe for which you want to find similar recipes\n",
    "similar_recipes = cosine_sim_matrix[recipe_index].argsort()[::-1][1:]  # Exclude the recipe itself\n",
    "\n",
    "# Print the top 5 similar recipes\n",
    "for i in range(5):\n",
    "    similar_recipe_index = similar_recipes[i]\n",
    "    similar_recipe_name = food_df.loc[similar_recipe_index, 'name']\n",
    "    print(f\"Similar Recipe {i+1}: {similar_recipe_name}\")"
   ]
  }
 ],
 "metadata": {
  "kernelspec": {
   "display_name": "capstone",
   "language": "python",
   "name": "python3"
  },
  "language_info": {
   "name": "python",
   "version": "3.8.17"
  },
  "orig_nbformat": 4
 },
 "nbformat": 4,
 "nbformat_minor": 2
}
